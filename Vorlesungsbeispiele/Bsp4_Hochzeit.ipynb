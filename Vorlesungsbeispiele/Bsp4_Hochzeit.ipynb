{
 "nbformat": 4,
 "nbformat_minor": 2,
 "metadata": {
  "language_info": {
   "name": "python",
   "codemirror_mode": {
    "name": "ipython",
    "version": 3
   },
   "version": "3.7.6-final"
  },
  "orig_nbformat": 2,
  "file_extension": ".py",
  "mimetype": "text/x-python",
  "name": "python",
  "npconvert_exporter": "python",
  "pygments_lexer": "ipython3",
  "version": 3,
  "kernelspec": {
   "name": "python3",
   "display_name": "Python 3"
  }
 },
 "cells": [
  {
   "cell_type": "markdown",
   "metadata": {},
   "source": [
    "# Beispiel 4 Hochzeit\n",
    "\n",
    "## Problemdaten:\n",
    "\n",
    "Neun Personen sollen auf drei Tische verteilt werden, sodass die Sympathie-Werte der Personen pro Tisch maximiert wird.\n",
    "\n",
    "### Sympathie-Werte\n",
    "\n",
    "|           | Anna | Berti | Carl | Dieter | Emil | Franz | Gerd | Hanna | Ilse |\n",
    "|:---------:|:----:|:-----:|:----:|:------:|:----:|:-----:|:----:|:-----:|:----:|\n",
    "|    Anna   |   0  |   6   |   4  |   10   |   1  |   2   |   6  |   2   |   4  |\n",
    "|   Berti   |   6  |   0   |   7  |    3   |   6  |   1   |   5  |   10  |   5  |\n",
    "|    Carl   |   4  |   7   |   0  |   10   |   6  |   3   |  10  |   1   |   4  |\n",
    "|   Dieter  |  10  |   3   |  10  |    0   |   4  |   6   |   9  |   6   |  10  |\n",
    "|    Emil   |   1  |   6   |   6  |    4   |   0  |   10  |   1  |   2   |   4  |\n",
    "|   Franz   |   2  |   1   |   3  |    6   |  10  |   0   |   9  |   7   |   7  |\n",
    "|    Gerd   |   6  |   5   |  10  |    9   |   1  |   9   |   0  |   1   |   9  |\n",
    "|   Hanna   |   2  |   10  |   1  |    6   |   2  |   7   |   1  |   0   |   8  |\n",
    "|    Ilse   |   4  |   5   |   4  |   10   |   4  |   7   |   9  |   8   |   0  |\n",
    "\n",
    "### Tischgrößen\n",
    "\n",
    "Die drei Tische haben die Größe: 4, 3 und 2 Plätze"
   ],
   "execution_count": null,
   "outputs": []
  },
  {
   "cell_type": "code",
   "execution_count": null,
   "metadata": {},
   "outputs": [],
   "source": [
    "import gurobipy as gp\n",
    "from gurobipy import GRB"
   ]
  },
  {
   "cell_type": "markdown",
   "metadata": {},
   "source": [
    "## Mengen - Definition"
   ],
   "execution_count": null,
   "outputs": []
  },
  {
   "cell_type": "code",
   "execution_count": null,
   "metadata": {},
   "outputs": [],
   "source": [
    "numberOfDesks = 3\n",
    "numberOfPersons = 9\n",
    "\n",
    "desks = range(numberOfDesks)\n",
    "persons = range(numberOfPersons)"
   ]
  },
  {
   "cell_type": "markdown",
   "metadata": {},
   "source": [
    "## Parameter Eingabe\n",
    "\n",
    "Sympathie-Werte:"
   ],
   "execution_count": null,
   "outputs": []
  },
  {
   "cell_type": "code",
   "execution_count": null,
   "metadata": {},
   "outputs": [],
   "source": [
    "sympathy = [[0, 6, 4, 10, 1, 2, 6, 2, 4],\n",
    "            [6, 0, 7, 3, 6, 1, 5, 10, 5],\n",
    "            [4, 7, 0, 10, 6, 3, 10, 1, 4],\n",
    "            [10, 3, 10, 0, 4, 6, 9, 6, 10],\n",
    "            [1, 6, 6, 4, 0, 10, 1, 2, 4],\n",
    "            [2, 1, 3, 6, 10, 0, 9, 7, 7],\n",
    "            [6, 5, 10, 9, 1, 9, 0, 1, 9],\n",
    "            [2, 10, 1, 6, 2, 7, 1, 0, 8],\n",
    "            [4, 5, 4, 10, 4, 7, 9, 8, 0]]"
   ]
  },
  {
   "cell_type": "markdown",
   "metadata": {},
   "source": [
    "Tischgrößen:"
   ],
   "execution_count": null,
   "outputs": []
  },
  {
   "cell_type": "code",
   "execution_count": null,
   "metadata": {},
   "outputs": [],
   "source": [
    "capacity = [4, 3, 2]"
   ]
  },
  {
   "cell_type": "markdown",
   "metadata": {},
   "source": [
    "## Initialisierung des Modells"
   ],
   "execution_count": null,
   "outputs": []
  },
  {
   "cell_type": "code",
   "execution_count": null,
   "metadata": {},
   "outputs": [],
   "source": [
    "m = gp.Model()"
   ]
  },
  {
   "cell_type": "markdown",
   "metadata": {},
   "source": [
    "## Initialisierung der Variablen"
   ],
   "execution_count": null,
   "outputs": []
  },
  {
   "cell_type": "code",
   "execution_count": null,
   "metadata": {},
   "outputs": [],
   "source": [
    "x = m.addVars(numberOfPersons, numberOfDesks, vtype=GRB.BINARY, name=\"x\")"
   ]
  },
  {
   "cell_type": "markdown",
   "metadata": {},
   "source": [
    "## Definition der Zielfunktion"
   ],
   "execution_count": null,
   "outputs": []
  },
  {
   "cell_type": "code",
   "execution_count": null,
   "metadata": {},
   "outputs": [],
   "source": [
    "m.setObjective(\n",
    "    gp.quicksum(\n",
    "        gp.quicksum(\n",
    "            gp.quicksum(\n",
    "                sympathy[person1][person2] * x[person1, desk] * x[person2, desk]\n",
    "            for desk in desks)\n",
    "        for person2 in persons if person2 != person1)\n",
    "    for person1 in persons),\n",
    "GRB.MAXIMIZE)"
   ]
  },
  {
   "cell_type": "markdown",
   "metadata": {},
   "source": [
    "## Hinzufügen von Nebenbedingungen"
   ],
   "execution_count": null,
   "outputs": []
  },
  {
   "cell_type": "code",
   "execution_count": null,
   "metadata": {},
   "outputs": [],
   "source": [
    "for desk in desks:\n",
    "    m.addConstr(gp.quicksum(x[person, desk] for person in persons) <= capacity[desk], name=\"ConstrDesk\"+str(desk))\n",
    "\n",
    "#m.addConstrs((x.sum('*',desk) <= capacity[desk] for desk in desks), name=\"ConstrDesk\")\n",
    "\n",
    "for person in persons:\n",
    "    m.addConstr(gp.quicksum(x[person, desk] for desk in desks) == 1, name=\"ConstrPerson\"+str(person))\n",
    "\n",
    "#m.addConstrs((x.sum(person,'*') == 1 for person in persons), name=\"ConstrPerson\")"
   ]
  },
  {
   "cell_type": "markdown",
   "metadata": {},
   "source": [
    "## Optimierung des Modells"
   ],
   "execution_count": null,
   "outputs": []
  },
  {
   "cell_type": "code",
   "execution_count": null,
   "metadata": {},
   "outputs": [],
   "source": [
    "m.optimize()"
   ]
  },
  {
   "cell_type": "markdown",
   "metadata": {},
   "source": [
    "## Ergebnisausgabe"
   ],
   "execution_count": null,
   "outputs": []
  },
  {
   "cell_type": "code",
   "execution_count": null,
   "metadata": {},
   "outputs": [],
   "source": [
    "m.printAttr('ObjVal')"
   ]
  },
  {
   "cell_type": "code",
   "execution_count": null,
   "metadata": {},
   "outputs": [],
   "source": [
    "m.printAttr('X')"
   ]
  },
  {
   "cell_type": "markdown",
   "metadata": {},
   "source": [
    "## Intelligente Ausgabe\n",
    "\n",
    "Defintion der Namen:"
   ],
   "execution_count": null,
   "outputs": []
  },
  {
   "cell_type": "code",
   "execution_count": null,
   "metadata": {},
   "outputs": [],
   "source": [
    "names = [\"Anna\", \"Berti\", \"Carl\", \"Dieter\", \"Emil\", \"Franz\", \"Gerd\", \"Hanna\", \"Ilse\"]"
   ]
  },
  {
   "cell_type": "code",
   "execution_count": null,
   "metadata": {},
   "outputs": [],
   "source": [
    "print(\"Sitzverteilung\\n\")\n",
    "for person in persons:\n",
    "    for desk in desks:\n",
    "        if x[person, desk].X > 0:\n",
    "            print(names[person], \"\\tsitzt am Tisch\", desk)"
   ]
  },
  {
   "cell_type": "code",
   "execution_count": null,
   "metadata": {},
   "outputs": [],
   "source": [
    "for desk in desks:\n",
    "    print(\"\\nPersonen am Tisch\", desk)\n",
    "    for person1 in range(numberOfPersons-1):\n",
    "        for person2 in range(person1+1, numberOfPersons):\n",
    "            if x[person1, desk].X * x[person2, desk].X > 0:\n",
    "                print(names[person1], \"\\tund\", names[person2], \"\\thaben den Sympathiewert:\", sympathy[person1][person2])"
   ]
  },
  {
   "cell_type": "code",
   "execution_count": null,
   "metadata": {},
   "outputs": [],
   "source": []
  }
 ]
}