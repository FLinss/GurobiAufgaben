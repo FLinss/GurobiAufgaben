{
 "nbformat": 4,
 "nbformat_minor": 2,
 "metadata": {
  "language_info": {
   "name": "python",
   "codemirror_mode": {
    "name": "ipython",
    "version": 3
   },
   "version": "3.7.6-final"
  },
  "orig_nbformat": 2,
  "file_extension": ".py",
  "mimetype": "text/x-python",
  "name": "python",
  "npconvert_exporter": "python",
  "pygments_lexer": "ipython3",
  "version": 3,
  "kernelspec": {
   "name": "python3",
   "display_name": "Python 3"
  }
 },
 "cells": [
  {
   "cell_type": "markdown",
   "metadata": {},
   "source": [
    "# Beispiel 3 - Mengendarstellung\n",
    "\n",
    "## Aufgabenstellung \n",
    "\n",
    "Löse folgendes mathematisches Optimierungsproblem:\n",
    "\\begin{equation*}\n",
    "\t\\textrm{max } G =  \\sum_{j=1}^{J}g_jx_j\n",
    "\\end{equation*}\n",
    "\n",
    "\\begin{align*}\n",
    "\t&& \\textrm{u.d.N.: }  \\sum_{j=1}^{J}a_{ij}x_j &\\leq T_j && \\textrm{für } i = 1,2,\\dots,I \\\\\n",
    "\t&& x_j &\\geq 0 &&  \\textrm{für } j = 1,2,\\dots,J\n",
    "\\end{align*}\n",
    "\n",
    "mit folgenden Daten:\n",
    "\n",
    "\\begin{equation}\n",
    "    g = \n",
    "    \\begin{pmatrix}\n",
    "    10 \\\\\n",
    "    20\n",
    "    \\end{pmatrix}, \n",
    "        a = \n",
    "    \\begin{pmatrix}\n",
    "    6 & 2 \\\\\n",
    "    10 & 10 \\\\\n",
    "\t1 & 4\n",
    "    \\end{pmatrix},\n",
    "    T = \n",
    "    \\begin{pmatrix}\n",
    "    480 \\\\\n",
    "    1000 \\\\\n",
    "    280\n",
    "    \\end{pmatrix}\n",
    "\\end{equation}\n",
    "\n",
    "|     | $g_j$ |\n",
    "|:---:|------:|\n",
    "| $j=1$ |    10 |\n",
    "| $j=2$ |    20 |\n",
    "\n",
    "| $a_{ij}$ | $j=1$ | $j=2$ |\t\n",
    "|:-------:|----:|----:|\n",
    "|   $i=1$   |   6 |   2 |\n",
    "|   $i=2$   |  10 |  10 |\n",
    "|   $i=3$   |   1 |   4 |\n",
    "\n",
    "|     | $T_i$ |\n",
    "|:---:|------:|\n",
    "| $i=1$ |   480 |\n",
    "| $i=2$ |  1000 |\n",
    "| $i=3$ |   280 |"
   ],
   "execution_count": null,
   "outputs": []
  },
  {
   "cell_type": "code",
   "execution_count": null,
   "metadata": {},
   "outputs": [],
   "source": [
    "import gurobipy as gp\n",
    "from gurobipy import GRB"
   ]
  },
  {
   "cell_type": "markdown",
   "metadata": {},
   "source": [
    "## Eingabe der Parameter\n",
    "\\begin{equation}\n",
    "    g = \n",
    "    \\begin{pmatrix}\n",
    "    10 \\\\\n",
    "    20\n",
    "    \\end{pmatrix}\n",
    "\\end{equation}"
   ],
   "execution_count": null,
   "outputs": []
  },
  {
   "cell_type": "code",
   "execution_count": null,
   "metadata": {},
   "outputs": [],
   "source": [
    "g = [10, 20]"
   ]
  },
  {
   "cell_type": "markdown",
   "metadata": {},
   "source": [
    "\\begin{equation}\n",
    "    a = \n",
    "    \\begin{pmatrix}\n",
    "    6 & 2 \\\\\n",
    "    10 & 10 \\\\\n",
    "\t1 & 4\n",
    "    \\end{pmatrix}\n",
    "\\end{equation}"
   ],
   "execution_count": null,
   "outputs": []
  },
  {
   "cell_type": "code",
   "execution_count": null,
   "metadata": {},
   "outputs": [],
   "source": [
    "a = [[6, 2],\n",
    "    [10, 10],\n",
    "    [1, 4]]"
   ]
  },
  {
   "cell_type": "markdown",
   "metadata": {},
   "source": [
    "\\begin{equation}\n",
    "    T = \n",
    "    \\begin{pmatrix}\n",
    "    480 \\\\\n",
    "    1000 \\\\\n",
    "    280\n",
    "    \\end{pmatrix}\n",
    "\\end{equation}"
   ],
   "execution_count": null,
   "outputs": []
  },
  {
   "cell_type": "code",
   "execution_count": null,
   "metadata": {},
   "outputs": [],
   "source": [
    "T = [480, 1000, 280]"
   ]
  },
  {
   "cell_type": "markdown",
   "metadata": {},
   "source": [
    "## Definition der Mengen"
   ],
   "execution_count": null,
   "outputs": []
  },
  {
   "cell_type": "code",
   "execution_count": null,
   "metadata": {},
   "outputs": [],
   "source": [
    "I_max = 3\n",
    "J_max = 2\n",
    "\n",
    "I = range(I_max)\n",
    "J = range(J_max)"
   ]
  },
  {
   "cell_type": "markdown",
   "metadata": {},
   "source": [
    "## Initalisierung des Modells"
   ],
   "execution_count": null,
   "outputs": []
  },
  {
   "cell_type": "code",
   "execution_count": null,
   "metadata": {},
   "outputs": [],
   "source": [
    "m = gp.Model()"
   ]
  },
  {
   "cell_type": "markdown",
   "metadata": {},
   "source": [
    "## Initialisierung der Variablen\n",
    "$$ x_j \\geq 0 \\textrm{ für } j = 1,2\\dots,J $$\n",
    "Ausführliche Fassung:"
   ],
   "execution_count": null,
   "outputs": []
  },
  {
   "cell_type": "code",
   "execution_count": null,
   "metadata": {},
   "outputs": [],
   "source": [
    "x={}\n",
    "for j in J:\n",
    "    x[j] = m.addVar(obj=g[j], name=\"x\"+str(j))"
   ]
  },
  {
   "cell_type": "markdown",
   "metadata": {},
   "source": [
    "Kurzfassung:"
   ],
   "execution_count": null,
   "outputs": []
  },
  {
   "cell_type": "code",
   "execution_count": null,
   "metadata": {},
   "outputs": [],
   "source": [
    "#x = m.addVars(J_max, obj=g, name=\"x\")"
   ]
  },
  {
   "cell_type": "markdown",
   "metadata": {},
   "source": [],
   "execution_count": null,
   "outputs": []
  },
  {
   "cell_type": "markdown",
   "metadata": {},
   "source": [
    "## Definition der Zielfunktion\n",
    "\n",
    "$$ \\textrm{max } 10x_1 + 20x_2 = G $$\n",
    "\n",
    "Diese wird hier bereits über die Zielfunktionskoeffizienten `obj` der Variablen definiert. Sie kann aber auch explizit definiert werden."
   ],
   "execution_count": null,
   "outputs": []
  },
  {
   "cell_type": "code",
   "execution_count": null,
   "metadata": {},
   "outputs": [],
   "source": [
    "m.modelSense = GRB.MAXIMIZE\n",
    "# m.setObjective = (gp.quicksum(g[i] * x[i] for i in I),GRB.MAXIMIZE)"
   ]
  },
  {
   "cell_type": "markdown",
   "metadata": {},
   "source": [
    "## Hinzufügen der Nebenbedingungen\n",
    "\n",
    "$$ \\sum_{j=1}^{J}a_{ij}x_j \\leq T_j  \\textrm{ für } i = 1,2,\\dots,I $$"
   ],
   "execution_count": null,
   "outputs": []
  },
  {
   "cell_type": "markdown",
   "metadata": {},
   "source": [
    "Ausführliche Fassung:"
   ],
   "execution_count": null,
   "outputs": []
  },
  {
   "cell_type": "code",
   "execution_count": null,
   "metadata": {},
   "outputs": [],
   "source": [
    "for i in I:\n",
    "    m.addConstr(gp.quicksum(a[i][j] * x[j] for j in J) <= T[i], name=\"c\"+str(i))"
   ]
  },
  {
   "cell_type": "markdown",
   "metadata": {},
   "source": [
    "Kurze Fassung: "
   ],
   "execution_count": null,
   "outputs": []
  },
  {
   "cell_type": "code",
   "execution_count": null,
   "metadata": {},
   "outputs": [],
   "source": [
    "#m.addConstrs(gp.quicksum(a[i][j] * x[j] for j in J) <= T[i] for i in I)"
   ]
  },
  {
   "cell_type": "markdown",
   "metadata": {},
   "source": [
    "## Optimierung des Modells"
   ],
   "execution_count": null,
   "outputs": []
  },
  {
   "cell_type": "code",
   "execution_count": null,
   "metadata": {},
   "outputs": [],
   "source": [
    "m.optimize()"
   ]
  },
  {
   "cell_type": "markdown",
   "metadata": {},
   "source": [
    "## Ergebnisausgabe"
   ],
   "execution_count": null,
   "outputs": []
  },
  {
   "cell_type": "code",
   "execution_count": null,
   "metadata": {},
   "outputs": [],
   "source": [
    "m.printAttr(GRB.Attr.X)"
   ]
  },
  {
   "cell_type": "code",
   "execution_count": null,
   "metadata": {},
   "outputs": [],
   "source": [
    "m.printAttr(GRB.Attr.ObjVal)"
   ]
  }
 ]
}