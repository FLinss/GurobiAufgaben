{
 "cells": [
  {
   "cell_type": "markdown",
   "metadata": {},
   "source": [
    "# Beispiel 3 - Mengendarstellung\n",
    "\n",
    "## Aufgabenstellung \n",
    "\n",
    "Löse folgendes mathematisches Optimierungsproblem:\n",
    "\\begin{equation*}\n",
    "\t\\textrm{max } G =  \\sum_{j=1}^{J}g_jx_j\n",
    "\\end{equation*}\n",
    "\n",
    "\\begin{align*}\n",
    "\t&& \\textrm{u.d.N.: }  \\sum_{j=1}^{J}a_{ij}x_j &\\leq T_i && \\textrm{für } i = 1,2,\\dots,I \\\\\n",
    "\t&& x_j &\\geq 0 &&  \\textrm{für } j = 1,2,\\dots,J\n",
    "\\end{align*}\n",
    "\n",
    "mit folgenden Daten:\n",
    "\n",
    "\\begin{equation}\n",
    "    g = \n",
    "    \\begin{pmatrix}\n",
    "    10 \\\\\n",
    "    20\n",
    "    \\end{pmatrix}, \n",
    "        a = \n",
    "    \\begin{pmatrix}\n",
    "    6 & 2 \\\\\n",
    "    10 & 10 \\\\\n",
    "\t1 & 4\n",
    "    \\end{pmatrix},\n",
    "    T = \n",
    "    \\begin{pmatrix}\n",
    "    480 \\\\\n",
    "    1000 \\\\\n",
    "    280\n",
    "    \\end{pmatrix}\n",
    "\\end{equation}\n"
   ]
  },
  {
   "cell_type": "code",
   "execution_count": null,
   "metadata": {},
   "outputs": [],
   "source": [
    "import gurobipy as gp\n",
    "from gurobipy import GRB"
   ]
  },
  {
   "cell_type": "markdown",
   "metadata": {},
   "source": [
    "## Definition der Mengen"
   ]
  },
  {
   "cell_type": "code",
   "execution_count": null,
   "metadata": {},
   "outputs": [],
   "source": [
    "I_max = 3\n",
    "J_max = 2\n",
    "\n",
    "I = range(I_max)\n",
    "J = range(J_max)"
   ]
  },
  {
   "cell_type": "markdown",
   "metadata": {},
   "source": [
    "## Eingabe der Parameter\n",
    "\\begin{equation}\n",
    "    g = \n",
    "    \\begin{pmatrix}\n",
    "    10 \\\\\n",
    "    20\n",
    "    \\end{pmatrix}\n",
    "\\end{equation}"
   ]
  },
  {
   "cell_type": "code",
   "execution_count": null,
   "metadata": {},
   "outputs": [],
   "source": [
    "g = [10, 20]"
   ]
  },
  {
   "cell_type": "markdown",
   "metadata": {},
   "source": [
    "\\begin{equation}\n",
    "    a = \n",
    "    \\begin{pmatrix}\n",
    "    6 & 2 \\\\\n",
    "    10 & 10 \\\\\n",
    "\t1 & 4\n",
    "    \\end{pmatrix}\n",
    "\\end{equation}"
   ]
  },
  {
   "cell_type": "code",
   "execution_count": null,
   "metadata": {},
   "outputs": [],
   "source": [
    "a = [[6, 2],\n",
    "    [10, 10],\n",
    "    [1, 4]]"
   ]
  },
  {
   "cell_type": "markdown",
   "metadata": {},
   "source": [
    "\\begin{equation}\n",
    "    T = \n",
    "    \\begin{pmatrix}\n",
    "    480 \\\\\n",
    "    1000 \\\\\n",
    "    280\n",
    "    \\end{pmatrix}\n",
    "\\end{equation}"
   ]
  },
  {
   "cell_type": "code",
   "execution_count": null,
   "metadata": {},
   "outputs": [],
   "source": [
    "T = [480, 1000, 280]"
   ]
  },
  {
   "cell_type": "markdown",
   "metadata": {},
   "source": [
    "## Initialisierung des Modells"
   ]
  },
  {
   "cell_type": "code",
   "execution_count": null,
   "metadata": {},
   "outputs": [],
   "source": [
    "m = gp.Model()"
   ]
  },
  {
   "cell_type": "markdown",
   "metadata": {},
   "source": [
    "## Initialisierung der Variablen\n",
    "$$ x_j \\geq 0 \\textrm{ für } j = 1,2\\dots,J $$\n",
    "Ausführliche Fassung:"
   ]
  },
  {
   "cell_type": "code",
   "execution_count": null,
   "metadata": {},
   "outputs": [],
   "source": [
    "x={}\n",
    "for j in J:\n",
    "    x[j] = m.addVar(obj=g[j], name=\"x\"+str(j))"
   ]
  },
  {
   "cell_type": "markdown",
   "metadata": {},
   "source": [
    "Kurzfassung:"
   ]
  },
  {
   "cell_type": "code",
   "execution_count": null,
   "metadata": {},
   "outputs": [],
   "source": [
    "#x = m.addVars(J_max, obj=g, name=\"x\")"
   ]
  },
  {
   "cell_type": "markdown",
   "metadata": {},
   "source": []
  },
  {
   "cell_type": "markdown",
   "metadata": {},
   "source": [
    "## Definition der Zielfunktion\n",
    "\n",
    "$$ \\textrm{max } G =  \\sum_{j=1}^{J}g_jx_j $$\n",
    "\n",
    "Diese wird hier bereits über die Zielfunktionskoeffizienten `obj` der Variablen definiert. Sie kann aber auch explizit definiert werden."
   ]
  },
  {
   "cell_type": "code",
   "execution_count": null,
   "metadata": {},
   "outputs": [],
   "source": [
    "m.modelSense = GRB.MAXIMIZE\n",
    "#m.setObjective(gp.quicksum(g[j] * x[j] for j in J),GRB.MAXIMIZE)"
   ]
  },
  {
   "cell_type": "markdown",
   "metadata": {},
   "source": [
    "## Hinzufügen der Nebenbedingungen\n",
    "\n",
    "$$ \\sum_{j=1}^{J}a_{ij}x_j \\leq T_i  \\textrm{ für } i = 1,2,\\dots,I $$"
   ]
  },
  {
   "cell_type": "markdown",
   "metadata": {},
   "source": [
    "Ausführliche Fassung:"
   ]
  },
  {
   "cell_type": "code",
   "execution_count": null,
   "metadata": {},
   "outputs": [],
   "source": [
    "for i in I:\n",
    "    m.addConstr(gp.quicksum(a[i][j] * x[j] for j in J) <= T[i], name=\"c\"+str(i))"
   ]
  },
  {
   "cell_type": "markdown",
   "metadata": {},
   "source": [
    "Kurze Fassung: "
   ]
  },
  {
   "cell_type": "code",
   "execution_count": null,
   "metadata": {},
   "outputs": [],
   "source": [
    "#m.addConstrs((gp.quicksum(a[i][j] * x[j] for j in J) <= T[i] for i in I), name=\"c\")"
   ]
  },
  {
   "cell_type": "markdown",
   "metadata": {},
   "source": [
    "## Optimierung des Modells"
   ]
  },
  {
   "cell_type": "code",
   "execution_count": null,
   "metadata": {},
   "outputs": [],
   "source": [
    "m.optimize()"
   ]
  },
  {
   "cell_type": "markdown",
   "metadata": {},
   "source": [
    "## Ergebnisausgabe"
   ]
  },
  {
   "cell_type": "code",
   "execution_count": null,
   "metadata": {},
   "outputs": [],
   "source": [
    "m.printAttr(GRB.Attr.X)"
   ]
  },
  {
   "cell_type": "code",
   "execution_count": null,
   "metadata": {},
   "outputs": [],
   "source": [
    "m.printAttr(GRB.Attr.ObjVal)"
   ]
  },
  {
   "cell_type": "code",
   "execution_count": null,
   "metadata": {},
   "outputs": [],
   "source": []
  }
 ],
 "metadata": {
  "language_info": {
   "name": "python",
   "codemirror_mode": {
    "name": "ipython",
    "version": 3
   },
   "version": "3.7.6-final"
  },
  "orig_nbformat": 2,
  "file_extension": ".py",
  "mimetype": "text/x-python",
  "name": "python",
  "npconvert_exporter": "python",
  "pygments_lexer": "ipython3",
  "version": 3,
  "kernelspec": {
   "name": "python3",
   "display_name": "Python 3"
  }
 },
 "nbformat": 4,
 "nbformat_minor": 2
}