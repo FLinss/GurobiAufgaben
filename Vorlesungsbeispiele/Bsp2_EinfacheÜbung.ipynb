{
 "nbformat": 4,
 "nbformat_minor": 2,
 "metadata": {
  "language_info": {
   "name": "python",
   "codemirror_mode": {
    "name": "ipython",
    "version": 3
   },
   "version": "3.7.6-final"
  },
  "orig_nbformat": 2,
  "file_extension": ".py",
  "mimetype": "text/x-python",
  "name": "python",
  "npconvert_exporter": "python",
  "pygments_lexer": "ipython3",
  "version": 3,
  "kernelspec": {
   "name": "python3",
   "display_name": "Python 3"
  }
 },
 "cells": [
  {
   "cell_type": "markdown",
   "metadata": {},
   "source": [
    "# Beispiel 2 - Freizeitgestaltung\n",
    "\n",
    "## Aufgabenstellung\n",
    "\n",
    "Löse folgendes mathematisches Optimierungsproblem:\n",
    "\n",
    "\t\\begin{align*}\n",
    "\t\t\\textrm{max } x + y +2z& \\\\\n",
    "\t\t& \\\\\n",
    "\t\t\\textrm{u.d.N.: } 0.5x + y + 2 z &\\leq 3 \\\\\n",
    "\t\tx + y &= 1 \\\\[1mm]\n",
    "\t\tx,y,z &\\in \\{0,1\\}\t\t\n",
    "\t\\end{align*}\n",
    "\n",
    "## Initialisierung des Gurobi-Modells\n",
    "\n",
    "Bevor die Komponenten und Funktionen von Gurobi genutzt werden können, muss das Modul geladen werden. "
   ],
   "execution_count": null,
   "outputs": []
  },
  {
   "cell_type": "code",
   "execution_count": null,
   "metadata": {},
   "outputs": [],
   "source": [
    "import gurobipy as gp\n",
    "from gurobipy import GRB"
   ]
  },
  {
   "cell_type": "markdown",
   "metadata": {},
   "source": [
    "Als erster Schritt wird ein leeres Modell mit dem Namen m erzeugt."
   ],
   "execution_count": null,
   "outputs": []
  },
  {
   "cell_type": "code",
   "execution_count": null,
   "metadata": {},
   "outputs": [],
   "source": [
    "m = gp.Model()"
   ]
  },
  {
   "cell_type": "markdown",
   "metadata": {},
   "source": [
    "## Initialisierung der Entscheidungsvariablen\n",
    "\n",
    "Die Entscheidungsvariablen x, y und z werden schrittweise zu dem Modell m hinzugefügt.\n",
    "\\begin{equation}\n",
    "\t\tx,y,z \\in \\{ 0,1 \\}\t\n",
    "\\end{equation}"
   ],
   "execution_count": null,
   "outputs": []
  },
  {
   "cell_type": "code",
   "execution_count": null,
   "metadata": {},
   "outputs": [],
   "source": [
    "x = m.addVar(vtype=GRB.BINARY, name=\"x\")\n",
    "y = m.addVar(vtype=GRB.BINARY, name=\"y\")\n",
    "z = m.addVar(vtype=GRB.BINARY, name=\"z\")"
   ]
  },
  {
   "cell_type": "markdown",
   "metadata": {},
   "source": [
    "## Definition der Zielfunktion\n",
    "\n",
    "Bei der Definition der Zielfunktion können die vorher definierten Variablen verwendet werden. Die Zielfunktion besteht zum einen aus einem mathematischen Term und zum anderen aus der Optimierungsrichtung (min / max).\n",
    "\\begin{equation}\n",
    "    \\textrm{max } x + y +2z \\\\\n",
    "\\end{equation}"
   ],
   "execution_count": null,
   "outputs": []
  },
  {
   "cell_type": "code",
   "execution_count": null,
   "metadata": {},
   "outputs": [],
   "source": [
    "m.setObjective(x + y + 2*z, GRB.MAXIMIZE)"
   ]
  },
  {
   "cell_type": "markdown",
   "metadata": {},
   "source": [
    "## Hinzufügen der Nebenbedingungen\n",
    "\n",
    "Analog können die Nebenbedingungen hinzugefügt werden.\n",
    "\n",
    "\t\\begin{align}\n",
    "\t\t0.5x + y + 2 z &\\leq 3 \\\\\n",
    "\t\tx + y &= 1 \\\\\n",
    "\t\\end{align}"
   ],
   "execution_count": null,
   "outputs": []
  },
  {
   "cell_type": "code",
   "execution_count": null,
   "metadata": {},
   "outputs": [],
   "source": [
    "m.addConstr(0.5*x + y + 2*z <= 3)\n",
    "m.addConstr(x + y == 1)"
   ]
  },
  {
   "cell_type": "markdown",
   "metadata": {},
   "source": [
    "## Optimierung des Modells\n",
    "\n",
    "Löse das Modell:"
   ],
   "execution_count": null,
   "outputs": []
  },
  {
   "cell_type": "code",
   "execution_count": null,
   "metadata": {},
   "outputs": [],
   "source": [
    "m.optimize()"
   ]
  },
  {
   "cell_type": "markdown",
   "metadata": {},
   "source": [
    "## Ergebnisausgabe\n",
    "\n",
    "Mit dem Befehl `m.printAttr('X')` werden die Lösungswerte $(>0)$ aller Variablen angezeigt:"
   ],
   "execution_count": null,
   "outputs": []
  },
  {
   "cell_type": "code",
   "execution_count": null,
   "metadata": {},
   "outputs": [],
   "source": [
    "m.printAttr('X')"
   ]
  },
  {
   "cell_type": "markdown",
   "metadata": {},
   "source": [
    "Mit dem Befehl `m.printAttr('ObjVal')` wird der Zielfunktionswert angezeigt:"
   ],
   "execution_count": null,
   "outputs": []
  },
  {
   "cell_type": "code",
   "execution_count": null,
   "metadata": {},
   "outputs": [],
   "source": [
    "m.printAttr('ObjVal')"
   ]
  }
 ]
}