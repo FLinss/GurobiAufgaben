{
 "cells": [
  {
   "cell_type": "markdown",
   "metadata": {},
   "source": [
    "# Aufgabe 1 - Prozessorientierte Layoutgestaltung\n",
    "\n",
    "## Mathematisches Modell\n",
    "\n",
    "**Zielfunktion**\n",
    "\n",
    "\\begin{equation}\n",
    "\t\\min\\ \\ Z = \\sum_{h=1}^{p}\\sum_{\\stackrel{i=1}{ i\\ne h}}^{p}\\sum_{j=1}^{p}\\sum_{\\stackrel{k=1}{k\\ne j} }^{p} t_{hi} \\cdot d_{jk} \\cdot x_{hj} \\cdot x_{ik}\n",
    "\\end{equation}\n",
    "\n",
    "**unter den Nebenbedingungen**\n",
    "\n",
    "\\begin{align}\n",
    "&&  \\sum_{j=1}^{p}x_{hj} &= 1 && \\forall h \\\\[5pt]\n",
    "&&  \\sum_{h=1}^{p}x_{hj} &= 1 && \\forall j \\\\[10pt]\n",
    "&& x_{hj} &\\in \\{0,1\\} &&\n",
    "\\end{align}\n"
   ]
  },
  {
   "cell_type": "markdown",
   "metadata": {},
   "source": [
    "## Aufgabe 1b)\n",
    " Lesen Sie die beiden Dateien `Distanz.csv` und `Transport.csv` ein."
   ]
  },
  {
   "cell_type": "code",
   "execution_count": null,
   "metadata": {},
   "outputs": [],
   "source": [
    "import gurobipy as gp\n",
    "from gurobipy import GRB\n",
    "import csv"
   ]
  },
  {
   "cell_type": "markdown",
   "metadata": {},
   "source": [
    "### Distanz.csv\n",
    "\n",
    "\\begin{equation}\n",
    "    \\begin{pmatrix}\n",
    "    0 & 4 & 7 & 3 & 4 & 8 \\\\\n",
    "    4 & 0 & 3 & 5 & 8 & 4 \\\\\n",
    "    7 & 3 & 0 & 4 & 7 & 3 \\\\\n",
    "    3 & 5 & 4 & 0 & 3 & 5 \\\\\n",
    "    4 & 8 & 7 & 3 & 0 & 4 \\\\\n",
    "    8 & 4 & 3 & 5 & 4 & 0 \\\\\n",
    "    \\end{pmatrix}\n",
    "\\end{equation}"
   ]
  },
  {
   "cell_type": "code",
   "execution_count": null,
   "metadata": {},
   "outputs": [],
   "source": [
    "distance=[]\n",
    "with open(\"Distanz.csv\", encoding=\"utf-8\") as csv_file:\n",
    "     csv_reader = csv.reader(csv_file)\n",
    "     for row in csv_reader:\n",
    "          rowAsInt = [int(item) for item in row]\n",
    "          distance.append(rowAsInt)"
   ]
  },
  {
   "cell_type": "markdown",
   "metadata": {},
   "source": [
    "### Transport.csv\n",
    "\\begin{equation}\n",
    "    \\begin{pmatrix}\n",
    "    0 & 3 & 6 & 9 & 8 & 3 \\\\\n",
    "    3 & 0 & 2 & 1 & 3 & 2 \\\\\n",
    "    6 & 2 & 0 & 4 & 0 & 1 \\\\\n",
    "    9 & 1 & 4 & 0 & 3 & 4 \\\\\n",
    "    8 & 3 & 0 & 3 & 0 & 5 \\\\\n",
    "    3 & 2 & 1 & 4 & 5 & 0 \\\\\n",
    "    \\end{pmatrix}\n",
    "\\end{equation}"
   ]
  },
  {
   "cell_type": "code",
   "execution_count": null,
   "metadata": {},
   "outputs": [],
   "source": [
    "transportAmount=[]\n",
    "with open(\"Transport.csv\", encoding=\"utf-8\") as csv_file:\n",
    "     csv_reader = csv.reader(csv_file)\n",
    "     for row in csv_reader:\n",
    "          rowAsInt = [int(item) for item in row]\n",
    "          transportAmount.append(rowAsInt)"
   ]
  },
  {
   "cell_type": "markdown",
   "metadata": {},
   "source": [
    "### Definition der Mengen"
   ]
  },
  {
   "cell_type": "code",
   "execution_count": null,
   "metadata": {},
   "outputs": [],
   "source": [
    "numberOfMaschines = len(transportAmount) # oder händisch: 6\n",
    "maschines = range(numberOfMaschines)\n",
    "numberOfPlaces = len(distance) # oder händisch: 6\n",
    "places = range(numberOfPlaces)"
   ]
  },
  {
   "cell_type": "markdown",
   "metadata": {},
   "source": [
    "## Aufgabe 1c)\n",
    "Initialisieren Sie ein Gurobi-Modell und fügen Sie diesem die erforderlichen Entscheidungsvariablen und die Zielfunktion hinzu."
   ]
  },
  {
   "cell_type": "markdown",
   "metadata": {},
   "source": [
    "### Initialisierung des Modells"
   ]
  },
  {
   "cell_type": "code",
   "execution_count": null,
   "metadata": {},
   "outputs": [],
   "source": [
    "m = gp.Model()"
   ]
  },
  {
   "cell_type": "markdown",
   "metadata": {},
   "source": [
    "### Initialisierung der Variablen"
   ]
  },
  {
   "cell_type": "code",
   "execution_count": null,
   "metadata": {},
   "outputs": [],
   "source": [
    "x = m.addVars(numberOfMaschines, numberOfPlaces, vtype=GRB.BINARY, name=\"x\")\n",
    "\n",
    "#x = {}\n",
    "#for i in maschines:\n",
    "#    for j in places:\n",
    "#        x[i,j] = m.addVar(vtype=GRB.BINARY, name=\"x\"+str(i)+str(j))"
   ]
  },
  {
   "cell_type": "markdown",
   "metadata": {},
   "source": [
    "### Definition der Zielfunktion\n",
    "\n",
    "\\begin{equation}\n",
    "\t\\min\\ \\ Z = \\sum_{h=1}^{p}\\sum_{\\stackrel{i=1}{ i\\ne h}}^{p}\\sum_{j=1}^{p}\\sum_{\\stackrel{k=1}{k\\ne j} }^{p} t_{hi} \\cdot d_{jk} \\cdot x_{hj} \\cdot x_{ik}\n",
    "\\end{equation}"
   ]
  },
  {
   "cell_type": "code",
   "execution_count": null,
   "metadata": {},
   "outputs": [],
   "source": [
    "m.setObjective(\n",
    "    gp.quicksum(\n",
    "        gp.quicksum(\n",
    "            gp.quicksum(\n",
    "                gp.quicksum(\n",
    "                    transportAmount[h][i] * distance[j][k] * x[h,j] * x[i,k] \n",
    "                for i in maschines if i != h)\n",
    "            for h in maschines) \n",
    "        for k in places if k != j) \n",
    "    for j in places),\n",
    "    GRB.MINIMIZE)"
   ]
  },
  {
   "cell_type": "markdown",
   "metadata": {},
   "source": [
    "## Aufgabe 1d)\n",
    "Ergänzen Sie das Modell mit den erforderlichen Nebenbedingungen und lösen Sie das Modell."
   ]
  },
  {
   "cell_type": "markdown",
   "metadata": {},
   "source": [
    "### Hinzufügen der Nebenbedingungen"
   ]
  },
  {
   "cell_type": "code",
   "execution_count": null,
   "metadata": {},
   "outputs": [],
   "source": [
    "for h in maschines:\n",
    "    m.addConstr(gp.quicksum(x[h,j] for j in places) == 1, \"NB1.\" + str(h))\n",
    "\n",
    "#m.addConstrs((x.sum(h,'*') == 1 for h in maschines), \"NB1\")"
   ]
  },
  {
   "cell_type": "code",
   "execution_count": null,
   "metadata": {},
   "outputs": [],
   "source": [
    "for j in places:\n",
    "    m.addConstr(gp.quicksum(x[h,j] for h in maschines) == 1, \"NB.\" + str(j))\n",
    "\n",
    "#m.addConstrs((x.sum('*',j) == 1 for j in places), \"NB2\")"
   ]
  },
  {
   "cell_type": "markdown",
   "metadata": {},
   "source": [
    "### Optimierung"
   ]
  },
  {
   "cell_type": "code",
   "execution_count": null,
   "metadata": {},
   "outputs": [],
   "source": [
    "m.optimize()"
   ]
  },
  {
   "cell_type": "markdown",
   "metadata": {},
   "source": [
    "## Aufgabe 1e)\n",
    "Lassen Sie sich die Maschinenzuordnung ausgeben.\n",
    "\n",
    "Muster: `Maschine M... wird Standort ... zugeordnet.`"
   ]
  },
  {
   "cell_type": "code",
   "execution_count": null,
   "metadata": {},
   "outputs": [],
   "source": [
    "print(\"\\nMaschinenzuordnung:\\n\")\n",
    "\n",
    "for h in maschines:\n",
    "    for j in places:\n",
    "        if x[h,j].X > 0:\n",
    "            # Extra: Konvertiere Index zu Bezeichnung:\n",
    "            placeJ = chr(ord('A') + j)\n",
    "            #Alternativ einfach j ausgeben.\n",
    "            print(\"Maschine M\" + str(h), \"wird Standort\", placeJ, \"zugeordnet.\")"
   ]
  },
  {
   "cell_type": "markdown",
   "metadata": {},
   "source": [
    "## Aufgabe 1f)\n",
    "Lassen Sie sich zusätzlich den gesamten Materialfluss ausgeben und den Materialfluss\n",
    "zwischen den einzelnen Maschinen.\n",
    "\n",
    "Muster: `Zwischen M... und M... fließen ... ME über eine Distanz von ... EE.`\n",
    "\n",
    "`Insgesamter Materialfluss: ... ME*EE.`"
   ]
  },
  {
   "cell_type": "code",
   "execution_count": null,
   "metadata": {},
   "outputs": [],
   "source": [
    "print(\"\\nMaterialfluss:\\n\")\n",
    "\n",
    "for h in range(numberOfMaschines-1):\n",
    "    ''' \n",
    "    Um beide Richtungen des Materialsflusses zusammenzufassen werden nur die Werte der oberen Dreiecksmatrix der Distanzen verwendet. \n",
    "    Also nur Distanzen bei denen die zweite Maschine einen höheren Index hat als die erste Maschine. \n",
    "    Dies ist zulässig, da die Distanzmatrix symmetrisch ist. \n",
    "    '''\n",
    "    for i in range(h+1, numberOfMaschines): \n",
    "        if i != h:\n",
    "            for j in places:\n",
    "                for k in places:\n",
    "                    if k != j and x[h,j].X * x[i,k].X > 0:\n",
    "                        print(\"Zwischen M\"+str(h),\"und M\"+str(i),\"fließen\", transportAmount[h][i]+transportAmount[i][h], \"ME über eine Distanz von\", distance[j][k],\n",
    "                        \"EE.\")\n",
    "print(\"Insgesamter Materialfluss:\", m.getAttr(GRB.Attr.ObjVal), \"ME*EE\")"
   ]
  },
  {
   "cell_type": "markdown",
   "metadata": {},
   "source": [
    "## Aufgabe 1g)\n",
    "Schreiben Sie die Maschinenzuordnung und den Materialfluss in eine `.txt`-Datei."
   ]
  },
  {
   "cell_type": "code",
   "execution_count": null,
   "metadata": {},
   "outputs": [],
   "source": [
    "with open(\"Ergebnis.txt\",\"w\", encoding=\"utf-8\") as f:\n",
    "    f.write(\"Ergebnis der Layoutgestaltung\\n\")\n",
    "    \n",
    "    f.write(\"\\nMaschinenzuordnung:\\n\")\n",
    "    for h in maschines:\n",
    "        for j in places:\n",
    "            if x[h,j].X > 0:\n",
    "                placeJ = chr(ord('A') + j)\n",
    "                #Alternativ einfach j ausgeben.\n",
    "                f.write(\"Maschine M\" + str(h) + \" wird Standort \" + placeJ + \" zugeordnet.\\n\")\n",
    "    \n",
    "    f.write(\"\\nMaterialfluss:\\n\")\n",
    "    for h in range(numberOfMaschines-1):\n",
    "        for i in range(h+1, numberOfMaschines):\n",
    "            if i != h:\n",
    "                for j in places:\n",
    "                    for k in places:\n",
    "                        if k != j and x[h,j].X * x[i,k].X > 0:\n",
    "                            f.write(\"Zwischen M\" + str(h) + \" und M\" + str(i) + \" fließen \" + str(transportAmount[h][i]+transportAmount[i][h])\n",
    "                            + \" ME über eine Distanz von \" + str(distance[j][k]) + \" EE.\\n\")"
   ]
  }
 ],
 "metadata": {
  "language_info": {
   "name": "python",
   "codemirror_mode": {
    "name": "ipython",
    "version": 3
   },
   "version": "3.7.6-final"
  },
  "orig_nbformat": 2,
  "file_extension": ".py",
  "mimetype": "text/x-python",
  "name": "python",
  "npconvert_exporter": "python",
  "pygments_lexer": "ipython3",
  "version": 3,
  "kernelspec": {
   "name": "python3",
   "display_name": "Python 3",
   "language": "python"
  }
 },
 "nbformat": 4,
 "nbformat_minor": 2
}