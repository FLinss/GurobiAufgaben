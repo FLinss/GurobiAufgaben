{
 "cells": [
  {
   "cell_type": "markdown",
   "metadata": {},
   "source": [
    "# Aufgabe 1 - Prozessorientierte Layoutgestaltung\n",
    "\n",
    "## Mathematisches Modell\n",
    "\n",
    "**Zielfunktion**\n",
    "\n",
    "\\begin{equation}\n",
    "\t\\min\\ \\ Z = \\sum_{h=1}^{p}\\sum_{\\stackrel{i=1}{ i\\ne h}}^{p}\\sum_{j=1}^{p}\\sum_{\\stackrel{k=1}{k\\ne j} }^{p} t_{hi} \\cdot d_{jk} \\cdot x_{hj} \\cdot x_{ik}\n",
    "\\end{equation}\n",
    "\n",
    "**unter den Nebenbedingungen**\n",
    "\n",
    "\\begin{align}\n",
    "&&  \\sum_{j=1}^{p}x_{hj} &= 1 && \\forall h \\\\[5pt]\n",
    "&&  \\sum_{h=1}^{p}x_{hj} &= 1 && \\forall j \\\\[10pt]\n",
    "&& x_{hj} &\\in \\{0,1\\} &&\n",
    "\\end{align}\n"
   ]
  },
  {
   "cell_type": "markdown",
   "metadata": {},
   "source": [
    "## Aufgabe 1b)\n",
    " Lesen Sie die beiden Dateien `Distanz.csv` und `Transport.csv` ein."
   ]
  },
  {
   "cell_type": "code",
   "execution_count": null,
   "metadata": {},
   "outputs": [],
   "source": [
    "import gurobipy as gp\n",
    "from gurobipy import GRB\n",
    "import csv"
   ]
  },
  {
   "cell_type": "markdown",
   "metadata": {},
   "source": [
    "### Distanz.csv\n",
    "\n",
    "|  |  |  |  |  |  |\n",
    "|---|---|---|---|---|---|\n",
    "| 0 | 4 | 7 | 3 | 4 | 8 |\n",
    "| 4 | 0 | 3 | 5 | 8 | 4 |\n",
    "| 7 | 3 | 0 | 4 | 7 | 3 |\n",
    "| 3 | 5 | 4 | 0 | 3 | 5 |\n",
    "| 4 | 8 | 7 | 3 | 0 | 4 |\n",
    "| 8 | 4 | 3 | 5 | 4 | 0 |"
   ]
  },
  {
   "cell_type": "code",
   "execution_count": null,
   "metadata": {},
   "outputs": [],
   "source": [
    "distance=[]\n",
    "with open(\"Distanz.csv\", encoding=\"utf-8\") as csv_file:\n",
    "     csv_reader = csv.reader(csv_file)\n",
    "     for row in csv_reader:\n",
    "          rowAsInt = [int(item) for item in row]\n",
    "          distance.append(rowAsInt)"
   ]
  },
  {
   "cell_type": "markdown",
   "metadata": {},
   "source": [
    "### Transport.csv\n",
    "\n",
    "| Ort        | Kapazität | Fixkosten | \n",
    "|:-----------|-----------|-----------| \n",
    "| Dresden    | 400       | 60000     | \n",
    "| Bremen     | 350       | 60000     | \n",
    "| Düsseldorf | 600       | 80000     | "
   ]
  },
  {
   "cell_type": "code",
   "execution_count": null,
   "metadata": {},
   "outputs": [],
   "source": [
    "transportAmount=[]\n",
    "with open(\"Transport.csv\", encoding=\"utf-8\") as csv_file:\n",
    "     csv_reader = csv.reader(csv_file)\n",
    "     for row in csv_reader:\n",
    "          rowAsInt = [int(item) for item in row]\n",
    "          transportAmount.append(rowAsInt)"
   ]
  },
  {
   "cell_type": "markdown",
   "metadata": {},
   "source": [
    "### Definition der Mengen"
   ]
  },
  {
   "cell_type": "code",
   "execution_count": null,
   "metadata": {},
   "outputs": [],
   "source": [
    "numberOfMaschines = len(transportAmount) # oder händisch: 6\n",
    "maschines = range(numberOfMaschines)\n",
    "numberOfPlaces = len(distance) # oder händisch: 6\n",
    "places = range(numberOfPlaces)"
   ]
  },
  {
   "cell_type": "markdown",
   "metadata": {},
   "source": [
    "## Aufgabe 4d)\n",
    "Lassen Sie sich zur Kontrolle jede Zeile der berechneten Kostenmatrix in der Konsole ausgeben und lösen Sie das Problem."
   ]
  },
  {
   "cell_type": "code",
   "execution_count": null,
   "metadata": {},
   "outputs": [],
   "source": [
    "for row in c:\n",
    "    print(row)"
   ]
  },
  {
   "cell_type": "markdown",
   "metadata": {},
   "source": [
    "Initialisierung des Modells:"
   ]
  },
  {
   "cell_type": "code",
   "execution_count": null,
   "metadata": {},
   "outputs": [],
   "source": [
    "m = gp.Model()"
   ]
  },
  {
   "cell_type": "markdown",
   "metadata": {},
   "source": [
    "Initialisierung der Variablen:"
   ]
  },
  {
   "cell_type": "code",
   "execution_count": null,
   "metadata": {},
   "outputs": [],
   "source": [
    "x = {}\n",
    "for i in I:\n",
    "     for j in J:\n",
    "          x[i,j] = m.addVar(vtype=GRB.CONTINUOUS, name=\"x_\"+str(i)+str(j))"
   ]
  },
  {
   "cell_type": "code",
   "execution_count": null,
   "metadata": {},
   "outputs": [],
   "source": [
    "y = {}\n",
    "for i in I:\n",
    "     y[i] = m.addVar(vtype=GRB.BINARY, name=\"y_\"+str(i))"
   ]
  },
  {
   "cell_type": "markdown",
   "metadata": {},
   "source": [
    "Definition der Zielfunktion:"
   ]
  },
  {
   "cell_type": "code",
   "execution_count": null,
   "metadata": {},
   "outputs": [],
   "source": [
    "m.setObjective(gp.quicksum(f[i] * y[i] for i in I) + gp.quicksum(c[i][j] * x[i,j] for j in J for i in I), GRB.MINIMIZE)"
   ]
  },
  {
   "cell_type": "markdown",
   "metadata": {},
   "source": [
    "Hinzufügen der Nebenbedingungen:"
   ]
  },
  {
   "cell_type": "code",
   "execution_count": null,
   "metadata": {},
   "outputs": [],
   "source": [
    "for j in J:\n",
    "     m.addConstr(gp.quicksum(x[i,j] for i in I) == d[j], \"meet_demand_\" + str(j))"
   ]
  },
  {
   "cell_type": "code",
   "execution_count": null,
   "metadata": {},
   "outputs": [],
   "source": [
    "for i in I:\n",
    "     m.addConstr(gp.quicksum(x[i,j] for j in J) <= b[i] * y[i], \"meet_prod_\" + str(i))"
   ]
  },
  {
   "cell_type": "markdown",
   "metadata": {},
   "source": [
    "Optimierung:"
   ]
  },
  {
   "cell_type": "code",
   "execution_count": null,
   "metadata": {},
   "outputs": [],
   "source": [
    "m.optimize()"
   ]
  },
  {
   "cell_type": "markdown",
   "metadata": {},
   "source": [
    "## Aufgabe 4e)\n",
    "Schreiben Sie in die Konsole als Vorbereitung eines aussagekräftigen Ergebnisses den Satz: \"Optimale Standortwahl bei mehreren Betriebsstätten\"."
   ]
  },
  {
   "cell_type": "code",
   "execution_count": null,
   "metadata": {},
   "outputs": [],
   "source": [
    "print(\"\\nOptimale Standortwahl bei mehreren Betriebsstätten\\n\")"
   ]
  },
  {
   "cell_type": "markdown",
   "metadata": {},
   "source": [
    "## Aufgabe 4f)\n",
    "Geben Sie den Zielfunktionswert innerhalb eines Satzes an."
   ]
  },
  {
   "cell_type": "code",
   "execution_count": null,
   "metadata": {},
   "outputs": [],
   "source": [
    "print(\"Die gesamten Kosten des Transportes betragen\", m.getAttr(GRB.Attr.ObjVal), \"GE.\")"
   ]
  },
  {
   "cell_type": "markdown",
   "metadata": {},
   "source": [
    "## Aufgabe 4g)\n",
    "Formulieren Sie anschließend die Standortwahl."
   ]
  },
  {
   "cell_type": "code",
   "execution_count": null,
   "metadata": {},
   "outputs": [],
   "source": [
    "for i in I:\n",
    "     if y[i].X > 0:\n",
    "          print(\"In\", so[i], \"wird ein Standort errichtet.\")\n",
    "          print(\"\\tFixkosten:\", f[i], \"GE\")\n",
    "          print(\"\\tVariable Kosten:\", sum([c[i][j] * x[i,j].X for j in J]), \"GE\")\n",
    "     else:\n",
    "          print(\"In\", so[i], \"wird KEIN Standort errichtet.\")"
   ]
  },
  {
   "cell_type": "markdown",
   "metadata": {},
   "source": [
    "## Aufgabe 4h)\n",
    "Des Weiteren sollen die Lieferungen zwischen den Standorten sowie die jeweils zugehörigen Transportkosten in der Konsole beschrieben werden."
   ]
  },
  {
   "cell_type": "code",
   "execution_count": null,
   "metadata": {},
   "outputs": [],
   "source": [
    "for i in I:\n",
    "     for j in J:\n",
    "          if x[i,j].X > 0:\n",
    "               print(\"Von\", so[i], \"werden\", x[i,j].X, \"ME nach\", ao[j], \"geliefert, die Transportkosten betragen dabei\", c[i][j] * x[i,j].X, \"GE.\")"
   ]
  },
  {
   "cell_type": "markdown",
   "metadata": {},
   "source": [
    "## Aufgabe 4i)\n",
    "Erzeugen Sie eine Textdatei \"Ergebnisausgabe.txt\" und schreiben Sie in diese Datei die Ausgabe von e) -- h)."
   ]
  },
  {
   "cell_type": "code",
   "execution_count": null,
   "metadata": {},
   "outputs": [],
   "source": [
    "with open(\"Ergebnisausgabe.txt\", \"w\", encoding=\"utf-8\") as file:\n",
    "     file.write(\"Optimale Standortwahl bei mehreren Betriebsstätten\\n\\n\")\n",
    "     file.write(\"Die gesamten Kosten des Transportes betragen \" + str(m.getAttr(GRB.Attr.ObjVal)) + \" GE.\\n\")\n",
    "     for i in I:\n",
    "          if y[i].X > 0:\n",
    "               file.write(\"In \" + so[i] + \" wird ein Standort errichtet!\\n\")\n",
    "               file.write(\"\\tFixkosten: \" + str(f[i]) + \"GE \\n\")\n",
    "               file.write(\"\\tVariable Kosten: \" + str(sum([c[i][j] * x[i,j].X for j in J])) + \" GE\\n\")\n",
    "          else:\n",
    "               file.write(\"In \" + so[i] + \" wird KEIN Standort errichtet!\\n\")\n",
    "     file.write(\"\\n\")\n",
    "     for i in I:\n",
    "          for j in J:\n",
    "               if x[i,j].X > 0:\n",
    "                    file.write(\"Von \" + so[i] + \" werden \" + str(x[i,j].X) + \" ME nach \" + ao[j] +\n",
    "                    \" geliefert, die Transportkosten betragen dabei \" + str(c[i][j] * x[i,j].X) + \" GE.\\n\")"
   ]
  }
 ],
 "metadata": {
  "language_info": {
   "name": "python",
   "codemirror_mode": {
    "name": "ipython",
    "version": 3
   },
   "version": "3.7.6-final"
  },
  "orig_nbformat": 2,
  "file_extension": ".py",
  "mimetype": "text/x-python",
  "name": "python",
  "npconvert_exporter": "python",
  "pygments_lexer": "ipython3",
  "version": 3,
  "kernelspec": {
   "name": "python3",
   "display_name": "Python 3"
  }
 },
 "nbformat": 4,
 "nbformat_minor": 2
}