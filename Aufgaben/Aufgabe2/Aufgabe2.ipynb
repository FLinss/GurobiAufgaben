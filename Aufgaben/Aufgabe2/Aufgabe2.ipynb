{
 "cells": [
  {
   "cell_type": "markdown",
   "metadata": {},
   "source": [
    "# Aufgabe 2 - Hauptproduktionsprogramm\n",
    "\n",
    "## Mathematisches Modell\n",
    "\n",
    "**Zielfunktion**\n",
    "\n",
    "\\begin{equation}\n",
    "\t\\min\\ \\ K = \\sum^{K}_{k=1} \\sum^{J}_{j=1} k_{Lj} \\cdot x_{L_{jk}} + \\sum^{K}_{k=1} \\sum^{I}_{i=1} u_{i} \\cdot U_{ik}\n",
    "\\end{equation}\n",
    "\n",
    "**unter den Nebenbedingungen**\n",
    "\n",
    "\\begin{align}\n",
    "&&  x_{L_{j,k-1}} +  x_{jk} - r_{jk} &= x_{L_{jk}}  && \\forall j, \\forall k \\\\[5pt]\n",
    "&&  \\sum^{J}_{j=1} \\sum^{Z_{j}}_{z=0} f_{jiz} \\cdot x_{j,k+z} - U_{ik} &\\leq b_{ik} && \\forall i, \\forall k \\\\[5pt]\n",
    "&&  U_{ik} &\\leq U_{ik,\\max} && \\forall k \\\\[5pt]\n",
    "&& x_{L_{j0}} &= \\bar{x}_{L_{j0}} && \\\\[10pt]\n",
    "\n",
    "&& x_{jk}, \\ x_{L_{jk}}, \\ U_{ik} &\\geq 0 && \\forall j, \\forall k, \\forall i\n",
    "\\end{align}\n",
    "\n",
    "## Daten\n",
    "\n",
    "### Kapazitätsbelastung\n",
    "\n",
    "| Vorlaufperiode | 2 | 1 | 0 |\n",
    "|----------------|---|---|---|\n",
    "| **Produkt A**  |   |   |   |\n",
    "| Segment 1      |   |   | 1 |\n",
    "| Segment 2      |   | 4 |   |\n",
    "| Segment 3      |   |   |   |\n",
    "| **Produkt B**  |   |   |   |\n",
    "| Segment 1      |   |   | 2 |\n",
    "| Segment 2      |   | 3 |   |\n",
    "| Segment 3      | 3 | 4 |   |\n",
    "\n",
    "### Nachfrage\n",
    "\n",
    "| Periode       | 1 | 2  | 3  | 4  | 5  | 6  | 7  | 8  |\n",
    "|:--------------|---|----|----|----|----|----|----|----|\n",
    "| **Produkt A** |   | 45 | 30 | 40 | 30 | 50 | 10 | 60 |\n",
    "| **Produkt B** |   |    | 25 | 30 | 25 | 30 | 20 | 30 |\n",
    "\n",
    "### Weitere Daten\n",
    "\n",
    "Die \"normalen\" Produktionskapazitäten betragen in Produktionssegment 1 100 Einheiten, in Segment 2 150 Einheiten und in Segment 3 120 Einheiten pro Periode. Hinzu kommt eine mögliche Zusatzkapazität von 100 Einheiten in jedem Produktionssegment, wobei mit einer zusätzlich genutzten Einheit in Segment 1 7 GE, in Segment 2 8 GE und in Segment 3 9 GE weitere Kosten anfallen. Für die Lagerung werden bei Produkt A 20 GE benötigt und bei Produkt B 50 GE. Der Anfangslagerbestand beträgt für beide Produkte 0 ME."
   ]
  },
  {
   "cell_type": "markdown",
   "metadata": {},
   "source": [
    "## Aufgabe 2b)\n",
    "Lösen Sie das Modell zur Hauptprogrammplanung, indem Sie den mengenbasierten Syntax verwenden."
   ]
  },
  {
   "cell_type": "code",
   "execution_count": null,
   "metadata": {},
   "outputs": [],
   "source": [
    "import gurobipy as gp\n",
    "from gurobipy import GRB"
   ]
  },
  {
   "cell_type": "markdown",
   "metadata": {},
   "source": [
    "### Definition der Mengen"
   ]
  },
  {
   "cell_type": "code",
   "execution_count": null,
   "metadata": {},
   "outputs": [],
   "source": [
    "K_max = 8\n",
    "J_max = 2\n",
    "I_max = 3\n",
    "Z_max = 3 # Vorlaufperioden: 0, 1, 2\n",
    "\n",
    "K = range(K_max) # K läuft nun von 0-7 (also um eins versetzt zur Aufgabenstellung)\n",
    "J = range(J_max)\n",
    "I = range(I_max)\n",
    "Z = range(Z_max)"
   ]
  },
  {
   "cell_type": "markdown",
   "metadata": {},
   "source": [
    "### Dateneingabe\n",
    "Kosten für Lagerung und Überstunden:"
   ]
  },
  {
   "cell_type": "code",
   "execution_count": null,
   "metadata": {},
   "outputs": [],
   "source": [
    "kL = [20,50]\n",
    "u = [7,8,9]"
   ]
  },
  {
   "cell_type": "markdown",
   "metadata": {},
   "source": [
    "Bedarfe:"
   ]
  },
  {
   "cell_type": "code",
   "execution_count": null,
   "metadata": {},
   "outputs": [],
   "source": [
    "r = [[0,45,30,40,30,50,10,60],\n",
    "\t [0,0,25,30,25,30,20,30]]"
   ]
  },
  {
   "cell_type": "markdown",
   "metadata": {},
   "source": [
    "Produktionskapazitäten und maximale Überstunden:"
   ]
  },
  {
   "cell_type": "code",
   "execution_count": null,
   "metadata": {},
   "outputs": [],
   "source": [
    "b = [[100,100,100,100,100,100,100,100],\n",
    "\t [150,150,150,150,150,150,150,150],\n",
    "\t [120,120,120,120,120,120,120,120]]\n",
    "\n",
    "Umax = [[100,100,100,100,100,100,100,100],\n",
    "     [100,100,100,100,100,100,100,100],\n",
    "\t [100,100,100,100,100,100,100,100]]"
   ]
  },
  {
   "cell_type": "markdown",
   "metadata": {},
   "source": [
    "Kapazitätsbelastungsfaktoren mit Berücksichtigung der Vorlaufperioden:"
   ]
  },
  {
   "cell_type": "code",
   "execution_count": null,
   "metadata": {},
   "outputs": [],
   "source": [
    "f = [[[1,0,0],[0,4,0],[0,0,0]],\n",
    "\t [[2,0,0],[0,3,0],[0,4,3]]]\n",
    "# Hier umgekehrte Reihenfolge als bei der Tabelle (z läuft von 0-2)"
   ]
  },
  {
   "cell_type": "markdown",
   "metadata": {},
   "source": [
    "### Initialisierung des Modells und der Variablen"
   ]
  },
  {
   "cell_type": "code",
   "execution_count": null,
   "metadata": {},
   "outputs": [],
   "source": [
    "m = gp.Model()"
   ]
  },
  {
   "cell_type": "code",
   "execution_count": null,
   "metadata": {},
   "outputs": [],
   "source": [
    "x = m.addVars(J_max, K_max, vtype=GRB.INTEGER, name=\"x\")\n",
    "xL = m.addVars(J_max, K_max, vtype=GRB.INTEGER, name=\"xL\")\n",
    "U = m.addVars(I_max, K_max, vtype=GRB.INTEGER, name=\"U\")"
   ]
  },
  {
   "cell_type": "markdown",
   "metadata": {},
   "source": [
    "### Definition der Zielfunktion"
   ]
  },
  {
   "cell_type": "code",
   "execution_count": null,
   "metadata": {},
   "outputs": [],
   "source": [
    "m.setObjective(\n",
    "    gp.quicksum(kL[j] * xL[j,k] for j in J for k in K) \n",
    "    + gp.quicksum(u[i] * U[i,k] for i in I for k in K),\n",
    "    GRB.MINIMIZE)"
   ]
  },
  {
   "cell_type": "markdown",
   "metadata": {},
   "source": [
    "### Hinzufügen der Nebenbedingungen"
   ]
  },
  {
   "cell_type": "code",
   "execution_count": null,
   "metadata": {},
   "outputs": [],
   "source": [
    "for j in J:\n",
    "    m.addConstr(xL[j,0] == x[j,0] - r[j][0], name=\"LAE\"+str(j))"
   ]
  },
  {
   "cell_type": "code",
   "execution_count": null,
   "metadata": {},
   "outputs": [],
   "source": [
    "for j in J:\n",
    "    for k in K: \n",
    "        if k > 0:\n",
    "            m.addConstr(xL[j,k] == xL[j,k-1] + x[j,k] - r[j][k], name=\"LB\"+str(j)+str(k))"
   ]
  },
  {
   "cell_type": "code",
   "execution_count": null,
   "metadata": {},
   "outputs": [],
   "source": [
    "for i in I:\n",
    "    for k in K:\n",
    "        if k <= K_max-Z_max:\n",
    "            m.addConstr(gp.quicksum(f[j][i][z] * x[j,k+z] for j in J for z in Z) - U[i,k] <= b[i][k], name=\"Kap\"+str(i)+str(k))"
   ]
  },
  {
   "cell_type": "code",
   "execution_count": null,
   "metadata": {},
   "outputs": [],
   "source": [
    "for k in K:\n",
    "    for i in I:\n",
    "        m.addConstr(U[i,k] <= Umax[i][k], name=\"Zusatz\"+str(k)+str(i))"
   ]
  },
  {
   "cell_type": "markdown",
   "metadata": {},
   "source": [
    "### Optimierung"
   ]
  },
  {
   "cell_type": "code",
   "execution_count": null,
   "metadata": {},
   "outputs": [],
   "source": [
    "m.optimize()"
   ]
  },
  {
   "cell_type": "markdown",
   "metadata": {},
   "source": [
    "## Aufgabe 1c)\n",
    "Im Folgenden sollen die Ergebnisse in der Konsole ausgegeben werden. Schreiben Sie in die Konsole `Ergebnisse der Hauptproduktionsprogrammplanung`."
   ]
  },
  {
   "cell_type": "code",
   "execution_count": null,
   "metadata": {},
   "outputs": [],
   "source": [
    "print(\"\\nErgebnisse der Hauptproduktionsprogrammplanung \\n\")"
   ]
  },
  {
   "cell_type": "markdown",
   "metadata": {},
   "source": [
    "## Aufgabe 1d)\n",
    "Formulieren Sie einen Satz, welcher die gesamten Kosten angibt."
   ]
  },
  {
   "cell_type": "code",
   "execution_count": null,
   "metadata": {},
   "outputs": [],
   "source": [
    "print(\"Die minimalen Kosten betragen\", m.getAttr(GRB.Attr.ObjVal),\"GE.\")"
   ]
  },
  {
   "cell_type": "markdown",
   "metadata": {},
   "source": [
    "## Aufgabe 1e)\n",
    "Geben Sie den optimalen Produktionsplan in der Konsole aus."
   ]
  },
  {
   "cell_type": "code",
   "execution_count": null,
   "metadata": {},
   "outputs": [],
   "source": [
    "for j in J:\n",
    "        for k in K:\n",
    "            print(\"Von Produkt\", j, \"wird in Periode\", k, \" \", x[j,k].X, \"Einheiten hergestellt.\")"
   ]
  },
  {
   "cell_type": "markdown",
   "metadata": {},
   "source": [
    "## Aufgabe 1f)\n",
    "Lassen Sie sich den Schlupf der Kapazitätsrestriktion ausgeben! Beschränken Sie sich dabei auf Produktionssegment 1. Versuchen Sie auch den Schattenpreis zu ermitteln."
   ]
  },
  {
   "cell_type": "code",
   "execution_count": null,
   "metadata": {},
   "outputs": [],
   "source": [
    "for k in K:\n",
    "    if k <= K_max - Z_max:\n",
    "        capaConstr = m.getConstrByName(\"Kap0\"+str(k))\n",
    "        print(\"In Periode\", k, \"weist die Kapazität einen Schlupf von\", capaConstr.Slack, \"ME auf.\")"
   ]
  },
  {
   "cell_type": "code",
   "execution_count": null,
   "metadata": {},
   "outputs": [],
   "source": [
    "for k in K:\n",
    "    if k <= K_max - Z_max:\n",
    "        capaConstr = m.getConstrByName(\"Kap0\"+str(k))\n",
    "        print(\"In Periode\", k, \"hat die Kapazität einen Schattenpreis von\", capaConstr.Pi)\n",
    "# Wert kann nicht berechnet werden!"
   ]
  },
  {
   "cell_type": "markdown",
   "metadata": {},
   "source": [
    "## Aufgabe 1g)\n",
    "Wieviele Überstunden sind insgesamt notwendig?"
   ]
  },
  {
   "cell_type": "code",
   "execution_count": null,
   "metadata": {},
   "outputs": [],
   "source": [
    "overtime = sum(U[i,k].X for i in I for k in K)\n",
    "print(\"Insgesamt wurden\", overtime, \"Überstunden gemacht.\")"
   ]
  },
  {
   "cell_type": "markdown",
   "metadata": {},
   "source": [
    "## Aufgabe 1h)\n",
    "Wie hoch sind die gesamten Lagerkosten?"
   ]
  },
  {
   "cell_type": "code",
   "execution_count": null,
   "metadata": {},
   "outputs": [],
   "source": [
    "storageCosts = sum(xL[j,k].X * kL[j] for j in J for k in K)\n",
    "print(\"Die Lagerkosten betragen insgesamt\", storageCosts, \"GE.\")"
   ]
  }
 ],
 "metadata": {
  "language_info": {
   "codemirror_mode": {
    "name": "ipython",
    "version": 3
   },
   "file_extension": ".py",
   "mimetype": "text/x-python",
   "name": "python",
   "nbconvert_exporter": "python",
   "pygments_lexer": "ipython3",
   "version": "3.7.6-final"
  },
  "orig_nbformat": 2,
  "kernelspec": {
   "name": "python3",
   "display_name": "Python 3"
  }
 },
 "nbformat": 4,
 "nbformat_minor": 2
}