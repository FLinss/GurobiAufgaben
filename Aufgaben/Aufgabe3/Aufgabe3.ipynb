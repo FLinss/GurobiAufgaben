{
 "cells": [
  {
   "cell_type": "markdown",
   "metadata": {},
   "source": [
    "# Aufgabe 3 - Deterministisch dynamisches Lagerhaltungsmodell\n",
    "\n",
    "## Mathematisches Modell\n",
    "\n",
    "**Zielfunktion**\n",
    "\n",
    "\\begin{equation}\n",
    "\tminimiere \\ \\ K = \\sum^{T}_{t=1} (k_{B} \\cdot y_{t}(r_{t}) + k_{L} \\cdot L_{t+1})\n",
    "\\end{equation}\n",
    "\n",
    "**unter den Nebenbedingungen**\n",
    "\n",
    "\\begin{align}\n",
    "&&  L_{t+1} &= L_{t} +  r_{t} - B_{t}  && \\forall t \\\\[5pt]\n",
    "&&  0 &\\leq r_{t} \\leq L_{t+1} + B_{t} && \\forall t \\\\[5pt]\n",
    "&&   L_{1} &= L_{T+1} = 0 && \\\\[5pt]\n",
    "&& 1000 \\cdot y_t &\\geq r_t && \\forall t \\\\[10pt]\n",
    "&& L_t &\\geq 0 && \\forall t \\\\[5pt]\n",
    "&& y_{t} &\\in \\{0,1\\} && \\forall t\n",
    "\\end{align}\n",
    "\n",
    "## Daten\n",
    "\n",
    "### Bedarfswerte\n",
    "\n",
    "| Periode              |  1  |  2 |  3 |  4 |  5  |  6  |  7  |  8  |  9  | 10 | 11 | 12 |\n",
    "|----------------------|:---:|:--:|:--:|:--:|:---:|:---:|:---:|:---:|:---:|:--:|:--:|:--:|\n",
    "| **Mittelwerte**      |  92 | 40 | 71 | 83 | 130 | 148 | 135 |  95 | 122 | 65 | 50 | 45 |\n",
    "| **Minimaler Bedarf** |  75 | 37 | 59 | 60 | 101 | 135 | 100 |  88 | 116 | 62 | 40 | 44 |\n",
    "| **Maximaler Bedarf** | 112 | 45 | 81 | 95 | 132 | 163 | 140 | 103 | 145 | 70 | 68 | 53 |\n",
    "\n",
    "### Weitere Daten\n",
    "\n",
    "Ein Industrieunternehmen benötigt eine spezielle Materialart in der Produktion. Bestellungen können immer zu Beginn eines Monats ausgeführt werden und die Lieferung erfolgt sofort. Dabei verursacht jede Bestellung Kosten in Höhe von 400 GE. Im Gegenzug fallen für die Lagerung einer Einheit Aufwendungen in Höhe von 2 GE pro Periode an."
   ]
  },
  {
   "cell_type": "markdown",
   "metadata": {},
   "source": [
    "## Aufgabe 3b)\n",
    "Übertragen Sie die gegebenen Daten. Verwenden Sie dazu die Datei `Bedarfe.csv`."
   ]
  },
  {
   "cell_type": "code",
   "execution_count": null,
   "metadata": {},
   "outputs": [],
   "source": [
    "import gurobipy as gp\n",
    "from gurobipy import GRB\n",
    "import csv"
   ]
  },
  {
   "cell_type": "markdown",
   "metadata": {},
   "source": [
    "### Importieren der erforderlichen Daten"
   ]
  },
  {
   "cell_type": "code",
   "execution_count": null,
   "metadata": {},
   "outputs": [],
   "source": [
    "B = {}\n",
    "B[\"min\"] = []\n",
    "B[\"mean\"] = []\n",
    "B[\"max\"] = []\n",
    "with open(\"Bedarfe.csv\", encoding=\"utf-8\") as csv_file:\n",
    "    csv_reader = csv.DictReader(csv_file)\n",
    "    for row in csv_reader:\n",
    "        B[\"min\"].append(int(row[\"min\"]))\n",
    "        B[\"mean\"].append(int(row[\"mean\"]))\n",
    "        B[\"max\"].append(int(row[\"max\"]))"
   ]
  },
  {
   "cell_type": "code",
   "execution_count": null,
   "metadata": {},
   "outputs": [],
   "source": [
    "kL = 2\n",
    "kB = 400"
   ]
  },
  {
   "cell_type": "markdown",
   "metadata": {},
   "source": [
    "### Definition der Mengen"
   ]
  },
  {
   "cell_type": "code",
   "execution_count": null,
   "metadata": {},
   "outputs": [],
   "source": [
    "T_max = len(B[\"mean\"])\n",
    "T = range(T_max)"
   ]
  },
  {
   "cell_type": "markdown",
   "metadata": {},
   "source": [
    "## Aufgabe 3c)\n",
    "Übertragen Sie das gegebene Modell und führen Sie es mit den Mittelwerten aus. Verwenden Sie dabei die mengenbasierte Syntax. Benennen Sie die Nebenbedingungen sinnvoll."
   ]
  },
  {
   "cell_type": "markdown",
   "metadata": {},
   "source": [
    "### Initialisierung des Modells"
   ]
  },
  {
   "cell_type": "code",
   "execution_count": null,
   "metadata": {},
   "outputs": [],
   "source": [
    "m = gp.Model()"
   ]
  },
  {
   "cell_type": "markdown",
   "metadata": {},
   "source": [
    "### Initialisierung der Variablen"
   ]
  },
  {
   "cell_type": "code",
   "execution_count": null,
   "metadata": {},
   "outputs": [],
   "source": [
    "r = {}\n",
    "for t in T:\n",
    "    r[t] = m.addVar(vtype=GRB.INTEGER, lb=0, name=\"r\" + str(t))"
   ]
  },
  {
   "cell_type": "code",
   "execution_count": null,
   "metadata": {},
   "outputs": [],
   "source": [
    "y = {}\n",
    "for t in T:\n",
    "    y[t] = m.addVar(vtype=GRB.BINARY, name=\"y\" + str(t))"
   ]
  },
  {
   "cell_type": "code",
   "execution_count": null,
   "metadata": {},
   "outputs": [],
   "source": [
    "L = {}\n",
    "for t in range(T_max + 1): # Da nach der letzten Periode der Lagerbestand wieder 0 sein soll, muss eine zusätzliche Periode hinzugefügt werden.\n",
    "    L[t] = m.addVar(vtype=GRB.INTEGER, lb=0, name=\"L\" + str(t))"
   ]
  },
  {
   "cell_type": "markdown",
   "metadata": {},
   "source": [
    "### Definition der Zielfunktion"
   ]
  },
  {
   "cell_type": "code",
   "execution_count": null,
   "metadata": {},
   "outputs": [],
   "source": [
    "m.setObjective(gp.quicksum(kB * y[t] + kL*L[t+1] for t in T), GRB.MINIMIZE)"
   ]
  },
  {
   "cell_type": "markdown",
   "metadata": {},
   "source": [
    "### Hinzufügen der Nebenbedingungen"
   ]
  },
  {
   "cell_type": "code",
   "execution_count": null,
   "metadata": {},
   "outputs": [],
   "source": [
    "for t in T:\n",
    "    m.addConstr(L[t+1] == L[t] + r[t] - B[\"mean\"][t], \"LB\" + str(t))"
   ]
  },
  {
   "cell_type": "code",
   "execution_count": null,
   "metadata": {},
   "outputs": [],
   "source": [
    "for t in T:\n",
    "    m.addConstr(r[t] <= L[t+1] + B[\"mean\"][t], \"BM\" + str(t))"
   ]
  },
  {
   "cell_type": "code",
   "execution_count": null,
   "metadata": {},
   "outputs": [],
   "source": [
    "for t in T:\n",
    "    m.addConstr(y[t]*1000 >= r[t], \"BK\" + str(t))"
   ]
  },
  {
   "cell_type": "code",
   "execution_count": null,
   "metadata": {},
   "outputs": [],
   "source": [
    "m.addConstr(L[0] == 0, \"LAB\")\n",
    "m.addConstr(L[T_max] == 0, \"LEB\")"
   ]
  },
  {
   "cell_type": "markdown",
   "metadata": {},
   "source": [
    "### Optimierung"
   ]
  },
  {
   "cell_type": "code",
   "execution_count": null,
   "metadata": {},
   "outputs": [],
   "source": [
    "m.optimize()"
   ]
  },
  {
   "cell_type": "markdown",
   "metadata": {},
   "source": [
    "### Ergebnisausgabe"
   ]
  },
  {
   "cell_type": "code",
   "execution_count": null,
   "metadata": {},
   "outputs": [],
   "source": [
    "m.printAttr(\"ObjVal\")"
   ]
  },
  {
   "cell_type": "code",
   "execution_count": null,
   "metadata": {},
   "outputs": [],
   "source": [
    "m.printAttr(\"X\")"
   ]
  },
  {
   "cell_type": "markdown",
   "metadata": {},
   "source": [
    "## Aufgabe 3d)\n",
    "Lassen Sie sich die .lp-Datei ausgeben und untersuchen Sie in welchen Nebenbedingungen und in welcher Form die Bedarfswerte verwendet werden."
   ]
  },
  {
   "cell_type": "code",
   "execution_count": null,
   "metadata": {},
   "outputs": [],
   "source": [
    "m.write(\"model.lp\")\n",
    "# Bedarfswerte sind mit ihrem negativem Wert die RHS der Lagerbilanzgleichung und mit ihrem poitiven Wert die RHS der Bestellmengenrestriktion."
   ]
  },
  {
   "cell_type": "markdown",
   "metadata": {},
   "source": [
    "## Aufgabe 3e)\n",
    "Nutzen Sie Ihre Erkenntnisse aus der vorherigen Teilaufgabe und lassen Sie das Modell für alle Bedarfe (Minimal, Mittelwert, Maximal) lösen. Passen Sie dazu ggf. bei einigen Nebenbedingungen die RHS (rechte Hand Seite) an."
   ]
  },
  {
   "cell_type": "code",
   "execution_count": null,
   "metadata": {},
   "outputs": [],
   "source": [
    "for key in B.keys():\n",
    "    for t in T:\n",
    "        constrLB = m.getConstrByName(\"LB\" + str(t))\n",
    "        constrLB.setAttr(GRB.Attr.RHS, -B[key][t])\n",
    "        constrBM = m.getConstrByName(\"BM\" + str(t))\n",
    "        constrBM.setAttr(GRB.Attr.RHS, B[key][t])\n",
    "    m.optimize()"
   ]
  },
  {
   "cell_type": "markdown",
   "metadata": {},
   "source": [
    "## Aufgabe 3f)\n",
    "Speichern Sie zusätzlich alle berechneten Ergebnisse mit Kosten, Bestell- und Lagerpolitik gesammelt in geeignete Datentypen, sodass alle Ergebnis zusammengefasst ausgegeben werden können."
   ]
  },
  {
   "cell_type": "code",
   "execution_count": null,
   "metadata": {},
   "outputs": [],
   "source": [
    "costs = {}\n",
    "yResults = {}\n",
    "LResults = {}\n",
    "rResults = {}"
   ]
  },
  {
   "cell_type": "code",
   "execution_count": null,
   "metadata": {},
   "outputs": [],
   "source": [
    "for key in B.keys():\n",
    "    for t in T:\n",
    "        constrLB = m.getConstrByName(\"LB\" + str(t))\n",
    "        constrLB.setAttr(GRB.Attr.RHS, -B[key][t])\n",
    "        constrBM = m.getConstrByName(\"BM\" + str(t))\n",
    "        constrBM.setAttr(GRB.Attr.RHS, B[key][t])\n",
    "    m.optimize()\n",
    "    costs[key] = m.ObjVal\n",
    "    yResults[key] = []\n",
    "    LResults[key] = []\n",
    "    rResults[key] = []\n",
    "    for t in T:\n",
    "        yResults[key].append(round(y[t].X)) # Sonst wird teilweise -0 ausgegeben.\n",
    "        LResults[key].append(L[t].X)\n",
    "        rResults[key].append(r[t].X)"
   ]
  },
  {
   "cell_type": "code",
   "execution_count": null,
   "metadata": {},
   "outputs": [],
   "source": [
    "print(\"\\nAlle Bedarfe\\n\")\n",
    "for key in costs.keys():\n",
    "    print(\"Bedarfe:\", key)\n",
    "    print(\"Kosten:\", costs[key])\n",
    "    print(\"Bestellungen:\", yResults[key])\n",
    "    print(\"Lagerbestand:\", LResults[key])\n",
    "    print(\"Bestellmenge:\", rResults[key],\"\\n\")"
   ]
  },
  {
   "cell_type": "code",
   "execution_count": null,
   "metadata": {},
   "outputs": [],
   "source": []
  }
 ],
 "metadata": {
  "language_info": {
   "codemirror_mode": {
    "name": "ipython",
    "version": 3
   },
   "file_extension": ".py",
   "mimetype": "text/x-python",
   "name": "python",
   "nbconvert_exporter": "python",
   "pygments_lexer": "ipython3",
   "version": "3.7.6-final"
  },
  "orig_nbformat": 2,
  "kernelspec": {
   "name": "python3",
   "display_name": "Python 3"
  }
 },
 "nbformat": 4,
 "nbformat_minor": 2
}