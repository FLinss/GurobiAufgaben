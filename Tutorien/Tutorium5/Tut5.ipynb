{
 "cells": [
  {
   "cell_type": "markdown",
   "metadata": {},
   "source": [
    "# Tutorium 5\n",
    "\n",
    "## Mathematisches Modell\n",
    "\n",
    "**Zielfunktion**\n",
    "\n",
    "\\begin{equation}\n",
    "\tminimiere\\ \\ Z = \\sum^{I}_{i=1} f_{i} \\cdot y_{i} + \\sum^{I}_{i=1} \\sum^{J}_{j=1} c_{ij} \\cdot x_{ij}\n",
    "\\end{equation}\n",
    "\n",
    "**unter den Nebenbedingungen**\n",
    "\n",
    "\\begin{align}\n",
    "&& \\sum^{I}_{i=1} x_{ij} &= d_{j} && \\forall j \\in J \\\\[5pt]\n",
    "&& \\sum^{J}_{j=1} x_{ij} &\\leq b_{i} \\cdot y_{i} && \\forall i \\in I \\\\[10pt]\n",
    "&& x_{ij} &\\geq 0 && \\forall i \\in I, \\forall j \\in J \\\\[5pt]\n",
    "&& y_{i} &\\in \\left\\{ 0, 1 \\right\\} &&\n",
    "\\end{align}\n"
   ]
  },
  {
   "cell_type": "markdown",
   "metadata": {},
   "source": [
    "## Aufgabe 5b)\n",
    "Lesen Sie aus den csv-Dateien die erforderlichen Daten ein inkl. der Namen der Absatzorte und Standorte und deren Koordinaten."
   ]
  },
  {
   "cell_type": "code",
   "execution_count": null,
   "metadata": {},
   "outputs": [],
   "source": [
    "import gurobipy as gp\n",
    "from gurobipy import GRB\n",
    "import csv"
   ]
  },
  {
   "cell_type": "markdown",
   "metadata": {},
   "source": [
    "### Absatzorte.csv\n",
    "\n",
    "| Ort                        | Bedarf | xKoordinate | yKoordinate | \n",
    "|:---------------------------|--------|-------------|-------------| \n",
    "| Flat Iron Building         | 336    | 30          | 41          | \n",
    "| Empire State Building      | 598    | 33          | 50          | \n",
    "| Chrysler Building          | 314    | 41          | 53          | \n",
    "| Central Park               | 425    | 49          | 88          | \n",
    "| One World Trade Center     | 468    | 10          | 10          | \n",
    "| Metropolitan Museum of Art | 308    | 52          | 84          | \n",
    "| Rockefeller Center         | 545    | 38          | 61          | \n",
    "| Guggenheim Museum          | 548    | 55          | 88          | \n",
    "| Times Square               | 350    | 32          | 58          | \n",
    "| Apollo Theater             | 360    | 62          | 118         | \n",
    "\n",
    "Hinweis: Es bietet sich an die x,y-Koordinaten jedes Ortes als Dictionary mit den Keys \"X\" und \"Y\" zu speichern. Alternativ kann auch eine Liste oder Tupel gewählt werden."
   ]
  },
  {
   "cell_type": "code",
   "execution_count": null,
   "metadata": {},
   "outputs": [],
   "source": [
    "d=[]\n",
    "ao=[]\n",
    "posAo=[]\n",
    "with open(\"Absatzorte.csv\", encoding=\"utf-8\") as csv_file:\n",
    "     csv_reader = csv.DictReader(csv_file)\n",
    "     for row in csv_reader:\n",
    "          d.append(int(row[\"Bedarf\"]))\n",
    "          ao.append(row[\"Ort\"])\n",
    "          posAo.append({\"X\" : int(row[\"xKoordinate\"]), \"Y\" : int(row[\"yKoordinate\"])})"
   ]
  },
  {
   "cell_type": "markdown",
   "metadata": {},
   "source": [
    "### Standorte.csv\n",
    "\n",
    "| Ort | Kapazität | Fixkosten | xKoordinate | yKoordinate | \n",
    "|-----|-----------|-----------|-------------|-------------| \n",
    "| A   | 2211      | 88440     | 31          | 42          | \n",
    "| B   | 425       | 17000     | 35          | 60          | \n",
    "| C   | 850       | 34000     | 45          | 70          | \n",
    "| D   | 1276      | 51040     | 60          | 100         | "
   ]
  },
  {
   "cell_type": "code",
   "execution_count": null,
   "metadata": {},
   "outputs": [],
   "source": [
    "b=[]\n",
    "f=[]\n",
    "so=[]\n",
    "posSo=[]\n",
    "with open(\"Standorte.csv\", encoding=\"utf-8\") as csv_file:\n",
    "     csv_reader = csv.DictReader(csv_file)\n",
    "     for row in csv_reader:\n",
    "          b.append(int(row[\"Kapazität\"]))\n",
    "          f.append(int(row[\"Fixkosten\"]))\n",
    "          so.append(row[\"Ort\"])\n",
    "          posSo.append({\"X\" : int(row[\"xKoordinate\"]), \"Y\" : int(row[\"yKoordinate\"])})"
   ]
  },
  {
   "cell_type": "markdown",
   "metadata": {},
   "source": [
    "## Aufgabe 5c)\n",
    "Berechnen Sie die Transportkosten mit Hilfe der Distanzen nach der Manhattan-Metrik. Nutzen Sie dabei die Funktion `abs()` und gehen Sie von einem km-Kostensatz von 2.5 GE/km aus.\n",
    "\n",
    "### Definition der Mengen"
   ]
  },
  {
   "cell_type": "code",
   "execution_count": null,
   "metadata": {},
   "outputs": [],
   "source": [
    "I_max = len(b)\n",
    "J_max = len(d)\n",
    "\n",
    "I = range(I_max)\n",
    "J = range(J_max)"
   ]
  },
  {
   "cell_type": "markdown",
   "metadata": {},
   "source": [
    "### Berechnung der Kosten"
   ]
  },
  {
   "cell_type": "code",
   "execution_count": null,
   "metadata": {},
   "outputs": [],
   "source": [
    "costPerKm = 2.5"
   ]
  },
  {
   "cell_type": "code",
   "execution_count": null,
   "metadata": {},
   "outputs": [],
   "source": [
    "c = []\n",
    "for i in I:\n",
    "     newRow = []\n",
    "     for j in J:\n",
    "          distance = abs(posSo[i][\"X\"] - posAo[j][\"X\"]) + abs(posSo[i][\"Y\"] - posAo[j][\"Y\"])\n",
    "          newRow.append(costPerKm * distance)\n",
    "     c.append(newRow)"
   ]
  },
  {
   "cell_type": "markdown",
   "metadata": {},
   "source": [
    "## Aufgabe 5d)\n",
    "Lassen Sie sich zur Kontrolle jede Zeile der berechneten Kostenmatrix in der Konsole ausgeben und lösen Sie das Problem."
   ]
  },
  {
   "cell_type": "code",
   "execution_count": null,
   "metadata": {},
   "outputs": [],
   "source": [
    "for row in c:\n",
    "     print(row)"
   ]
  },
  {
   "cell_type": "markdown",
   "metadata": {},
   "source": [
    "Initialisierung des Modells:"
   ]
  },
  {
   "cell_type": "code",
   "execution_count": null,
   "metadata": {},
   "outputs": [],
   "source": [
    "m = gp.Model()"
   ]
  },
  {
   "cell_type": "markdown",
   "metadata": {},
   "source": [
    "Initialisierung der Variablen:"
   ]
  },
  {
   "cell_type": "code",
   "execution_count": null,
   "metadata": {},
   "outputs": [],
   "source": [
    "\n",
    "x = {}\n",
    "for i in I:\n",
    "     for j in J:\n",
    "          x[i,j] = m.addVar(vtype=GRB.CONTINUOUS, name=\"x_\"+str(i)+str(j))\n",
    "y = {}\n",
    "for i in I:\n",
    "     y[i] = m.addVar(vtype=GRB.BINARY, name=\"y_\"+str(i))"
   ]
  },
  {
   "cell_type": "markdown",
   "metadata": {},
   "source": [
    "Definition der Zielfunktion:"
   ]
  },
  {
   "cell_type": "code",
   "execution_count": null,
   "metadata": {},
   "outputs": [],
   "source": [
    "m.setObjective(gp.quicksum(f[i]*y[i] for i in I) + gp.quicksum(c[i][j]*x[i,j] for j in J for i in I), GRB.MINIMIZE)"
   ]
  },
  {
   "cell_type": "markdown",
   "metadata": {},
   "source": [
    "Hinzufügen der Nebenbedingungen:"
   ]
  },
  {
   "cell_type": "code",
   "execution_count": null,
   "metadata": {},
   "outputs": [],
   "source": [
    "for j in J:\n",
    "     m.addConstr(gp.quicksum(x[i,j] for i in I) == d[j], \"meet_demand_\" + str(j))\n",
    "\n",
    "for i in I:\n",
    "     m.addConstr(gp.quicksum(x[i,j] for j in J) <= b[i] * y[i], \"meet_prod_\" + str(i))"
   ]
  },
  {
   "cell_type": "markdown",
   "metadata": {},
   "source": [
    "Optimierung:"
   ]
  },
  {
   "cell_type": "code",
   "execution_count": null,
   "metadata": {},
   "outputs": [],
   "source": [
    "m.optimize()"
   ]
  },
  {
   "cell_type": "markdown",
   "metadata": {},
   "source": [
    "## Aufgabe 5e)\n",
    "Lassen Sie sich die Ergebnisse mit der Konsolenausgabe aus 3e) -- 3h) ausgeben. Welche Besonderheiten lassen sich feststellen?"
   ]
  },
  {
   "cell_type": "code",
   "execution_count": null,
   "metadata": {},
   "outputs": [],
   "source": [
    "print(\"\\nOptimale Standortwahl bei mehreren Betriebsstätten\\n\")\n",
    "\n",
    "print(\"Die gesamten Kosten des Transportes betragen\", m.getAttr(GRB.Attr.ObjVal), \"GE.\")\n",
    "\n",
    "for i in I:\n",
    "     if y[i].X > 0:\n",
    "          print(\"In\", so[i], \"wird ein Standort errichtet.\")\n",
    "          print(\"\\tFixkosten:\", f[i])\n",
    "          print(\"\\tVariable Kosten:\", sum([c[i][j] * x[i,j].X for j in J]))\n",
    "     else:\n",
    "          print(\"In\", so[i], \"wird KEIN Standort errichtet.\")\n",
    "\n",
    "\n",
    "for i in I:\n",
    "     for j in J:\n",
    "          if x[i,j].X > 0:\n",
    "               print(\"Von\", so[i], \"werden\", x[i,j].X, \"ME\\tnach\", ao[j], \"geliefert, die Transportkosten betragen dabei\", c[i][j] * x[i,j].X, \"GE.\")"
   ]
  },
  {
   "cell_type": "markdown",
   "metadata": {},
   "source": [
    "Besonderheiten:\n",
    "* Sehenswürdigkeiten werden von verschiedenen Standorten beliefert"
   ]
  },
  {
   "cell_type": "markdown",
   "metadata": {},
   "source": [
    "## Aufgabe 5f)\n"
   ]
  },
  {
   "cell_type": "code",
   "execution_count": null,
   "metadata": {},
   "outputs": [],
   "source": [
    "for i in I:\n",
    "     constr = m.getConstrByName(\"meet_prod_\" + str(i))\n",
    "     print(\"Nebenbedingung\", constr.ConstrName, \"hat einen Schlupf von\", constr.Slack)"
   ]
  },
  {
   "cell_type": "markdown",
   "metadata": {},
   "source": [
    "Auswertung:\n",
    "* Standort 0 bzw. A könnte noch 85 weitere Einheiten ausliefern.\n",
    "* Standort 1 bzw. B hat keine weitere Einheiten übrig, da dieser Standort nicht errichtet wird.\n",
    "* Standort C und D transportieren alle verfügbaren Einheiten."
   ]
  },
  {
   "cell_type": "markdown",
   "metadata": {},
   "source": [
    "## Aufgabe 5g)"
   ]
  },
  {
   "cell_type": "code",
   "execution_count": null,
   "metadata": {},
   "outputs": [],
   "source": [
    "costPerKm = 25"
   ]
  },
  {
   "cell_type": "markdown",
   "metadata": {},
   "source": [
    "Auswertung:\n",
    "* Alle Standorte werden errichtet.\n",
    "* Standort A und D haben noch Einheiten übrig, die nicht transportiert werden."
   ]
  },
  {
   "cell_type": "markdown",
   "metadata": {},
   "source": [
    "## Aufgabe 5h)\n"
   ]
  },
  {
   "cell_type": "code",
   "execution_count": null,
   "metadata": {},
   "outputs": [],
   "source": [
    "m.write(\"model.lp\")\n",
    "m.write(\"solution.sol\")"
   ]
  }
 ],
 "metadata": {
  "language_info": {
   "name": "python",
   "codemirror_mode": {
    "name": "ipython",
    "version": 3
   },
   "version": "3.7.6-final"
  },
  "orig_nbformat": 2,
  "file_extension": ".py",
  "mimetype": "text/x-python",
  "name": "python",
  "npconvert_exporter": "python",
  "pygments_lexer": "ipython3",
  "version": 3,
  "kernelspec": {
   "name": "python3",
   "display_name": "Python 3"
  }
 },
 "nbformat": 4,
 "nbformat_minor": 2
}