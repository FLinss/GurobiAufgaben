{
 "nbformat": 4,
 "nbformat_minor": 2,
 "metadata": {
  "language_info": {
   "name": "python",
   "codemirror_mode": {
    "name": "ipython",
    "version": 3
   },
   "version": "3.7.6-final"
  },
  "orig_nbformat": 2,
  "file_extension": ".py",
  "mimetype": "text/x-python",
  "name": "python",
  "npconvert_exporter": "python",
  "pygments_lexer": "ipython3",
  "version": 3,
  "kernelspec": {
   "name": "python3",
   "display_name": "Python 3"
  }
 },
 "cells": [
  {
   "cell_type": "markdown",
   "metadata": {},
   "source": [
    "# Tutorium 2\n",
    "\n",
    "## Mathematisches Modell\n",
    "\n",
    "**Zielfunktion**\n",
    "\n",
    "\\begin{equation}\n",
    "\tminimiere\\ \\ Z = \\sum^{I}_{i=1} f_{i} \\cdot y_{i} + \\sum^{I}_{i=1} \\sum^{J}_{j=1} c_{ij} \\cdot x_{ij}\n",
    "\\end{equation}\n",
    "\n",
    "**unter den Nebenbedingungen**\n",
    "\n",
    "\\begin{align}\n",
    "&& \\sum^{I}_{i=1} x_{ij} &= d_{j} && \\forall j \\in J \\\\[5pt]\n",
    "&& \\sum^{J}_{j=1} x_{ij} &\\leq b_{i} \\cdot y_{i} && \\forall i \\in I \\\\[10pt]\n",
    "&& x_{ij} &\\geq 0 && \\forall i \\in I, \\forall j \\in J \\\\[5pt]\n",
    "&& y_{i} &\\in \\left\\{ 0, 1 \\right\\} &&\n",
    "\\end{align}\n"
   ],
   "execution_count": null,
   "outputs": []
  },
  {
   "cell_type": "markdown",
   "metadata": {},
   "source": [
    "## Aufgabe 3b)\n",
    "Lesen Sie aus den csv-Dateien die erforderlichen Daten ein inkl. der Namen der Absatzorte und Standorte."
   ],
   "execution_count": null,
   "outputs": []
  },
  {
   "cell_type": "code",
   "execution_count": null,
   "metadata": {},
   "outputs": [],
   "source": [
    "import gurobipy as gp\n",
    "from gurobipy import GRB\n",
    "import csv"
   ]
  },
  {
   "cell_type": "markdown",
   "metadata": {},
   "source": [
    "### Absatzorte.csv\n",
    "\n",
    "| Ort       | Bedarf | \n",
    "|:----------|--------| \n",
    "| Frankfurt | 200    | \n",
    "| Berlin    | 250    | \n",
    "| München   | 150    | \n",
    "| Köln      | 300    | \n",
    "| Hamburg   | 100    | "
   ],
   "execution_count": null,
   "outputs": []
  },
  {
   "cell_type": "code",
   "execution_count": null,
   "metadata": {},
   "outputs": [],
   "source": [
    "d=[]\n",
    "ao=[]\n",
    "with open(\"Absatzorte.csv\", encoding=\"utf-8\") as csv_file:\n",
    "     csv_reader = csv.DictReader(csv_file)\n",
    "     for row in csv_reader:\n",
    "          d.append(int(row[\"Bedarf\"]))\n",
    "          ao.append(row[\"Ort\"])"
   ]
  },
  {
   "cell_type": "markdown",
   "metadata": {},
   "source": [
    "### Standorte.csv\n",
    "\n",
    "| Ort        | Kapazität | Fixkosten | \n",
    "|:-----------|-----------|-----------| \n",
    "| Dresden    | 400       | 60000     | \n",
    "| Bremen     | 350       | 60000     | \n",
    "| Düsseldorf | 600       | 80000     | "
   ],
   "execution_count": null,
   "outputs": []
  },
  {
   "cell_type": "code",
   "execution_count": null,
   "metadata": {},
   "outputs": [],
   "source": [
    "b=[]\n",
    "f=[]\n",
    "so=[]\n",
    "with open(\"Standorte.csv\", encoding=\"utf-8\") as csv_file:\n",
    "     csv_reader = csv.DictReader(csv_file)\n",
    "     for row in csv_reader:\n",
    "          b.append(int(row[\"Kapazität\"]))\n",
    "          f.append(int(row[\"Fixkosten\"]))\n",
    "          so.append(row[\"Ort\"])"
   ]
  },
  {
   "cell_type": "markdown",
   "metadata": {},
   "source": [
    "Hinweis: Zum Einlesen von der Distanz und der Fahrtdauer empfiehlt sich ein Einlesen mit `csv.reader()`, da nicht mit den Spaltennamen gearbeitet werden muss.\n",
    "\n",
    "### Dauer.csv\n",
    "\n",
    "| Orte       | Frankfurt | Berlin | München | Köln | Hamburg | \n",
    "|:-----------|-----------|--------|---------|------|---------| \n",
    "| Dresden    | 4         | 2      | 5       | 6    | 5       | \n",
    "| Bremen     | 4         | 4      | 8       | 3    | 2       | \n",
    "| Düsseldorf | 2         | 6      | 7       | 1    | 5       | "
   ],
   "execution_count": null,
   "outputs": []
  },
  {
   "cell_type": "code",
   "execution_count": null,
   "metadata": {},
   "outputs": [],
   "source": [
    "dur=[]\n",
    "with open(\"Dauer.csv\", encoding=\"utf-8\") as csv_file:\n",
    "     csv_reader = csv.reader(csv_file)\n",
    "     next(csv_reader)\n",
    "     for row in csv_reader:\n",
    "          rowAsInt = [int(item) for item in row[1:]]\n",
    "          dur.append(rowAsInt)"
   ]
  },
  {
   "cell_type": "markdown",
   "metadata": {},
   "source": [
    "### Enfernung.csv\n",
    "\n",
    "| Orte       | Frankfurt | Berlin | München | Köln | Hamburg | \n",
    "|:-----------|-----------|--------|---------|------|---------| \n",
    "| Dresden    | 460       | 190    | 460     | 570  | 500     | \n",
    "| Bremen     | 440       | 400    | 750     | 320  | 130     | \n",
    "| Düsseldorf | 230       | 560    | 610     | 40   | 410     | \n"
   ],
   "execution_count": null,
   "outputs": []
  },
  {
   "cell_type": "code",
   "execution_count": null,
   "metadata": {},
   "outputs": [],
   "source": [
    "dist=[]\n",
    "with open(\"Entfernung.csv\", encoding=\"utf-8\") as csv_file:\n",
    "     csv_reader = csv.reader(csv_file)\n",
    "     next(csv_reader)\n",
    "     for row in csv_reader:\n",
    "          rowAsInt = [int(item) for item in row[1:]]\n",
    "          dist.append(rowAsInt)"
   ]
  },
  {
   "cell_type": "markdown",
   "metadata": {},
   "source": [
    "## Aufgabe 3c)\n",
    "Da Ihnen die Werte für die Transportkosten nicht gegeben sind, berechnen Sie diese aus den vorhandenen Daten Dauer und Entfernung. Gehen Sie von einem km-Kostensatz von 0,75 GE/km und einem Stundenlohn von 45 GE aus.\n",
    "\n",
    "### Definition der Mengen"
   ],
   "execution_count": null,
   "outputs": []
  },
  {
   "cell_type": "code",
   "execution_count": null,
   "metadata": {},
   "outputs": [],
   "source": [
    "I_max = len(b)\n",
    "J_max = len(d)\n",
    "\n",
    "I = range(I_max)\n",
    "J = range(J_max)"
   ]
  },
  {
   "cell_type": "markdown",
   "metadata": {},
   "source": [
    "### Berechnung der Kosten"
   ],
   "execution_count": null,
   "outputs": []
  },
  {
   "cell_type": "code",
   "execution_count": null,
   "metadata": {},
   "outputs": [],
   "source": [
    "c = []\n",
    "for i in I:\n",
    "     newRow = []\n",
    "     for j in J:\n",
    "          newRow.append(costperH * dur[i][j] + costPerKm * dist[i][j])\n",
    "     c.append(newRow)"
   ]
  },
  {
   "cell_type": "markdown",
   "metadata": {},
   "source": [
    "## Aufgabe 3d)\n",
    "Lassen Sie sich zur Kontrolle jede Zeile der berechneten Kostenmatrix in der Konsole ausgeben und lösen Sie das Problem."
   ],
   "execution_count": null,
   "outputs": []
  },
  {
   "cell_type": "markdown",
   "metadata": {},
   "source": [
    "Initialisierung des Modells:"
   ],
   "execution_count": null,
   "outputs": []
  },
  {
   "cell_type": "code",
   "execution_count": null,
   "metadata": {},
   "outputs": [],
   "source": [
    "m = gp.Model()"
   ]
  },
  {
   "cell_type": "markdown",
   "metadata": {},
   "source": [
    "### Initialisierung der Variablen:\n",
    "\n",
    "Variante - Wiederholter Aufruf von `model.addVar()`"
   ],
   "execution_count": null,
   "outputs": []
  },
  {
   "cell_type": "code",
   "execution_count": null,
   "metadata": {},
   "outputs": [],
   "source": [
    "x = {}\n",
    "for i in I:\n",
    "     for j in J:\n",
    "          x[i,j] = m.addVar(vtype=GRB.CONTINUOUS, name=\"x_\"+str(i)+str(j))"
   ]
  },
  {
   "cell_type": "code",
   "execution_count": null,
   "metadata": {},
   "outputs": [],
   "source": [
    "y = {}\n",
    "for i in I:\n",
    "     y[i] = m.addVar(vtype=GRB.BINARY, name=\"y_\"+str(i))"
   ]
  },
  {
   "cell_type": "markdown",
   "metadata": {},
   "source": [
    "Variante - Aufruf von `model.addVars()` "
   ],
   "execution_count": null,
   "outputs": []
  },
  {
   "cell_type": "code",
   "execution_count": null,
   "metadata": {},
   "outputs": [],
   "source": [
    "x = m.addVars(I_max, J_max, vtype=GRB.CONTINUOUS, name=\"x\")"
   ]
  },
  {
   "cell_type": "code",
   "execution_count": null,
   "metadata": {},
   "outputs": [],
   "source": [
    "y = m.addVars(I_max, vtype=GRB.BINARY, name=\"y\")"
   ]
  },
  {
   "cell_type": "markdown",
   "metadata": {},
   "source": [
    "Definition der Zielfunktion"
   ],
   "execution_count": null,
   "outputs": []
  },
  {
   "cell_type": "code",
   "execution_count": null,
   "metadata": {},
   "outputs": [],
   "source": [
    "m.setObjective(gp.quicksum(f[i] * y[i] for i in I) + gp.quicksum(c[i][j] * x[i,j] for j in J for i in I), GRB.MINIMIZE)"
   ]
  },
  {
   "cell_type": "markdown",
   "metadata": {},
   "source": [
    "### Hinzufügen der Nebenbedingungen\n",
    "\n",
    "Variante - Wiederholter Aufruf von `model.addConstr()`"
   ],
   "execution_count": null,
   "outputs": []
  },
  {
   "cell_type": "code",
   "execution_count": null,
   "metadata": {},
   "outputs": [],
   "source": [
    "for j in J:\n",
    "     m.addConstr(gp.quicksum(x[i,j] for i in I) == d[j], \"nb_\" + str(j))"
   ]
  },
  {
   "cell_type": "code",
   "execution_count": null,
   "metadata": {},
   "outputs": [],
   "source": [
    "for i in I:\n",
    "     m.addConstr(gp.quicksum(x[i,j] for j in J) <= b[i] * y[i], \"kb_\" + str(i))"
   ]
  },
  {
   "cell_type": "markdown",
   "metadata": {},
   "source": [
    "Variante - Aufruf von `model.addConstrs()`"
   ],
   "execution_count": null,
   "outputs": []
  },
  {
   "cell_type": "code",
   "execution_count": null,
   "metadata": {},
   "outputs": [],
   "source": [
    "m.addConstrs((x.sum(\"*\", j) == d[j] for j in J), name=\"nb\")"
   ]
  },
  {
   "cell_type": "code",
   "execution_count": null,
   "metadata": {},
   "outputs": [],
   "source": [
    "m.addConstrs((x.sum(i, \"*\") == b[i] * y[i] for i in I), name=\"kb\")"
   ]
  },
  {
   "cell_type": "markdown",
   "metadata": {},
   "source": [
    "Hinweis: `var.sum()` funktioniert nur, wenn vorher `var` mit `model.addVars()` erzeugt wurde, da `model.addVars()` ein Tupledict zurückgibt und `var.sum()` nur für Tupledicts definiert ist. \n",
    "\n",
    "### Optimierung:"
   ],
   "execution_count": null,
   "outputs": []
  },
  {
   "cell_type": "code",
   "execution_count": null,
   "metadata": {},
   "outputs": [],
   "source": [
    "m.optimize()"
   ]
  },
  {
   "cell_type": "markdown",
   "metadata": {},
   "source": [
    "Ergebnisausgabe:"
   ],
   "execution_count": null,
   "outputs": []
  },
  {
   "cell_type": "code",
   "execution_count": null,
   "metadata": {},
   "outputs": [],
   "source": [
    "m.printAttr(GRB.Attr.ObjVal)"
   ]
  },
  {
   "cell_type": "code",
   "execution_count": null,
   "metadata": {},
   "outputs": [],
   "source": [
    "m.printAttr(GRB.Attr.X)"
   ]
  },
  {
   "cell_type": "markdown",
   "metadata": {},
   "source": [
    "## Aufgabe 2d)\n",
    "Angenommen das Unternehmen besitzt keine Lieferverpflichtung und erhält pro Transport eine Entschädigung von 350 GE. Welche Transporte würden dann ausgeführt\n",
    "werden, wo werden Standorte gebaut und wie hoch ist der Gewinn? Ändern sie hierfür die erforderlichen Nebenbedingungen und die Zielfunktion und optimieren Sie erneut.\n",
    "\n",
    "Keine Lieferverpflichtung:\n",
    "Nachfrage pro Standort muss nicht mehr vollständig gedeckt sein."
   ],
   "execution_count": null,
   "outputs": []
  },
  {
   "cell_type": "code",
   "execution_count": null,
   "metadata": {},
   "outputs": [],
   "source": [
    "for j in J:\n",
    "     m.addConstr(gp.quicksum(x[i,j] for i in I) <= d[j], \"nb_\" + str(j))"
   ]
  },
  {
   "cell_type": "markdown",
   "metadata": {},
   "source": [
    "Transportentschädigung: Gewinn wird mit variablen Transportkosten verrechnet."
   ],
   "execution_count": null,
   "outputs": []
  },
  {
   "cell_type": "code",
   "execution_count": null,
   "metadata": {},
   "outputs": [],
   "source": [
    "g = 350\n",
    "gewinn = gp.quicksum((g - c[i][j]) * x[i,j] for j in J for i in I)\n",
    "fixeKosten = gp.quicksum(f[i] * y[i] for i in I)\n",
    "m.setObjective(gewinn - fixeKosten, GRB.MAXIMIZE)"
   ]
  }
 ]
}