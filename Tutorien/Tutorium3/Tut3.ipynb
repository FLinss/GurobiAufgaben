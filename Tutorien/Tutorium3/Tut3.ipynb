{
 "nbformat": 4,
 "nbformat_minor": 2,
 "metadata": {
  "language_info": {
   "name": "python",
   "codemirror_mode": {
    "name": "ipython",
    "version": 3
   },
   "version": "3.7.6-final"
  },
  "orig_nbformat": 2,
  "file_extension": ".py",
  "mimetype": "text/x-python",
  "name": "python",
  "npconvert_exporter": "python",
  "pygments_lexer": "ipython3",
  "version": 3,
  "kernelspec": {
   "name": "python3",
   "display_name": "Python 3"
  }
 },
 "cells": [
  {
   "cell_type": "markdown",
   "metadata": {},
   "source": [
    "# Tutorium 2\n",
    "\n",
    "## Mathematisches Modell\n",
    "\n",
    "**Zielfunktion**\n",
    "\n",
    "\\begin{equation}\n",
    "\tminimiere\\ \\ Z = \\sum^{I}_{i=1} f_{i} \\cdot y_{i} + \\sum^{I}_{i=1} \\sum^{J}_{j=1} c_{ij} \\cdot x_{ij}\n",
    "\\end{equation}\n",
    "\n",
    "**unter den Nebenbedingungen**\n",
    "\n",
    "\\begin{align}\n",
    "&& \\sum^{I}_{i=1} x_{ij} &= d_{j} && \\forall j \\in J \\\\[5pt]\n",
    "&& \\sum^{J}_{j=1} x_{ij} &\\leq b_{i} \\cdot y_{i} && \\forall i \\in I \\\\[10pt]\n",
    "&& x_{ij} &\\geq 0 && \\forall i \\in I, \\forall j \\in J \\\\[5pt]\n",
    "&& y_{i} &\\in \\left\\{ 0, 1 \\right\\} &&\n",
    "\\end{align}\n"
   ],
   "execution_count": null,
   "outputs": []
  },
  {
   "cell_type": "markdown",
   "metadata": {},
   "source": [
    "## Aufgabe 3b)\n",
    "Lesen Sie aus den csv-Dateien die erforderlichen Daten ein inkl. der Namen der Absatzorte und Standorte."
   ],
   "execution_count": null,
   "outputs": []
  },
  {
   "cell_type": "code",
   "execution_count": null,
   "metadata": {},
   "outputs": [],
   "source": [
    "import gurobipy as gp\n",
    "from gurobipy import GRB\n",
    "import csv"
   ]
  },
  {
   "cell_type": "markdown",
   "metadata": {},
   "source": [
    "### Absatzorte.csv\n",
    "\n",
    "| Ort       | Bedarf | \n",
    "|:----------|--------| \n",
    "| Frankfurt | 200    | \n",
    "| Berlin    | 250    | \n",
    "| München   | 150    | \n",
    "| Köln      | 300    | \n",
    "| Hamburg   | 100    | "
   ],
   "execution_count": null,
   "outputs": []
  },
  {
   "cell_type": "code",
   "execution_count": null,
   "metadata": {},
   "outputs": [],
   "source": [
    "d=[]\n",
    "ao=[]\n",
    "with open(\"Absatzorte.csv\", encoding=\"utf-8\") as csv_file:\n",
    "     csv_reader = csv.DictReader(csv_file)\n",
    "     for row in csv_reader:\n",
    "          d.append(int(row[\"Bedarf\"]))\n",
    "          ao.append(row[\"Ort\"])"
   ]
  },
  {
   "cell_type": "markdown",
   "metadata": {},
   "source": [
    "### Standorte.csv\n",
    "\n",
    "| Ort        | Kapazität | Fixkosten | \n",
    "|:-----------|-----------|-----------| \n",
    "| Dresden    | 400       | 60000     | \n",
    "| Bremen     | 350       | 60000     | \n",
    "| Düsseldorf | 600       | 80000     | "
   ],
   "execution_count": null,
   "outputs": []
  },
  {
   "cell_type": "code",
   "execution_count": null,
   "metadata": {},
   "outputs": [],
   "source": [
    "b=[]\n",
    "f=[]\n",
    "so=[]\n",
    "with open(\"Standorte.csv\", encoding=\"utf-8\") as csv_file:\n",
    "     csv_reader = csv.DictReader(csv_file)\n",
    "     for row in csv_reader:\n",
    "          b.append(int(row[\"Kapazität\"]))\n",
    "          f.append(int(row[\"Fixkosten\"]))\n",
    "          so.append(row[\"Ort\"])"
   ]
  },
  {
   "cell_type": "markdown",
   "metadata": {},
   "source": [
    "Hinweis: Zum Einlesen von der Distanz und der Fahrtdauer empfiehlt sich ein Einlesen mit `csv.reader()`, da nicht mit den Spaltennamen gearbeitet werden muss.\n",
    "\n",
    "### Dauer.csv\n",
    "\n",
    "| Orte       | Frankfurt | Berlin | München | Köln | Hamburg | \n",
    "|:-----------|-----------|--------|---------|------|---------| \n",
    "| Dresden    | 4         | 2      | 5       | 6    | 5       | \n",
    "| Bremen     | 4         | 4      | 8       | 3    | 2       | \n",
    "| Düsseldorf | 2         | 6      | 7       | 1    | 5       | "
   ],
   "execution_count": null,
   "outputs": []
  },
  {
   "cell_type": "code",
   "execution_count": null,
   "metadata": {},
   "outputs": [],
   "source": [
    "dur=[]\n",
    "with open(\"Dauer.csv\", encoding=\"utf-8\") as csv_file:\n",
    "     csv_reader = csv.reader(csv_file)\n",
    "     next(csv_reader)\n",
    "     for row in csv_reader:\n",
    "          rowAsInt = [int(item) for item in row[1:]]\n",
    "          dur.append(rowAsInt)"
   ]
  },
  {
   "cell_type": "markdown",
   "metadata": {},
   "source": [
    "### Enfernung.csv\n",
    "\n",
    "| Orte       | Frankfurt | Berlin | München | Köln | Hamburg | \n",
    "|:-----------|-----------|--------|---------|------|---------| \n",
    "| Dresden    | 460       | 190    | 460     | 570  | 500     | \n",
    "| Bremen     | 440       | 400    | 750     | 320  | 130     | \n",
    "| Düsseldorf | 230       | 560    | 610     | 40   | 410     | \n"
   ],
   "execution_count": null,
   "outputs": []
  },
  {
   "cell_type": "code",
   "execution_count": null,
   "metadata": {},
   "outputs": [],
   "source": [
    "dist=[]\n",
    "with open(\"Entfernung.csv\", encoding=\"utf-8\") as csv_file:\n",
    "     csv_reader = csv.reader(csv_file)\n",
    "     next(csv_reader)\n",
    "     for row in csv_reader:\n",
    "          rowAsInt = [int(item) for item in row[1:]]\n",
    "          dist.append(rowAsInt)"
   ]
  },
  {
   "cell_type": "markdown",
   "metadata": {},
   "source": [
    "## Aufgabe 3c)\n",
    "Da Ihnen die Werte für die Transportkosten nicht gegeben sind, berechnen Sie diese aus den vorhandenen Daten Dauer und Entfernung. Gehen Sie von einem km-Kostensatz von 0,75 GE/km und einem Stundenlohn von 45 GE aus.\n",
    "\n",
    "### Definition der Mengen"
   ],
   "execution_count": null,
   "outputs": []
  },
  {
   "cell_type": "code",
   "execution_count": null,
   "metadata": {},
   "outputs": [],
   "source": [
    "I_max = len(b)\n",
    "J_max = len(d)\n",
    "\n",
    "I = range(I_max)\n",
    "J = range(J_max)"
   ]
  },
  {
   "cell_type": "markdown",
   "metadata": {},
   "source": [
    "### Berechnung der Kosten"
   ],
   "execution_count": null,
   "outputs": []
  },
  {
   "cell_type": "code",
   "execution_count": null,
   "metadata": {},
   "outputs": [],
   "source": [
    "costPerKm = 0.75\n",
    "costperH = 45"
   ]
  },
  {
   "cell_type": "code",
   "execution_count": null,
   "metadata": {},
   "outputs": [],
   "source": [
    "c = []\n",
    "for i in I:\n",
    "     newRow = []\n",
    "     for j in J:\n",
    "          newRow.append(costperH * dur[i][j] + costPerKm * dist[i][j])\n",
    "     c.append(newRow)"
   ]
  },
  {
   "cell_type": "markdown",
   "metadata": {},
   "source": [
    "## Aufgabe 3d)\n",
    "Lassen Sie sich zur Kontrolle jede Zeile der berechneten Kostenmatrix in der Konsole ausgeben und lösen Sie das Problem."
   ],
   "execution_count": null,
   "outputs": []
  },
  {
   "cell_type": "code",
   "execution_count": null,
   "metadata": {},
   "outputs": [],
   "source": [
    "for row in c:\n",
    "    print(row)"
   ]
  },
  {
   "cell_type": "markdown",
   "metadata": {},
   "source": [
    "Initialisierung des Modells:"
   ],
   "execution_count": null,
   "outputs": []
  },
  {
   "cell_type": "code",
   "execution_count": null,
   "metadata": {},
   "outputs": [],
   "source": [
    "m = gp.Model()"
   ]
  },
  {
   "cell_type": "markdown",
   "metadata": {},
   "source": [
    "Initialisierung der Variablen:"
   ],
   "execution_count": null,
   "outputs": []
  },
  {
   "cell_type": "code",
   "execution_count": null,
   "metadata": {},
   "outputs": [],
   "source": [
    "x = {}\n",
    "for i in I:\n",
    "     for j in J:\n",
    "          x[i,j] = m.addVar(vtype=GRB.CONTINUOUS, name=\"x_\"+str(i)+str(j))"
   ]
  },
  {
   "cell_type": "code",
   "execution_count": null,
   "metadata": {},
   "outputs": [],
   "source": [
    "y = {}\n",
    "for i in I:\n",
    "     y[i] = m.addVar(vtype=GRB.BINARY, name=\"y_\"+str(i))"
   ]
  },
  {
   "cell_type": "markdown",
   "metadata": {},
   "source": [
    "Definition der Zielfunktion"
   ],
   "execution_count": null,
   "outputs": []
  },
  {
   "cell_type": "code",
   "execution_count": null,
   "metadata": {},
   "outputs": [],
   "source": [
    "m.setObjective(gp.quicksum(f[i] * y[i] for i in I) + gp.quicksum(c[i][j] * x[i,j] for j in J for i in I), GRB.MINIMIZE)"
   ]
  },
  {
   "cell_type": "markdown",
   "metadata": {},
   "source": [
    "Hinzufügen der Nebenbedingungen"
   ],
   "execution_count": null,
   "outputs": []
  },
  {
   "cell_type": "code",
   "execution_count": null,
   "metadata": {},
   "outputs": [],
   "source": [
    "for j in J:\n",
    "     m.addConstr(gp.quicksum(x[i,j] for i in I) == d[j], \"nb_\" + str(j))"
   ]
  },
  {
   "cell_type": "code",
   "execution_count": null,
   "metadata": {},
   "outputs": [],
   "source": [
    "for i in I:\n",
    "     m.addConstr(gp.quicksum(x[i,j] for j in J) <= b[i] * y[i], \"kb_\" + str(i))"
   ]
  },
  {
   "cell_type": "markdown",
   "metadata": {},
   "source": [
    "Optimierung:"
   ],
   "execution_count": null,
   "outputs": []
  },
  {
   "cell_type": "code",
   "execution_count": null,
   "metadata": {},
   "outputs": [],
   "source": [
    "m.optimize()"
   ]
  },
  {
   "cell_type": "markdown",
   "metadata": {},
   "source": [
    "## Aufgabe 3e)\n",
    "Schreiben Sie in die Konsole als Vorbereitung eines aussagekräftigen Ergebnisses den Satz: \"Optimale Standortwahl bei mehreren Betriebsstätten\"."
   ],
   "execution_count": null,
   "outputs": []
  },
  {
   "cell_type": "code",
   "execution_count": null,
   "metadata": {},
   "outputs": [],
   "source": [
    "print(\"\\nOptimale Standortwahl bei mehreren Betriebsstätten\\n\")"
   ]
  },
  {
   "cell_type": "markdown",
   "metadata": {},
   "source": [
    "## Aufgabe 3f)\n",
    "Geben Sie den Zielfunktionswert innerhalb eines Satzes an."
   ],
   "execution_count": null,
   "outputs": []
  },
  {
   "cell_type": "code",
   "execution_count": null,
   "metadata": {},
   "outputs": [],
   "source": [
    "print(\"Die gesamten Kosten des Transportes betragen\", m.getAttr(GRB.Attr.ObjVal), \"GE.\")"
   ]
  },
  {
   "cell_type": "markdown",
   "metadata": {},
   "source": [
    "## Aufgabe 3g)\n",
    "Formulieren Sie anschließend die Standortwahl."
   ],
   "execution_count": null,
   "outputs": []
  },
  {
   "cell_type": "code",
   "execution_count": null,
   "metadata": {},
   "outputs": [],
   "source": [
    "for i in I:\n",
    "     if y[i].X > 0:\n",
    "          print(\"In\", so[i], \"wird ein Standort errichtet.\")\n",
    "          print(\"\\tFixkosten:\", f[i], \"GE\")\n",
    "          print(\"\\tVariable Kosten:\", sum([c[i][j] * x[i,j].X for j in J]), \"GE\")\n",
    "     else:\n",
    "          print(\"In\", so[i], \"wird KEIN Standort errichtet.\")"
   ]
  },
  {
   "cell_type": "markdown",
   "metadata": {},
   "source": [
    "## Aufgabe 3h)\n",
    "Des Weiteren sollen die Lieferungen zwischen den Standorten sowie die jeweils zugehörigen Transportkosten in der Konsole beschrieben werden."
   ],
   "execution_count": null,
   "outputs": []
  },
  {
   "cell_type": "code",
   "execution_count": null,
   "metadata": {},
   "outputs": [],
   "source": [
    "for i in I:\n",
    "     for j in J:\n",
    "          if x[i,j].X > 0:\n",
    "               print(\"Von\", so[i], \"werden\", x[i,j].X, \"ME nach\", ao[j], \"geliefert, die Transportkosten betragen dabei\", c[i][j] * x[i,j].X, \"GE.\")"
   ]
  },
  {
   "cell_type": "markdown",
   "metadata": {},
   "source": [
    "## Aufgabe 3i)\n",
    "Erzeugen Sie eine Textdatei \"Ergebnisausgabe.txt\" und schreiben Sie in diese Datei die Ausgabe von e) -- h)."
   ],
   "execution_count": null,
   "outputs": []
  },
  {
   "cell_type": "code",
   "execution_count": null,
   "metadata": {},
   "outputs": [],
   "source": [
    "with open(\"Ergebnisausgabe.txt\", \"w\", encoding=\"utf-8\") as file:\n",
    "     file.write(\"Optimale Standortwahl bei mehreren Betriebsstätten\\n\\n\")\n",
    "     file.write(\"Die gesamten Kosten des Transportes betragen \" + str(m.getAttr(GRB.Attr.ObjVal)) + \" GE.\\n\")\n",
    "     for i in I:\n",
    "          if y[i].X > 0:\n",
    "               file.write(\"In \" + so[i] + \" wird ein Standort errichtet!\\n\")\n",
    "               file.write(\"\\tFixkosten: \" + str(f[i]) + \"GE \\n\")\n",
    "               file.write(\"\\tVariable Kosten: \" + str(sum([c[i][j] * x[i,j].X for j in J])) + \" GE\\n\")\n",
    "          else:\n",
    "               file.write(\"In \" + so[i] + \" wird KEIN Standort errichtet!\\n\")\n",
    "     file.write(\"\\n\")\n",
    "     for i in I:\n",
    "          for j in J:\n",
    "               if x[i,j].X > 0:\n",
    "                    file.write(\"Von \" + so[i] + \" werden \" + str(x[i,j].X) + \" ME nach \" + ao[j] +\n",
    "                    \" geliefert, die Transportkosten betragen dabei \" + str(c[i][j] * x[i,j].X) + \" GE.\\n\")"
   ]
  }
 ]
}