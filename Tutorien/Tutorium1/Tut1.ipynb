{
 "cells": [
  {
   "cell_type": "markdown",
   "metadata": {},
   "source": [
    "# Tutorium 1\n",
    "\n"
   ]
  },
  {
   "cell_type": "markdown",
   "metadata": {},
   "source": [
    "## Aufgabe 1b)\n",
    "Legen Sie zwei Variablen a und b mit den Werten 1 und 3.5 an."
   ]
  },
  {
   "cell_type": "code",
   "execution_count": null,
   "metadata": {},
   "outputs": [],
   "source": [
    "a = 1\n",
    "b = 3.5"
   ]
  },
  {
   "cell_type": "markdown",
   "metadata": {},
   "source": [
    "## Aufgabe 1c)\n",
    "Berechnen Sie die Summe von a und b sowohl mit impliziter Typumwandlung, als auch mit expliziter Typumwandlung als `integer`. Überprüfen Sie den Datentyp."
   ]
  },
  {
   "cell_type": "code",
   "execution_count": null,
   "metadata": {},
   "outputs": [],
   "source": [
    "c1 = a + b\n",
    "print(c1,type(c1))"
   ]
  },
  {
   "cell_type": "code",
   "execution_count": null,
   "metadata": {},
   "outputs": [],
   "source": [
    "c2 = a + int(b)\n",
    "print(c2,type(c2))"
   ]
  },
  {
   "cell_type": "markdown",
   "metadata": {},
   "source": [
    "## Aufgabe 1d)\n",
    "Erzeugen Sie eine Liste namens Obst mit den Namen Kirsche, Banane, Apfel und Birne."
   ]
  },
  {
   "cell_type": "code",
   "execution_count": null,
   "metadata": {},
   "outputs": [],
   "source": [
    "Obst = [\"Kirsche\", \"Banane\", \"Apfel\", \"Birne\"]"
   ]
  },
  {
   "cell_type": "markdown",
   "metadata": {},
   "source": [
    "## Aufgabe 1e)\n",
    "Sortieren Sie die Liste aufsteigend und lassen Sie sich die Liste ausgeben."
   ]
  },
  {
   "cell_type": "code",
   "execution_count": null,
   "metadata": {},
   "outputs": [],
   "source": [
    "Obst.sort()\n",
    "Obst"
   ]
  },
  {
   "cell_type": "markdown",
   "metadata": {},
   "source": [
    "## Aufgabe 1f)\n",
    "Lassen Sie sich sowohl das erste Element von Obst ausgeben als auch das 3. und 4. Element ausgeben."
   ]
  },
  {
   "cell_type": "code",
   "execution_count": null,
   "metadata": {},
   "outputs": [],
   "source": [
    "Obst[0]"
   ]
  },
  {
   "cell_type": "code",
   "execution_count": null,
   "metadata": {},
   "outputs": [],
   "source": [
    "Obst[2:4]"
   ]
  },
  {
   "cell_type": "markdown",
   "metadata": {},
   "source": [
    "## Aufgabe 1g)\n",
    "Überführen Sie die Liste Obst in eine Dictionary Obst2 bestehend aus den Namen als Keys und den Gewichten als Values. Die Werte dazu sind:\n",
    "\n",
    "| Name    | Gewicht |\n",
    "|:--------|--------:|\n",
    "| Apfel   |     135 |\n",
    "| Banane  |     115 |\n",
    "| Birne   |     206 |\n",
    "| Kirsche |       6 |\n",
    "\n",
    "Legen Sie zunächst eine weitere Liste mit den Gewichten an.\n",
    "\n",
    "Hinweis: Nutzen Sie die Funktion `enumerate()` um die Indizes und Elemente einer Liste zu verwenden."
   ]
  },
  {
   "cell_type": "code",
   "execution_count": null,
   "metadata": {},
   "outputs": [],
   "source": [
    "Gewicht = [135, 115, 206, 6]"
   ]
  },
  {
   "cell_type": "code",
   "execution_count": null,
   "metadata": {},
   "outputs": [],
   "source": [
    "Obst2 = {}\n",
    "for index,item in enumerate(Obst):\n",
    "    Obst2[item] = Gewicht[index]\n",
    "Obst2"
   ]
  },
  {
   "cell_type": "markdown",
   "metadata": {},
   "source": [
    "## Aufgabe 1h)\n",
    "Legen Sie eine Liste E an, die die geraden Zahlen von 1 bis einschließlich 20 enthält."
   ]
  },
  {
   "cell_type": "code",
   "execution_count": null,
   "metadata": {},
   "outputs": [],
   "source": [
    "# Ausführliche Version\n",
    "e = []\n",
    "for i in range(1,21):\n",
    "    if i % 2 == 0:\n",
    "        e.append(i)\n",
    "e"
   ]
  },
  {
   "cell_type": "code",
   "execution_count": null,
   "metadata": {},
   "outputs": [],
   "source": [
    "# Kurzform:\n",
    "e = [i for i in range(1,21) if i % 2 == 0]\n",
    "e"
   ]
  },
  {
   "cell_type": "markdown",
   "metadata": {},
   "source": [
    "## Aufgabe 1i)\n",
    "Lesen Sie die Datei Plan.csv ein. Laden Sie zunächst das erforderliche Modul und lassen Sie sich dann jede Doppelstunde am Freitag ausgeben.\n",
    "\n",
    "Muster: Die ... Doppelstunde am Freitag ist ..."
   ]
  },
  {
   "cell_type": "code",
   "execution_count": null,
   "metadata": {},
   "outputs": [],
   "source": [
    "import csv"
   ]
  },
  {
   "cell_type": "code",
   "execution_count": null,
   "metadata": {},
   "outputs": [],
   "source": [
    "with open(\"Plan.csv\", encoding=\"utf-8\") as csv_file:\n",
    "    csv_reader = csv.DictReader(csv_file)\n",
    "    for row in csv_reader:\n",
    "        print(\"Die\", str(row[\"Stunde\"]) + \". Doppelstunde am Freitag ist\", row[\"Freitag\"])"
   ]
  },
  {
   "cell_type": "markdown",
   "metadata": {},
   "source": [
    "## Aufgabe 1j)\n",
    "Lesen Sie die Matrix aus der Datei Matrix.csv ein und speichern Sie diese als geschachtelte Liste m."
   ]
  },
  {
   "cell_type": "code",
   "execution_count": null,
   "metadata": {},
   "outputs": [],
   "source": [
    "m = []\n",
    "with open(\"Matrix.csv\", encoding=\"utf-8\") as csv_file:\n",
    "    csv_reader = csv.reader(csv_file)\n",
    "    for row in csv_reader:\n",
    "        rowAsInt = [int(item) for item in row]\n",
    "        m.append(rowAsInt)\n",
    "m"
   ]
  },
  {
   "cell_type": "markdown",
   "metadata": {},
   "source": [
    "## Aufgabe 1k)\n",
    "Lassen Sie sich von der eingelesenen Matrix m die Zeilensummen ausgeben."
   ]
  },
  {
   "cell_type": "code",
   "execution_count": null,
   "metadata": {},
   "outputs": [],
   "source": [
    "for row in m:\n",
    "    print(sum(row))"
   ]
  },
  {
   "cell_type": "markdown",
   "metadata": {},
   "source": [
    "## Aufgabe 1l)\n",
    "Eine Primzahl ist eine natürliche Zahl, die größer als 1 und ausschließlich durch sich selbst und durch 1 teilbar ist. Um zu überprüfen, ob eine Zahl eine Primzahl ist, gibt es zahlreiche Tests. Der einfachste Primzahltest ist die Probedivision. Dabei probiert man nacheinander, ob die Zahl $n$ durch eine der Zahlen $p$ mit $2\\leq p\\leq \\sqrt{n}$ teilbar ist. Wenn nicht, dann ist $n$ eine Primzahl.\n",
    "\n",
    "Implementieren Sie diesen Primzahltest. Falls eine Zahl keine Primzahl ist, sollen die beiden Teiler angegeben werden. Testen Sie die Zahlen: 7, 87, 1143, 8087.\n",
    "\n",
    "Hinweis: Mit dem Schlüsselwort `break` kann eine for-Schleife abgebrochen werden."
   ]
  },
  {
   "cell_type": "code",
   "execution_count": null,
   "metadata": {},
   "outputs": [],
   "source": [
    "num = 7 # 87, 1143, 8087"
   ]
  },
  {
   "cell_type": "code",
   "execution_count": null,
   "metadata": {},
   "outputs": [],
   "source": [
    "if num > 1:\n",
    "   for i in range(2,int(num**0.5)):\n",
    "       if (num % i) == 0:\n",
    "           print(num,\"ist keine Primzahl.\")\n",
    "           print(i,\"mal\",num//i,\"ist\",num)\n",
    "           break\n",
    "   else:\n",
    "       print(num,\"ist eine Primzahl.\")\n",
    "else:\n",
    "   print(num,\"ist keine Primzahl.\")"
   ]
  },
  {
   "cell_type": "markdown",
   "metadata": {},
   "source": [
    "## Aufgabe 1m)\n",
    "Zahlenpalindrome bzw. Palindromzahlen sind natürliche Zahlen, deren Zahlensystemdarstellung von vorne und hinten gelesen den gleichen Wert hat, z. B. 1331. Die größte Palindromzahl aus dem Produkt von zwei zweistelligen Zahlen ist 9009 = 91 × 99.\n",
    "\n",
    "Finden Sie die größte Palindromzahl aus dem Produkt von zwei dreistelligen Zahlen.\n",
    "\n",
    "Hinweis: Die Slice-Indizierung kann auch mit [begin : end : step] bzw. [ <first element to include> : <first element to exclude> : <step> ] angeben werden."
   ]
  },
  {
   "cell_type": "code",
   "execution_count": null,
   "metadata": {},
   "outputs": [],
   "source": [
    "# Ausführliche Form\n",
    "lsg = []\n",
    "for i in range(100,1000):\n",
    "    for j in range(100,1000):\n",
    "        intAsStr = str(i * j)\n",
    "        if intAsStr == intAsStr[len(intAsStr): : -1]:\n",
    "            lsg.append(i*j)\n",
    "max(lsg)"
   ]
  },
  {
   "cell_type": "code",
   "execution_count": null,
   "metadata": {},
   "outputs": [],
   "source": [
    "# Kurzform\n",
    "max([i*j for i in range(100,1000) for j in range(100,1000) if str(i*j) == str(i*j)[ : : -1]])"
   ]
  },
  {
   "cell_type": "code",
   "execution_count": null,
   "metadata": {},
   "outputs": [],
   "source": []
  }
 ],
 "metadata": {
  "language_info": {
   "codemirror_mode": {
    "name": "ipython",
    "version": 3
   },
   "file_extension": ".py",
   "mimetype": "text/x-python",
   "name": "python",
   "nbconvert_exporter": "python",
   "pygments_lexer": "ipython3",
   "version": "3.7.6-final"
  },
  "orig_nbformat": 2,
  "kernelspec": {
   "name": "python3",
   "display_name": "Python 3"
  }
 },
 "nbformat": 4,
 "nbformat_minor": 2
}