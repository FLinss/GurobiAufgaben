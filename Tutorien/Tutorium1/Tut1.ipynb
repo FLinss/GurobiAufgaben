{
 "nbformat": 4,
 "nbformat_minor": 2,
 "metadata": {
  "language_info": {
   "name": "python",
   "codemirror_mode": {
    "name": "ipython",
    "version": 3
   },
   "version": "3.7.6-final"
  },
  "orig_nbformat": 2,
  "file_extension": ".py",
  "mimetype": "text/x-python",
  "name": "python",
  "npconvert_exporter": "python",
  "pygments_lexer": "ipython3",
  "version": 3,
  "kernelspec": {
   "name": "python3",
   "display_name": "Python 3"
  }
 },
 "cells": [
  {
   "cell_type": "markdown",
   "metadata": {},
   "source": [
    "# Tutorium 1\n",
    "\n",
    "## Mathematisches Modell\n",
    "\n",
    "**Zielfunktion**\n",
    "\n",
    "\\begin{equation}\n",
    "\tmaximiere\\ \\ G = 4,5x_B + 3,5x_K + 2,3x_L + 3,2x_T\n",
    "\\end{equation}\n",
    "\n",
    "**unter den Nebenbedingungen**\n",
    "\n",
    "\\begin{align*}\n",
    "\t6x_B + 3x_K + 3x_L + 4x_T &\\leq 3.900 \\\\\n",
    "\t2x_B + 2,5x_K + 2,5x_L + 3x_T &\\leq 3.900 \\\\ \n",
    "\t2,5x_B + 3x_K + 1,5x_L + 3x_T &\\leq 3.900 \\\\[1mm]\n",
    "\tx_B &\\leq 600 \\\\\n",
    "\tx_K &\\leq 200 \\\\\n",
    "\tx_L &\\leq 50 \\\\\n",
    "\tx_T &\\leq 150 \\\\[1mm]\n",
    "\tx_B, x_K, x_L, x_T &\\geq 0 \t\t\n",
    "\\end{align*}\n"
   ],
   "execution_count": null,
   "outputs": []
  },
  {
   "cell_type": "markdown",
   "metadata": {},
   "source": [
    "## Aufgabe 1c)\n",
    "Laden Sie die erforderlichen Module und erstellen Sie ein Gurobi-Modell."
   ],
   "execution_count": null,
   "outputs": []
  },
  {
   "cell_type": "code",
   "execution_count": null,
   "metadata": {},
   "outputs": [],
   "source": [
    "import gurobipy as gp\n",
    "from gurobipy import GRB\n",
    "\n",
    "m = gp.Model()"
   ]
  },
  {
   "cell_type": "markdown",
   "metadata": {},
   "source": [
    "## Aufgabe 1d)\n",
    "Fügen Sie dem Modell Entscheidungsvariablen hinzu und benennen Sie diese sinnvoll. Fügen Sie die Absatzhöchstmengen bereits bei der Variablendefinition hinzu."
   ],
   "execution_count": null,
   "outputs": []
  },
  {
   "cell_type": "code",
   "execution_count": null,
   "metadata": {},
   "outputs": [],
   "source": [
    "xB = m.addVar(vtype=GRB.CONTINUOUS, ub=600, name=\"x_B\")\n",
    "xK = m.addVar(vtype=GRB.CONTINUOUS, ub=200, name=\"x_K\")\n",
    "xL = m.addVar(vtype=GRB.CONTINUOUS, ub=50, name=\"x_L\")\n",
    "xT = m.addVar(vtype=GRB.CONTINUOUS, ub=150, name=\"x_T\")"
   ]
  },
  {
   "cell_type": "markdown",
   "metadata": {},
   "source": [
    "## Aufgabe 1e)\n",
    "Definieren Sie die Zielfunktion des Modells."
   ],
   "execution_count": null,
   "outputs": []
  },
  {
   "cell_type": "code",
   "execution_count": null,
   "metadata": {},
   "outputs": [],
   "source": [
    "m.setObjective(4.5*xB + 3.5*xK + 2.3*xL + 3.2*xT, GRB.MAXIMIZE)"
   ]
  },
  {
   "cell_type": "markdown",
   "metadata": {},
   "source": [
    "## Aufgabe 1f)\n",
    "Fügen Sie die notwendigen Nebenbedingungen dem Modell hinzu."
   ],
   "execution_count": null,
   "outputs": []
  },
  {
   "cell_type": "code",
   "execution_count": null,
   "metadata": {},
   "outputs": [],
   "source": [
    "m.addConstr(6*xB + 3*xK + 3*xL + 4*xT <= 3900,\"nb_I\")\n",
    "m.addConstr(2*xB + 2.5*xK + 2.5*xL + 3*xT <= 3900, \"nb_II\")\n",
    "m.addConstr(2.5*xB + 3*xK + 1.5*xL + 3*xT <= 3900, \"nb_III\")"
   ]
  },
  {
   "cell_type": "markdown",
   "metadata": {},
   "source": [
    "## Aufgabe 1g)\n",
    "Optimieren Sie das Modell und lassen sie sich den Zielfunktionswert und die Werte\n",
    "der Entscheidungsvariablen ausgeben."
   ],
   "execution_count": null,
   "outputs": []
  },
  {
   "cell_type": "code",
   "execution_count": null,
   "metadata": {},
   "outputs": [],
   "source": [
    "m.optimize()"
   ]
  },
  {
   "cell_type": "markdown",
   "metadata": {},
   "source": [
    "Zielfunktionswert:"
   ],
   "execution_count": null,
   "outputs": []
  },
  {
   "cell_type": "code",
   "execution_count": null,
   "metadata": {},
   "outputs": [],
   "source": [
    "m.printAttr(GRB.Attr.ObjVal)"
   ]
  },
  {
   "cell_type": "markdown",
   "metadata": {},
   "source": [
    "Werte der Entscheidungsvariablen:"
   ],
   "execution_count": null,
   "outputs": []
  },
  {
   "cell_type": "code",
   "execution_count": null,
   "metadata": {},
   "outputs": [],
   "source": [
    "m.printAttr(GRB.Attr.X)"
   ]
  }
 ]
}