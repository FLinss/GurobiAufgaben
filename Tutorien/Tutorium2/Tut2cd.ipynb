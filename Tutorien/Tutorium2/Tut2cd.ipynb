{
 "nbformat": 4,
 "nbformat_minor": 2,
 "metadata": {
  "language_info": {
   "name": "python",
   "codemirror_mode": {
    "name": "ipython",
    "version": 3
   },
   "version": "3.7.6-final"
  },
  "orig_nbformat": 2,
  "file_extension": ".py",
  "mimetype": "text/x-python",
  "name": "python",
  "npconvert_exporter": "python",
  "pygments_lexer": "ipython3",
  "version": 3,
  "kernelspec": {
   "name": "python3",
   "display_name": "Python 3"
  }
 },
 "cells": [
  {
   "cell_type": "markdown",
   "metadata": {},
   "source": [
    "# Tutorium 2\n",
    "\n",
    "## Mathematisches Modell\n",
    "\n",
    "**Zielfunktion**\n",
    "\n",
    "\\begin{equation}\n",
    "\tminimiere\\ \\ Z = \\sum^{I}_{i=1} f_{i} \\cdot y_{i} + \\sum^{I}_{i=1} \\sum^{J}_{j=1} c_{ij} \\cdot x_{ij}\n",
    "\\end{equation}\n",
    "\n",
    "**unter den Nebenbedingungen**\n",
    "\n",
    "\\begin{align}\n",
    "&& \\sum^{I}_{i=1} x_{ij} &= d_{j} && \\forall j \\in J \\\\[5pt]\n",
    "&& \\sum^{J}_{j=1} x_{ij} &\\leq b_{i} \\cdot y_{i} && \\forall i \\in I \\\\[10pt]\n",
    "&& x_{ij} &\\geq 0 && \\forall i \\in I, \\forall j \\in J \\\\[5pt]\n",
    "&& y_{i} &\\in \\left\\{ 0, 1 \\right\\} &&\n",
    "\\end{align}\n"
   ],
   "execution_count": null,
   "outputs": []
  },
  {
   "cell_type": "markdown",
   "metadata": {},
   "source": [
    "## Aufgabe 2c)\n",
    "Nutzen Sie zur Formulierung von Zielfunktion und Nebenbedingungen die mengenbasierte Syntax."
   ],
   "execution_count": null,
   "outputs": []
  },
  {
   "cell_type": "code",
   "execution_count": null,
   "metadata": {},
   "outputs": [],
   "source": [
    "import gurobipy as gp\n",
    "from gurobipy import GRB"
   ]
  },
  {
   "cell_type": "markdown",
   "metadata": {},
   "source": [
    "### Parameter:\n",
    "\n",
    "| Absatzort | Bedarfsmenge |   |   Standort | Kapazität | Fixkosten |\n",
    "|----------:|:------------:|:-:|-----------:|:---------:|:---------:|\n",
    "| Frankfurt |      200     |   |    Dresden |    400    |   60000   |\n",
    "|    Berlin |      250     |   |     Bremen |    350    |   60000   |\n",
    "|   München |      150     |   | Düsseldorf |    600    |   80000   |\n",
    "|      Köln |      300     |   |            |           |           |\n",
    "|   Hamburg |      100     |   |            |           |           |"
   ],
   "execution_count": null,
   "outputs": []
  },
  {
   "cell_type": "code",
   "execution_count": null,
   "metadata": {},
   "outputs": [],
   "source": [
    "d = [200, 250, 150, 300, 100]\n",
    "b = [400, 350, 600]\n",
    "f = [60000, 60000, 80000]"
   ]
  },
  {
   "cell_type": "markdown",
   "metadata": {},
   "source": [
    "Transportkosten zwischen Standort i und Absatzort j in GE/ME:\n",
    "\n",
    "|  Ort i \\ j | Frankfurt | Berlin | München | Köln | Hamburg |\n",
    "|-----------:|:---------:|:------:|:-------:|:----:|:-------:|\n",
    "|    Dresden |    270    |   170  |   400   |  450 |   300   |\n",
    "|     Bremen |    320    |   280  |   490   |  230 |   120   |\n",
    "| Düsseldorf |    120    |   390  |   240   |  230 |   370   |"
   ],
   "execution_count": null,
   "outputs": []
  },
  {
   "cell_type": "code",
   "execution_count": null,
   "metadata": {},
   "outputs": [],
   "source": [
    "c = [[270, 170, 400, 450, 300],\n",
    "     [320, 290, 490, 230, 120],\n",
    "     [120, 390, 240, 230, 370]]"
   ]
  },
  {
   "cell_type": "markdown",
   "metadata": {},
   "source": [
    "Definition der Mengen:"
   ],
   "execution_count": null,
   "outputs": []
  },
  {
   "cell_type": "code",
   "execution_count": null,
   "metadata": {},
   "outputs": [],
   "source": [
    "I_max = len(b)\n",
    "J_max = len(d)\n",
    "\n",
    "I = range(I_max)\n",
    "J = range(J_max)"
   ]
  },
  {
   "cell_type": "markdown",
   "metadata": {},
   "source": [
    "Initialisierung des Modells:"
   ],
   "execution_count": null,
   "outputs": []
  },
  {
   "cell_type": "code",
   "execution_count": null,
   "metadata": {},
   "outputs": [],
   "source": [
    "m = gp.Model()"
   ]
  },
  {
   "cell_type": "markdown",
   "metadata": {},
   "source": [
    "### Initialisierung der Variablen:\n",
    "\n",
    "Variante - Wiederholter Aufruf von `model.addVar()`"
   ],
   "execution_count": null,
   "outputs": []
  },
  {
   "cell_type": "code",
   "execution_count": null,
   "metadata": {},
   "outputs": [],
   "source": [
    "x = {}\n",
    "for i in I:\n",
    "     for j in J:\n",
    "          x[i,j] = m.addVar(vtype=GRB.CONTINUOUS, name=\"x_\"+str(i)+str(j))"
   ]
  },
  {
   "cell_type": "code",
   "execution_count": null,
   "metadata": {},
   "outputs": [],
   "source": [
    "y = {}\n",
    "for i in I:\n",
    "     y[i] = m.addVar(vtype=GRB.BINARY, name=\"y_\"+str(i))"
   ]
  },
  {
   "cell_type": "markdown",
   "metadata": {},
   "source": [
    "Variante - Aufruf von `model.addVars()` "
   ],
   "execution_count": null,
   "outputs": []
  },
  {
   "cell_type": "code",
   "execution_count": null,
   "metadata": {},
   "outputs": [],
   "source": [
    "x = m.addVars(I_max, J_max, vtype=GRB.CONTINUOUS, name=\"x\")"
   ]
  },
  {
   "cell_type": "code",
   "execution_count": null,
   "metadata": {},
   "outputs": [],
   "source": [
    "y = m.addVars(I_max, vtype=GRB.BINARY, name=\"y\")"
   ]
  },
  {
   "cell_type": "markdown",
   "metadata": {},
   "source": [
    "Definition der Zielfunktion"
   ],
   "execution_count": null,
   "outputs": []
  },
  {
   "cell_type": "code",
   "execution_count": null,
   "metadata": {},
   "outputs": [],
   "source": [
    "m.setObjective(gp.quicksum(f[i] * y[i] for i in I) + gp.quicksum(c[i][j] * x[i,j] for j in J for i in I), GRB.MINIMIZE)"
   ]
  },
  {
   "cell_type": "markdown",
   "metadata": {},
   "source": [
    "### Hinzufügen der Nebenbedingungen\n",
    "\n",
    "Variante - Wiederholter Aufruf von `model.addConstr()`"
   ],
   "execution_count": null,
   "outputs": []
  },
  {
   "cell_type": "code",
   "execution_count": null,
   "metadata": {},
   "outputs": [],
   "source": [
    "for j in J:\n",
    "     m.addConstr(gp.quicksum(x[i,j] for i in I) == d[j], \"nb_\" + str(j))"
   ]
  },
  {
   "cell_type": "code",
   "execution_count": null,
   "metadata": {},
   "outputs": [],
   "source": [
    "for i in I:\n",
    "     m.addConstr(gp.quicksum(x[i,j] for j in J) <= b[i] * y[i], \"kb_\" + str(i))"
   ]
  },
  {
   "cell_type": "markdown",
   "metadata": {},
   "source": [
    "Variante - Aufruf von `model.addConstrs()`"
   ],
   "execution_count": null,
   "outputs": []
  },
  {
   "cell_type": "code",
   "execution_count": null,
   "metadata": {},
   "outputs": [],
   "source": [
    "m.addConstrs((x.sum(\"*\", j) == d[j] for j in J), name=\"nb\")"
   ]
  },
  {
   "cell_type": "code",
   "execution_count": null,
   "metadata": {},
   "outputs": [],
   "source": [
    "m.addConstrs((x.sum(i, \"*\") == b[i] * y[i] for i in I), name=\"kb\")"
   ]
  },
  {
   "cell_type": "markdown",
   "metadata": {},
   "source": [
    "Hinweis: `var.sum()` funktioniert nur, wenn vorher `var` mit `model.addVars()` erzeugt wurde, da `model.addVars()` ein Tupledict zurückgibt und `var.sum()` nur für Tupledicts definiert ist. \n",
    "\n",
    "### Optimierung:"
   ],
   "execution_count": null,
   "outputs": []
  },
  {
   "cell_type": "code",
   "execution_count": null,
   "metadata": {},
   "outputs": [],
   "source": [
    "m.optimize()"
   ]
  },
  {
   "cell_type": "markdown",
   "metadata": {},
   "source": [
    "Ergebnisausgabe:"
   ],
   "execution_count": null,
   "outputs": []
  },
  {
   "cell_type": "code",
   "execution_count": null,
   "metadata": {},
   "outputs": [],
   "source": [
    "m.printAttr(GRB.Attr.ObjVal)"
   ]
  },
  {
   "cell_type": "code",
   "execution_count": null,
   "metadata": {},
   "outputs": [],
   "source": [
    "m.printAttr(GRB.Attr.X)"
   ]
  },
  {
   "cell_type": "markdown",
   "metadata": {},
   "source": [
    "## Aufgabe 2d)\n",
    "Angenommen das Unternehmen besitzt keine Lieferverpflichtung und erhält pro Transport eine Entschädigung von 350 GE. Welche Transporte würden dann ausgeführt\n",
    "werden, wo werden Standorte gebaut und wie hoch ist der Gewinn? Ändern sie hierfür die erforderlichen Nebenbedingungen und die Zielfunktion und optimieren Sie erneut.\n",
    "\n",
    "Keine Lieferverpflichtung:\n",
    "Nachfrage pro Standort muss nicht mehr vollständig gedeckt sein."
   ],
   "execution_count": null,
   "outputs": []
  },
  {
   "cell_type": "code",
   "execution_count": null,
   "metadata": {},
   "outputs": [],
   "source": [
    "for j in J:\n",
    "     m.addConstr(gp.quicksum(x[i,j] for i in I) <= d[j], \"nb_\" + str(j))"
   ]
  },
  {
   "cell_type": "markdown",
   "metadata": {},
   "source": [
    "Transportentschädigung: Gewinn wird mit variablen Transportkosten verrechnet."
   ],
   "execution_count": null,
   "outputs": []
  },
  {
   "cell_type": "code",
   "execution_count": null,
   "metadata": {},
   "outputs": [],
   "source": [
    "g = 350\n",
    "gewinn = gp.quicksum((g - c[i][j]) * x[i,j] for j in J for i in I)\n",
    "fixeKosten = gp.quicksum(f[i] * y[i] for i in I)\n",
    "m.setObjective(gewinn - fixeKosten, GRB.MAXIMIZE)"
   ]
  }
 ]
}