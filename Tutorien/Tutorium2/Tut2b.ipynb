{
 "nbformat": 4,
 "nbformat_minor": 2,
 "metadata": {
  "language_info": {
   "name": "python",
   "codemirror_mode": {
    "name": "ipython",
    "version": 3
   },
   "version": "3.7.6-final"
  },
  "orig_nbformat": 2,
  "file_extension": ".py",
  "mimetype": "text/x-python",
  "name": "python",
  "npconvert_exporter": "python",
  "pygments_lexer": "ipython3",
  "version": 3,
  "kernelspec": {
   "name": "python3",
   "display_name": "Python 3"
  }
 },
 "cells": [
  {
   "cell_type": "markdown",
   "metadata": {},
   "source": [
    "# Tutorium 2\n",
    "\n",
    "## Mathematisches Modell\n",
    "\n",
    "**Zielfunktion**\n",
    "\n",
    "\\begin{equation}\n",
    "\tminimiere\\ \\ Z = \\sum^{I}_{i=1} f_{i} \\cdot y_{i} + \\sum^{I}_{i=1} \\sum^{J}_{j=1} c_{ij} \\cdot x_{ij}\n",
    "\\end{equation}\n",
    "\n",
    "**unter den Nebenbedingungen**\n",
    "\n",
    "\\begin{align}\n",
    "&& \\sum^{I}_{i=1} x_{ij} &= d_{j} && \\forall j \\in J \\\\[5pt]\n",
    "&& \\sum^{J}_{j=1} x_{ij} &\\leq b_{i} \\cdot y_{i} && \\forall i \\in I \\\\[10pt]\n",
    "&& x_{ij} &\\geq 0 && \\forall i \\in I, \\forall j \\in J \\\\[5pt]\n",
    "&& y_{i} &\\in \\left\\{ 0, 1 \\right\\} &&\n",
    "\\end{align}\n",
    "\n",
    "## Parameter\n",
    "\n",
    "| Absatzort | Bedarfsmenge |   |   Standort | Kapazität | Fixkosten |\n",
    "|----------:|:------------:|:-:|-----------:|:---------:|:---------:|\n",
    "| Frankfurt |      200     |   |    Dresden |    400    |   60000   |\n",
    "|    Berlin |      250     |   |     Bremen |    350    |   60000   |\n",
    "|   München |      150     |   | Düsseldorf |    600    |   80000   |\n",
    "|      Köln |      300     |   |            |           |           |\n",
    "|   Hamburg |      100     |   |            |           |           |\n",
    "\n",
    "**Transportkosten zwischen Standort i und Absatzort j in GE/ME:**\n",
    "\n",
    "|  Ort i \\ j | Frankfurt | Berlin | München | Köln | Hamburg |\n",
    "|-----------:|:---------:|:------:|:-------:|:----:|:-------:|\n",
    "|    Dresden |    270    |   170  |   400   |  450 |   300   |\n",
    "|     Bremen |    320    |   280  |   490   |  230 |   120   |\n",
    "| Düsseldorf |    120    |   390  |   240   |  230 |   370   |"
   ],
   "execution_count": null,
   "outputs": []
  },
  {
   "cell_type": "markdown",
   "metadata": {},
   "source": [
    "## Aufgabe 2b)\n",
    "Übertragen Sie das vorliegende Modell unter Verwendung von ausformulierten Modellgleichungen."
   ],
   "execution_count": null,
   "outputs": []
  },
  {
   "cell_type": "code",
   "execution_count": null,
   "metadata": {},
   "outputs": [],
   "source": [
    "import gurobipy as gp\n",
    "from gurobipy import GRB"
   ]
  },
  {
   "cell_type": "markdown",
   "metadata": {},
   "source": [
    "Definition der Mengen:"
   ],
   "execution_count": null,
   "outputs": []
  },
  {
   "cell_type": "code",
   "execution_count": null,
   "metadata": {},
   "outputs": [],
   "source": [
    "I = range(3)\n",
    "J = range(5)"
   ]
  },
  {
   "cell_type": "markdown",
   "metadata": {},
   "source": [
    "Initialisierung des Modells:"
   ],
   "execution_count": null,
   "outputs": []
  },
  {
   "cell_type": "code",
   "execution_count": null,
   "metadata": {},
   "outputs": [],
   "source": [
    "m = gp.Model()"
   ]
  },
  {
   "cell_type": "markdown",
   "metadata": {},
   "source": [
    "Initialisierung der Variablen:"
   ],
   "execution_count": null,
   "outputs": []
  },
  {
   "cell_type": "code",
   "execution_count": null,
   "metadata": {},
   "outputs": [],
   "source": [
    "x = {}\n",
    "for i in I:\n",
    "     for j in J:\n",
    "          x[i,j] = m.addVar(vtype=GRB.CONTINUOUS, name=\"x_\"+str(i)+str(j))\n",
    ""
   ]
  },
  {
   "cell_type": "code",
   "execution_count": null,
   "metadata": {},
   "outputs": [],
   "source": [
    "y = {}\n",
    "for i in I:\n",
    "     y[i] = m.addVar(vtype=GRB.BINARY, name=\"y_\"+str(i))"
   ]
  },
  {
   "cell_type": "markdown",
   "metadata": {},
   "source": [
    "Definition der Zielfunktion"
   ],
   "execution_count": null,
   "outputs": []
  },
  {
   "cell_type": "code",
   "execution_count": null,
   "metadata": {},
   "outputs": [],
   "source": [
    "m.setObjective(60000*y[0] + 60000*y[1] + 80000*y[2]\n",
    "+ 270*x[0,0] + 170*x[0,1] + 400*x[0,2] + 450*x[0,3] + 300*x[0,4]\n",
    "+ 320*x[1,0] + 280*x[1,1] + 490*x[1,2] + 230*x[1,3] + 120*x[1,4]\n",
    "+ 120*x[2,0] + 390*x[2,1] + 240*x[2,2] + 230*x[2,3] + 370*x[2,4], GRB.MINIMIZE)"
   ]
  },
  {
   "cell_type": "markdown",
   "metadata": {},
   "source": [
    "Hinzufügen der Nebenbedingungen:"
   ],
   "execution_count": null,
   "outputs": []
  },
  {
   "cell_type": "code",
   "execution_count": null,
   "metadata": {},
   "outputs": [],
   "source": [
    "m.addConstr(x[0,0] + x[1,0] + x[2,0] == 200, \"meet_demand_0\")\n",
    "m.addConstr(x[0,1] + x[1,1] + x[2,1] == 250, \"meet_demand_1\")\n",
    "m.addConstr(x[0,2] + x[1,2] + x[2,2] == 150, \"meet_demand_2\")\n",
    "m.addConstr(x[0,3] + x[1,3] + x[2,3] == 300, \"meet_demand_3\")\n",
    "m.addConstr(x[0,4] + x[1,4] + x[2,4] == 100, \"meet_demand_4\")"
   ]
  },
  {
   "cell_type": "code",
   "execution_count": null,
   "metadata": {},
   "outputs": [],
   "source": [
    "m.addConstr(x[0,0] + x[0,1] + x[0,2] + x[0,3] + x[0,4] <= 400 * y[0], \"meet_prod_0\")\n",
    "m.addConstr(x[1,0] + x[1,1] + x[1,2] + x[1,3] + x[1,4] <= 350 * y[1], \"meet_prod_1\")\n",
    "m.addConstr(x[2,0] + x[2,1] + x[2,2] + x[2,3] + x[2,4] <= 600 * y[2], \"meet_prod_2\")"
   ]
  },
  {
   "cell_type": "markdown",
   "metadata": {},
   "source": [
    "Optimierung:"
   ],
   "execution_count": null,
   "outputs": []
  },
  {
   "cell_type": "code",
   "execution_count": null,
   "metadata": {},
   "outputs": [],
   "source": [
    "m.optimize()"
   ]
  },
  {
   "cell_type": "markdown",
   "metadata": {},
   "source": [
    "Ergebnisausgabe:"
   ],
   "execution_count": null,
   "outputs": []
  },
  {
   "cell_type": "code",
   "execution_count": null,
   "metadata": {},
   "outputs": [],
   "source": [
    "m.printAttr(GRB.Attr.ObjVal)"
   ]
  },
  {
   "cell_type": "code",
   "execution_count": null,
   "metadata": {},
   "outputs": [],
   "source": [
    "m.printAttr(GRB.Attr.X)"
   ]
  }
 ]
}