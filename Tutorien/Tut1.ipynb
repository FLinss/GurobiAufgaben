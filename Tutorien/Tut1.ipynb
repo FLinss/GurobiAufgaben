{
 "nbformat": 4,
 "nbformat_minor": 2,
 "metadata": {
  "language_info": {
   "name": "python",
   "codemirror_mode": {
    "name": "ipython",
    "version": 3
   }
  },
  "orig_nbformat": 2,
  "file_extension": ".py",
  "mimetype": "text/x-python",
  "name": "python",
  "npconvert_exporter": "python",
  "pygments_lexer": "ipython3",
  "version": 3
 },
 "cells": [
  {
   "cell_type": "markdown",
   "metadata": {},
   "source": [
    "# Tutorium 1\n",
    "\n",
    "## Mathematisches Modell\n",
    "\n",
    "**Zielfunktion**\n",
    "\n",
    "\\begin{equation}\n",
    "\tmaximiere\\ \\ G = 4,5x_B + 3,5x_K + 2,3x_L + 3,2x_T\n",
    "\\end{equation}\n",
    "\n",
    "**unter den Nebenbedingungen**\n",
    "\n",
    "\\begin{align*}\n",
    "\t6x_B + 3x_K + 3x_L + 4x_T &\\leq 3.900 \\\\\n",
    "\t2x_B + 2,5x_K + 2,5x_L + 3x_T &\\leq 3.900 \\\\ \n",
    "\t2,5x_B + 3x_K + 1,5x_L + 3x_T &\\leq 3.900 \\\\[1mm]\n",
    "\tx_B &\\leq 600 \\\\\n",
    "\tx_K &\\leq 200 \\\\\n",
    "\tx_L &\\leq 50 \\\\\n",
    "\tx_T &\\leq 150 \\\\[1mm]\n",
    "\tx_B, x_K, x_L, x_T &\\geq 0 \t\t\n",
    "\\end{align*}\n"
   ]
  },
  {
   "cell_type": "markdown",
   "metadata": {},
   "source": [
    "## Aufgabe 1c)\n",
    "Laden Sie die erforderlichen Module und erstellen Sie ein Gurobi-Modell."
   ]
  },
  {
   "cell_type": "code",
   "execution_count": null,
   "metadata": {},
   "outputs": [],
   "source": [
    "import gurobipy as gp\n",
    "from gurobipy import GRB\n",
    "\n",
    "m = gp.Model()"
   ]
  }
 ]
}