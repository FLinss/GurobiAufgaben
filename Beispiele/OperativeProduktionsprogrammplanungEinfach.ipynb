{
 "nbformat": 4,
 "nbformat_minor": 2,
 "metadata": {
  "language_info": {
   "name": "python",
   "codemirror_mode": {
    "name": "ipython",
    "version": 3
   },
   "version": "3.7.6-final"
  },
  "orig_nbformat": 2,
  "file_extension": ".py",
  "mimetype": "text/x-python",
  "name": "python",
  "npconvert_exporter": "python",
  "pygments_lexer": "ipython3",
  "version": 3,
  "kernelspec": {
   "name": "python3",
   "display_name": "Python 3"
  }
 },
 "cells": [
  {
   "cell_type": "markdown",
   "metadata": {},
   "source": [
    "# Übung 2"
   ],
   "execution_count": null,
   "outputs": []
  },
  {
   "cell_type": "markdown",
   "metadata": {},
   "source": [
    "## Aufgabenstellung"
   ],
   "execution_count": null,
   "outputs": []
  },
  {
   "cell_type": "markdown",
   "metadata": {},
   "source": [
    "Löse folgendes mathematisches Optimierungsproblem:\n",
    "\n",
    "\t\\begin{align*}\n",
    "\t\t\\textrm{max } 10x_1 + 20x_2 &= G \\\\\n",
    "\t\t& \\\\\n",
    "\t\t\\textrm{u.d.N.: } 6x_1 + 2x_2 &\\leq 480 \\\\\n",
    "\t\t10x_1 + 10x_2 &\\leq 1000 \\\\\n",
    "\t\t1x_1 + 4x_2 &\\leq 280 \\\\\n",
    "\t\tx_1, x_2 &\\geq 0\t\n",
    "\t\\end{align*}"
   ],
   "execution_count": null,
   "outputs": []
  },
  {
   "cell_type": "code",
   "execution_count": 1,
   "metadata": {},
   "outputs": [],
   "source": [
    "import gurobipy as gp\n",
    "from gurobipy import GRB"
   ]
  },
  {
   "cell_type": "code",
   "execution_count": 2,
   "metadata": {},
   "outputs": [
    {
     "output_type": "stream",
     "name": "stdout",
     "text": "Using license file c:\\gurobi\\gurobi.lic\nAcademic license - for non-commercial use only\n"
    }
   ],
   "source": [
    "m = gp.Model()"
   ]
  },
  {
   "cell_type": "markdown",
   "metadata": {},
   "source": [
    "$$ x_1, x_2 \\geq 0 $$"
   ],
   "execution_count": null,
   "outputs": []
  },
  {
   "cell_type": "code",
   "execution_count": 3,
   "metadata": {},
   "outputs": [],
   "source": [
    "x1 = m.addVar(vtype=GRB.CONTINUOUS, obj=10, lb=0, name=\"x_1\")\n",
    "x2 = m.addVar(vtype=GRB.CONTINUOUS, obj=20, lb=0, name=\"x_2\")"
   ]
  },
  {
   "cell_type": "markdown",
   "metadata": {},
   "source": [
    "$$ \\textrm{max } 10x_1 + 20x_2 = G $$"
   ],
   "execution_count": null,
   "outputs": []
  },
  {
   "cell_type": "code",
   "execution_count": 4,
   "metadata": {},
   "outputs": [],
   "source": [
    "m.modelSense = GRB.MAXIMIZE\n",
    "# m.setObjective = (10x1 + 20x2, GRB.MAXIMIZE)"
   ]
  },
  {
   "cell_type": "markdown",
   "metadata": {},
   "source": [
    "\\begin{align*}\n",
    "\t6x_1 + 2x_2 &\\leq 480 \\\\\n",
    "\t10x_1 + 10x_2 &\\leq 1000 \\\\\n",
    "\t1x_1 + 4x_2 &\\leq 280\n",
    "\\end{align*}"
   ],
   "execution_count": null,
   "outputs": []
  },
  {
   "cell_type": "code",
   "execution_count": 5,
   "metadata": {},
   "outputs": [
    {
     "output_type": "execute_result",
     "data": {
      "text/plain": "<gurobi.Constr *Awaiting Model Update*>"
     },
     "metadata": {},
     "execution_count": 5
    }
   ],
   "source": [
    "m.addConstr(6*x1 + 2*x2 <= 480,\"nb_I\")\n",
    "m.addConstr(10*x1 + 10*x2 <= 1000, \"nb_II\")\n",
    "m.addConstr(x1 + 4*x2 <= 280, \"nb_III\")"
   ]
  },
  {
   "cell_type": "code",
   "execution_count": 6,
   "metadata": {},
   "outputs": [
    {
     "output_type": "stream",
     "name": "stdout",
     "text": "Gurobi Optimizer version 9.0.1 build v9.0.1rc0 (win64)\nOptimize a model with 3 rows, 2 columns and 6 nonzeros\nModel fingerprint: 0x573bc307\nCoefficient statistics:\n  Matrix range     [1e+00, 1e+01]\n  Objective range  [1e+01, 2e+01]\n  Bounds range     [0e+00, 0e+00]\n  RHS range        [3e+02, 1e+03]\nPresolve time: 0.00s\nPresolved: 3 rows, 2 columns, 6 nonzeros\n\nIteration    Objective       Primal Inf.    Dual Inf.      Time\n       0    6.2500000e+30   3.312500e+30   6.250000e+00      0s\n       3    1.6000000e+03   0.000000e+00   0.000000e+00      0s\n\nSolved in 3 iterations and 0.01 seconds\nOptimal objective  1.600000000e+03\n"
    }
   ],
   "source": [
    "m.optimize()"
   ]
  },
  {
   "cell_type": "code",
   "execution_count": 7,
   "metadata": {},
   "outputs": [
    {
     "output_type": "stream",
     "name": "stdout",
     "text": "\n    Variable            X \n-------------------------\n         x_1           40 \n         x_2           60 \n"
    }
   ],
   "source": [
    "m.printAttr(GRB.Attr.X)"
   ]
  },
  {
   "cell_type": "code",
   "execution_count": 8,
   "metadata": {},
   "outputs": [
    {
     "output_type": "stream",
     "name": "stdout",
     "text": "\n      ObjVal \n------------\n        1600 \n"
    }
   ],
   "source": [
    "m.printAttr(GRB.Attr.ObjVal)"
   ]
  },
  {
   "cell_type": "code",
   "execution_count": null,
   "metadata": {},
   "outputs": [],
   "source": []
  }
 ]
}