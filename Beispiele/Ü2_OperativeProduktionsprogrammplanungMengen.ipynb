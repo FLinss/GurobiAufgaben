{
 "nbformat": 4,
 "nbformat_minor": 2,
 "metadata": {
  "language_info": {
   "name": "python",
   "codemirror_mode": {
    "name": "ipython",
    "version": 3
   },
   "version": "3.7.4-final"
  },
  "orig_nbformat": 2,
  "file_extension": ".py",
  "mimetype": "text/x-python",
  "name": "python",
  "npconvert_exporter": "python",
  "pygments_lexer": "ipython3",
  "version": 3,
  "kernelspec": {
   "name": "python37464bitbasecondac9d29e9952f146569af00311b0a7fa37",
   "display_name": "Python 3.7.4 64-bit ('base': conda)"
  }
 },
 "cells": [
  {
   "cell_type": "markdown",
   "metadata": {},
   "source": [
    "# Übung 2"
   ]
  },
  {
   "cell_type": "markdown",
   "metadata": {},
   "source": [
    "## Aufgabenstellung"
   ]
  },
  {
   "cell_type": "markdown",
   "metadata": {},
   "source": [
    "Löse folgendes mathematisches Optimierungsproblem:\n",
    "\\begin{equation*}\n",
    "\t\\textrm{max } G =  \\sum_{j=0}^{J-1}g_jx_j\n",
    "\\end{equation*}\n",
    "\n",
    "\\begin{align*}\n",
    "\t&& \\textrm{u.d.N.: }  \\sum_{j=0}^{J-1}a_{ij}x_j &\\leq T_j && \\textrm{für } i = 0,1,\\dots,I-1 \\\\\n",
    "\t&& x_j &\\geq 0 &&  \\textrm{für } j = 0,1,\\dots,J-1\n",
    "\\end{align*}\n",
    "\n",
    "mit\n",
    "\n",
    "| $a_{ij}$ | $j=0$ | $j=1$ |\t\n",
    "|:-------:|----:|----:|\n",
    "|   $i=0$   |   6 |   2 |\n",
    "|   $i=1$   |  10 |  10 |\n",
    "|   $i=2$   |   1 |   4 |\n",
    "\n",
    "|     | $T_i$ |\n",
    "|:---:|------:|\n",
    "| $i=0$ |   480 |\n",
    "| $i=1$ |  1000 |\n",
    "| $i=2$ |   280 |\n",
    "\n",
    "|     | $g_j$ |\n",
    "|:---:|------:|\n",
    "| $j=0$ |    10 |\n",
    "| $j=1$ |    20 |\n"
   ]
  },
  {
   "cell_type": "code",
   "execution_count": 13,
   "metadata": {},
   "outputs": [],
   "source": [
    "import gurobipy as gp\n",
    "from gurobipy import GRB"
   ]
  },
  {
   "cell_type": "code",
   "execution_count": 14,
   "metadata": {},
   "outputs": [],
   "source": [
    "g = [10, 20]"
   ]
  },
  {
   "cell_type": "code",
   "execution_count": 15,
   "metadata": {},
   "outputs": [],
   "source": [
    "a = [[6, 2],\n",
    "    [10, 10],\n",
    "    [1, 4]]"
   ]
  },
  {
   "cell_type": "code",
   "execution_count": 16,
   "metadata": {},
   "outputs": [],
   "source": [
    "T = [480, 1000, 280]"
   ]
  },
  {
   "cell_type": "code",
   "execution_count": 17,
   "metadata": {},
   "outputs": [],
   "source": [
    "I_max = 3\n",
    "J_max = 2\n",
    "\n",
    "I = range(I_max)\n",
    "J = range(J_max)"
   ]
  },
  {
   "cell_type": "code",
   "execution_count": 18,
   "metadata": {},
   "outputs": [],
   "source": [
    "m = gp.Model()"
   ]
  },
  {
   "cell_type": "markdown",
   "metadata": {},
   "source": [
    "$$ x_j \\geq 0 \\textrm{ für } j = 1,2,\\dots,J $$"
   ]
  },
  {
   "cell_type": "markdown",
   "metadata": {},
   "source": [
    "Kurzfassung:"
   ]
  },
  {
   "cell_type": "code",
   "execution_count": 19,
   "metadata": {},
   "outputs": [],
   "source": [
    "#x = m.addVars(J_max, obj=g, name=\"x\")"
   ]
  },
  {
   "cell_type": "markdown",
   "metadata": {},
   "source": [
    "Ausführliche Fassung:"
   ]
  },
  {
   "cell_type": "code",
   "execution_count": 20,
   "metadata": {},
   "outputs": [],
   "source": [
    "x={}\n",
    "for j in J:\n",
    "    x[j] = m.addVar(obj=g[j], name=\"x[{}]\".format(j))"
   ]
  },
  {
   "cell_type": "markdown",
   "metadata": {},
   "source": [
    "$$ \\textrm{max } 10x_1 + 20x_2 = G $$"
   ]
  },
  {
   "cell_type": "code",
   "execution_count": 21,
   "metadata": {},
   "outputs": [],
   "source": [
    "m.modelSense = GRB.MAXIMIZE\n",
    "# m.setObjective = (gp.quicksum(g[i] * x[i] for i in I),GRB.MAXIMIZE)"
   ]
  },
  {
   "cell_type": "markdown",
   "metadata": {},
   "source": [
    "$$ \\sum_{j=0}^{J-1}a_{ij}x_j \\leq T_j  \\textrm{ für } i = 0,1,\\dots,I-1 $$"
   ]
  },
  {
   "cell_type": "markdown",
   "metadata": {},
   "source": [
    "Kurze Fassung: "
   ]
  },
  {
   "cell_type": "code",
   "execution_count": 22,
   "metadata": {},
   "outputs": [],
   "source": [
    "#m.addConstrs(gp.quicksum(a[i][j] * x[j] for j in J) <= T[i] for i in I)"
   ]
  },
  {
   "cell_type": "markdown",
   "metadata": {},
   "source": [
    "Ausführlicher Fassung:"
   ]
  },
  {
   "cell_type": "code",
   "execution_count": 25,
   "metadata": {},
   "outputs": [],
   "source": [
    "for i in I:\n",
    "    m.addConstr(gp.quicksum(a[i][j] * x[j] for j in J) <= T[i], name=\"c[{}]\".format(i))"
   ]
  },
  {
   "cell_type": "code",
   "execution_count": 26,
   "metadata": {},
   "outputs": [],
   "source": [
    "m.write(\"OPP.lp\")"
   ]
  },
  {
   "cell_type": "code",
   "execution_count": 189,
   "metadata": {},
   "outputs": [
    {
     "name": "stdout",
     "output_type": "stream",
     "text": "Gurobi Optimizer version 9.0.1 build v9.0.1rc0 (win64)\nOptimize a model with 3 rows, 2 columns and 6 nonzeros\nModel fingerprint: 0x573bc307\nCoefficient statistics:\n  Matrix range     [1e+00, 1e+01]\n  Objective range  [1e+01, 2e+01]\n  Bounds range     [0e+00, 0e+00]\n  RHS range        [3e+02, 1e+03]\nPresolve time: 0.01s\nPresolved: 3 rows, 2 columns, 6 nonzeros\n\nIteration    Objective       Primal Inf.    Dual Inf.      Time\n       0    6.2500000e+30   3.312500e+30   6.250000e+00      0s\n       3    1.6000000e+03   0.000000e+00   0.000000e+00      0s\n\nSolved in 3 iterations and 0.01 seconds\nOptimal objective  1.600000000e+03\n"
    }
   ],
   "source": [
    "m.optimize()"
   ]
  },
  {
   "cell_type": "code",
   "execution_count": 190,
   "metadata": {},
   "outputs": [
    {
     "name": "stdout",
     "output_type": "stream",
     "text": "\n    Variable            X \n-------------------------\n        x[0]           40 \n        x[1]           60 \n"
    }
   ],
   "source": [
    "m.printAttr(GRB.Attr.X)"
   ]
  },
  {
   "cell_type": "code",
   "execution_count": 191,
   "metadata": {},
   "outputs": [
    {
     "name": "stdout",
     "output_type": "stream",
     "text": "\n      ObjVal \n------------\n        1600 \n"
    }
   ],
   "source": [
    "m.printAttr(GRB.Attr.ObjVal)"
   ]
  },
  {
   "cell_type": "code",
   "execution_count": null,
   "metadata": {},
   "outputs": [],
   "source": []
  }
 ]
}