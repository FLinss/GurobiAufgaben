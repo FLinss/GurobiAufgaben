{
 "nbformat": 4,
 "nbformat_minor": 2,
 "metadata": {
  "language_info": {
   "name": "python",
   "codemirror_mode": {
    "name": "ipython",
    "version": 3
   },
   "version": "3.7.6-final"
  },
  "orig_nbformat": 2,
  "file_extension": ".py",
  "mimetype": "text/x-python",
  "name": "python",
  "npconvert_exporter": "python",
  "pygments_lexer": "ipython3",
  "version": 3,
  "kernelspec": {
   "name": "python3",
   "display_name": "Python 3"
  }
 },
 "cells": [
  {
   "cell_type": "markdown",
   "metadata": {},
   "source": [
    "# Python Grundlagen\n",
    "\n",
    "## Gliederung:\n",
    "1.  Variablen\n",
    "1.  Datentypen  \n",
    "1.  Bedingte Anweisungen\n",
    "1.  Schleifen\n",
    "1.  Schreiben von Dateien\n",
    "1.  Einlesen von csv-Dateien"
   ],
   "execution_count": null,
   "outputs": []
  },
  {
   "cell_type": "markdown",
   "metadata": {},
   "source": [
    "---\n",
    "## Variablen\n",
    "---\n",
    "Bei der Benennung von Variablen muss auf die Groß- und Kleinschreibung geachtet werden.\n",
    "\n",
    "Definition und Ausgabe von a:"
   ],
   "execution_count": null,
   "outputs": []
  },
  {
   "cell_type": "code",
   "execution_count": null,
   "metadata": {},
   "outputs": [],
   "source": [
    "a = 5"
   ]
  },
  {
   "cell_type": "code",
   "execution_count": null,
   "metadata": {},
   "outputs": [],
   "source": [
    "print(a)"
   ]
  },
  {
   "cell_type": "code",
   "execution_count": null,
   "metadata": {},
   "outputs": [],
   "source": [
    "a = 10"
   ]
  },
  {
   "cell_type": "code",
   "execution_count": null,
   "metadata": {},
   "outputs": [],
   "source": [
    "print(a)"
   ]
  },
  {
   "cell_type": "markdown",
   "metadata": {},
   "source": [
    "---\n",
    "## Datentypen\n",
    "---\n",
    "### Einfache Datentypen\n",
    "Python legt den Datentyp automatisch fest, basierend auf der Eingabe. "
   ],
   "execution_count": null,
   "outputs": []
  },
  {
   "cell_type": "code",
   "execution_count": null,
   "metadata": {},
   "outputs": [],
   "source": [
    "b = 1\n",
    "print(type(b))"
   ]
  },
  {
   "cell_type": "markdown",
   "metadata": {},
   "source": [
    "Implizite und explizite Typumwandlung:"
   ],
   "execution_count": null,
   "outputs": []
  },
  {
   "cell_type": "code",
   "execution_count": null,
   "metadata": {},
   "outputs": [],
   "source": [
    "a = 4\n",
    "b = 2.5\n",
    "c = a + b\n",
    "print(a, type(a))\n",
    "print(b, type(b))\n",
    "print(c, type(c))"
   ]
  },
  {
   "cell_type": "markdown",
   "metadata": {},
   "source": [
    "---\n",
    "## Aufzählungstypen\n",
    "---\n",
    "Zur besseren Unterscheidung zwischen den Aufzählungstypen werden bei der Erstellung verschiedene Klammertypenverwendet:\n",
    "* Tupel ()\n",
    "* Liste []\n",
    "* Dictionary {}\n",
    "---\n",
    "## Tupel\n",
    "---\n",
    "Ein Tupel wird durch `()` initialisiert. \n",
    "\n",
    "Ein Tupel kann jedoch auch ohne `()` initialisiert werden:\n",
    "\n",
    "    myTuple = \"a\", \"b\", [3, 3]"
   ],
   "execution_count": null,
   "outputs": []
  },
  {
   "cell_type": "code",
   "execution_count": null,
   "metadata": {},
   "outputs": [],
   "source": [
    "myTuple = (\"a\", \"b\", [3, 3])"
   ]
  },
  {
   "cell_type": "markdown",
   "metadata": {},
   "source": [
    "Einmal initialisiert kann ein Tupel nicht verändert werden."
   ],
   "execution_count": null,
   "outputs": []
  },
  {
   "cell_type": "code",
   "execution_count": null,
   "metadata": {},
   "outputs": [],
   "source": [
    "# my_tuple[0] = 1\n",
    "myTuple[2][0] = 1\n",
    "myTuple"
   ]
  },
  {
   "cell_type": "markdown",
   "metadata": {},
   "source": [
    "---\n",
    "## Listen\n",
    "---\n",
    "Eine Liste wird durch `[]` oder `list()` initialisiert."
   ],
   "execution_count": null,
   "outputs": []
  },
  {
   "cell_type": "code",
   "execution_count": null,
   "metadata": {},
   "outputs": [],
   "source": [
    "myList = [1, 20, 3]"
   ]
  },
  {
   "cell_type": "markdown",
   "metadata": {},
   "source": [
    "Mit `list.sort()` können Listen aufsteigend sortiert werden. Soll absteigend sortiert werden, kann dies über den Parameter `reverse=True` definiert werden."
   ],
   "execution_count": null,
   "outputs": []
  },
  {
   "cell_type": "code",
   "execution_count": null,
   "metadata": {},
   "outputs": [],
   "source": [
    "myList.sort()   # myList.sort(reverse=True)\n",
    "myList"
   ]
  },
  {
   "cell_type": "markdown",
   "metadata": {},
   "source": [
    "Mit `list.append(a)` kann ein Element `a` hinzugefügt werden."
   ],
   "execution_count": null,
   "outputs": []
  },
  {
   "cell_type": "code",
   "execution_count": null,
   "metadata": {},
   "outputs": [],
   "source": [
    "myList.append(\"text\")\n",
    "myList"
   ]
  },
  {
   "cell_type": "markdown",
   "metadata": {},
   "source": [
    "Verschachtelte Liste können ebenfalls erzeugt werden. Folgende Matrix soll als verschachtelte Liste erzeugt werden:\n",
    "\\begin{equation}\n",
    "    B = \n",
    "    \\begin{pmatrix}\n",
    "    1 & 0 \\\\\n",
    "    3 & 5\n",
    "    \\end{pmatrix}\n",
    "\\end{equation}\n"
   ],
   "execution_count": null,
   "outputs": []
  },
  {
   "cell_type": "code",
   "execution_count": null,
   "metadata": {},
   "outputs": [],
   "source": [
    "mySecondList = [[1, 0], [3, 5]]\n",
    "mySecondList"
   ]
  },
  {
   "cell_type": "markdown",
   "metadata": {},
   "source": [
    "Listen können zu bestehenden Listen hinzugefügt werden."
   ],
   "execution_count": null,
   "outputs": []
  },
  {
   "cell_type": "code",
   "execution_count": null,
   "metadata": {},
   "outputs": [],
   "source": [
    "myList.extend(mySecondList)\n",
    "myList"
   ]
  },
  {
   "cell_type": "markdown",
   "metadata": {},
   "source": [
    "Die Länge einer Liste kann ausgegeben werden."
   ],
   "execution_count": null,
   "outputs": []
  },
  {
   "cell_type": "code",
   "execution_count": null,
   "metadata": {},
   "outputs": [],
   "source": [
    "len(myList)"
   ]
  },
  {
   "cell_type": "markdown",
   "metadata": {},
   "source": [
    "Elementen können einzeln oder ein Bereich vom mehreren Elementen über Indizes abgefragt werden."
   ],
   "execution_count": null,
   "outputs": []
  },
  {
   "cell_type": "code",
   "execution_count": null,
   "metadata": {},
   "outputs": [],
   "source": [
    "myList[0] # 1. Element"
   ]
  },
  {
   "cell_type": "code",
   "execution_count": null,
   "metadata": {},
   "outputs": [],
   "source": [
    "myList[2:4] # 3. bis 5. Element"
   ]
  },
  {
   "cell_type": "markdown",
   "metadata": {},
   "source": [
    "Elemente können auch aus einer Liste gelöscht werden."
   ],
   "execution_count": null,
   "outputs": []
  },
  {
   "cell_type": "code",
   "execution_count": null,
   "metadata": {},
   "outputs": [],
   "source": [
    "del myList[0]"
   ]
  },
  {
   "cell_type": "markdown",
   "metadata": {},
   "source": [
    "---\n",
    "## Dictionaries\n",
    "---\n",
    "\n",
    "Eine Dictionary wird durch {} oder dict() initialisiert.\n"
   ],
   "execution_count": null,
   "outputs": []
  },
  {
   "cell_type": "code",
   "execution_count": null,
   "metadata": {},
   "outputs": [],
   "source": [
    "myDict = {\"name\":\"Jack\", \"age\":26, \"male\":True}"
   ]
  },
  {
   "cell_type": "markdown",
   "metadata": {},
   "source": [
    "Jedes Key-Value Paar kann eindeutig über den Key abgerufen werden."
   ],
   "execution_count": null,
   "outputs": []
  },
  {
   "cell_type": "code",
   "execution_count": null,
   "metadata": {},
   "outputs": [],
   "source": [
    "myDict[\"age\"]"
   ]
  },
  {
   "cell_type": "markdown",
   "metadata": {},
   "source": [
    "Es können Key-Value Paare hinzugefügt oder geändert werden:"
   ],
   "execution_count": null,
   "outputs": []
  },
  {
   "cell_type": "code",
   "execution_count": null,
   "metadata": {},
   "outputs": [],
   "source": [
    "myDict[\"height\"] = 190\n",
    "myDict"
   ]
  },
  {
   "cell_type": "code",
   "execution_count": null,
   "metadata": {},
   "outputs": [],
   "source": [
    "myDict[\"height\"] = myDict[\"height\"] / 100\n",
    "myDict"
   ]
  },
  {
   "cell_type": "markdown",
   "metadata": {},
   "source": [
    "Verschiedene Abfragen können getätigt werden:"
   ],
   "execution_count": null,
   "outputs": []
  },
  {
   "cell_type": "code",
   "execution_count": null,
   "metadata": {},
   "outputs": [],
   "source": [
    "list(myDict)"
   ]
  },
  {
   "cell_type": "code",
   "execution_count": null,
   "metadata": {},
   "outputs": [],
   "source": [
    "\"age\" in myDict"
   ]
  },
  {
   "cell_type": "markdown",
   "metadata": {},
   "source": [
    "---\n",
    "## Bedingte Anweisungen\n",
    "---\n",
    "Bedingte Anweisungen bestehen aus einer Abfrage und einem If-Block, der beim Zutreffen der Anweisung ausgeführt wird."
   ],
   "execution_count": null,
   "outputs": []
  },
  {
   "cell_type": "code",
   "execution_count": null,
   "metadata": {},
   "outputs": [],
   "source": [
    "value = 1"
   ]
  },
  {
   "cell_type": "code",
   "execution_count": null,
   "metadata": {},
   "outputs": [],
   "source": [
    "if type(value) == int or type(value) == float:\n",
    "    print(\"It is a number!\")\n",
    "elif type(value) == str:\n",
    "    print(\"It is a string!\")\n",
    "else:\n",
    "    print(\"It is not a number and not a string!\")"
   ]
  },
  {
   "cell_type": "markdown",
   "metadata": {},
   "source": [
    "### Beispiel:\n",
    "Test, ob eine Zahl positiv, negativ oder Null ist."
   ],
   "execution_count": null,
   "outputs": []
  },
  {
   "cell_type": "code",
   "execution_count": null,
   "metadata": {},
   "outputs": [],
   "source": [
    "num = 1"
   ]
  },
  {
   "cell_type": "markdown",
   "metadata": {},
   "source": [
    "verschachtelte if-Anweisung:"
   ],
   "execution_count": null,
   "outputs": []
  },
  {
   "cell_type": "code",
   "execution_count": null,
   "metadata": {},
   "outputs": [],
   "source": [
    "if num >= 0:\n",
    "    if num == 0:\n",
    "        print(\"Zero\")\n",
    "    else:\n",
    "        print(\"Positive number\")\n",
    "else:\n",
    "    print(\"Negative number\")"
   ]
  },
  {
   "cell_type": "markdown",
   "metadata": {},
   "source": [
    "---\n",
    "## Schleifen\n",
    "---\n",
    "Schleifen bestehen aus einem Iterator oder auch Laufvariable genannt und einer Aufzählung über die iteriert wird."
   ],
   "execution_count": null,
   "outputs": []
  },
  {
   "cell_type": "code",
   "execution_count": null,
   "metadata": {},
   "outputs": [],
   "source": [
    "for item in myList:\n",
    "    print(item)"
   ]
  },
  {
   "cell_type": "code",
   "execution_count": null,
   "metadata": {},
   "outputs": [],
   "source": [
    "for (index, item) in enumerate(myList):\n",
    "    print(index, \":\", item)"
   ]
  },
  {
   "cell_type": "markdown",
   "metadata": {},
   "source": [
    "Dabei muss nicht zwingend vorher eine Liste generiert werden. Es kann auch mit Hilfskonstrukten wie `range` gearbeitet werden.\n",
    "\n",
    "### Beispiel:\n",
    "Multiplikationstabelle (von 1 bis 10) in Python mit vorgegebener Basis"
   ],
   "execution_count": null,
   "outputs": []
  },
  {
   "cell_type": "code",
   "execution_count": null,
   "metadata": {},
   "outputs": [],
   "source": [
    "basis = 12"
   ]
  },
  {
   "cell_type": "markdown",
   "metadata": {},
   "source": [
    "Iteriere 10 mal von i = 1 bis 10."
   ],
   "execution_count": null,
   "outputs": []
  },
  {
   "cell_type": "code",
   "execution_count": null,
   "metadata": {},
   "outputs": [],
   "source": [
    "for i in range(1, 11):\n",
    "   print(basis, 'x', i, '=', basis*i)"
   ]
  },
  {
   "cell_type": "markdown",
   "metadata": {},
   "source": [
    "Schleifen können auch zur Erzeugung von Aufzählungen verwendet werden. Aus folgendem Wort soll jeder Buchstabe in eine Liste hinzugefügt werden."
   ],
   "execution_count": null,
   "outputs": []
  },
  {
   "cell_type": "code",
   "execution_count": null,
   "metadata": {},
   "outputs": [],
   "source": [
    "word = \"human\""
   ]
  },
  {
   "cell_type": "markdown",
   "metadata": {},
   "source": [
    "Lange Form:"
   ],
   "execution_count": null,
   "outputs": []
  },
  {
   "cell_type": "code",
   "execution_count": null,
   "metadata": {},
   "outputs": [],
   "source": [
    "h_letters = []\n",
    "\n",
    "for letter in word:\n",
    "    h_letters.append(letter)\n",
    "\n",
    "print(h_letters)"
   ]
  },
  {
   "cell_type": "markdown",
   "metadata": {},
   "source": [
    "Kurze Form:"
   ],
   "execution_count": null,
   "outputs": []
  },
  {
   "cell_type": "code",
   "execution_count": null,
   "metadata": {},
   "outputs": [],
   "source": [
    "word = \"human\"\n",
    "h_letters = [ letter for letter in word ]\n",
    "print(h_letters)"
   ]
  },
  {
   "cell_type": "markdown",
   "metadata": {},
   "source": [
    "---\n",
    "## Schreiben von Dateien\n",
    "---\n",
    "Es können überschreibende Schreibrechte vergeben werden:"
   ],
   "execution_count": null,
   "outputs": []
  },
  {
   "cell_type": "code",
   "execution_count": null,
   "metadata": {},
   "outputs": [],
   "source": [
    "with open(\"myFirstTextFile.txt\", \"w\", encoding=\"utf-8\") as f:\n",
    "    f.write(\"Hallo Welt! \\n\")\n",
    "    f.write(\"\\tEinrückungen sind möglich.\\n\")"
   ]
  },
  {
   "cell_type": "markdown",
   "metadata": {},
   "source": [
    "Es können ergänzende Schreibrechte vergeben werden:"
   ],
   "execution_count": null,
   "outputs": []
  },
  {
   "cell_type": "code",
   "execution_count": null,
   "metadata": {},
   "outputs": [],
   "source": [
    "with open(\"myFirstTextFile.txt\", \"a\", encoding=\"utf-8\") as f:\n",
    "    f.write(\"1+1=2\\n\")"
   ]
  },
  {
   "cell_type": "markdown",
   "metadata": {},
   "source": [
    "Standardberechtigung bei `open()` ist nur eine Leseberechtigung:"
   ],
   "execution_count": null,
   "outputs": []
  },
  {
   "cell_type": "code",
   "execution_count": null,
   "metadata": {},
   "outputs": [],
   "source": [
    "with open(\"myFirstTextFile.txt\", encoding=\"utf-8\") as f:\n",
    "    #print(f.read(4))\n",
    "    #print(f.readline())\n",
    "    print(f.read())"
   ]
  },
  {
   "cell_type": "markdown",
   "metadata": {},
   "source": [
    "---\n",
    "## Einlesen von csv-Dateien\n",
    "---\n",
    "Um csv-Dateien lesen zu können, muss das Modul `csv` geladen werden."
   ],
   "execution_count": null,
   "outputs": []
  },
  {
   "cell_type": "code",
   "execution_count": null,
   "metadata": {},
   "outputs": [],
   "source": [
    "import csv"
   ]
  },
  {
   "cell_type": "markdown",
   "metadata": {},
   "source": [
    "Das Einlesen einer csv-Datei funktioniert analog zum Einlesen einer txt-Datei."
   ],
   "execution_count": null,
   "outputs": []
  },
  {
   "cell_type": "code",
   "execution_count": null,
   "metadata": {},
   "outputs": [],
   "source": [
    "with open(\"Mitarbeiter_Daten.csv\", encoding=\"utf-8\") as csv_file:\n",
    "    csv_reader = csv.DictReader(csv_file)\n",
    "    line_count = 0\n",
    "    for row in csv_reader:\n",
    "        if line_count == 0:\n",
    "            print(\"Die Spaltennamen sind:\", list(row.keys())) \n",
    "            line_count += 1\n",
    "        print(\"\\t\", row[\"Name\"], \"arbeitet in der\", row[\"Abteilung\"], \"Abteilung und wurde im\", row[\"Geburtstagsmonat\"], \"geboren.\")\n",
    "        line_count += 1\n",
    "    print(\"Insgesamt\", line_count, \"Zeilen ausgewertet.\")"
   ]
  },
  {
   "cell_type": "markdown",
   "metadata": {},
   "source": [
    "**Problem**: Bei großen Kostenmatrizen ist es umständlich jede Spalte einzeln abzufragen.\n",
    "\n",
    "Verschiedene Varianten zum Einlesen einer Kostenmatrix:\n",
    "\n",
    "**1. Variante:** Verwendung des `csv.DictReader()`. Dabei wird die erste Zeile wie gehabt als Kopfzeile verwendet. Von jeder Zeile werden die Werte als Liste eingelesen. Die Werte werden als `string` eingelesen und müssen deshalb konvertiert werden. Das erste Element ist nicht notwendig (Zeilenbezeichnung) und wird gelöscht. Die Zeile wird als einzelnes Element den Kosten hinzugefügt:"
   ],
   "execution_count": null,
   "outputs": []
  },
  {
   "cell_type": "code",
   "execution_count": null,
   "metadata": {},
   "outputs": [],
   "source": [
    "costs=[]\n",
    "with open(\"Kosten_Matrix.csv\", encoding=\"utf-8\") as csv_file:\n",
    "    csv_reader = csv.DictReader(csv_file)\n",
    "    for row in csv_reader:\n",
    "        newRow = [int(item) for item in row.values()]\n",
    "        del newRow[0]\n",
    "        costs.append(newRow)\n",
    "costs"
   ]
  },
  {
   "cell_type": "markdown",
   "metadata": {},
   "source": [
    "**2. Variante:**  Wenn die Keys eines Dictionaries nicht verwendet werden, muss dieses auch nicht als Dictionary gespeichert werden. Die allgemeinere Form zum Einlesen ist der `csv.reader()`. Hier muss die erste Zeile übersprungen werden. Dazu wird `next()` verwendet und die erste Zeile wird zur Kontrolle ausgegeben. Da hier jede Zeile als Liste eingelesen wird und nicht als Dictionary, kann mit der Indizierung das erste Element gleich von Beginn an ausgeschlossen werden."
   ],
   "execution_count": null,
   "outputs": []
  },
  {
   "cell_type": "code",
   "execution_count": null,
   "metadata": {},
   "outputs": [],
   "source": [
    "costs=[]\n",
    "with open(\"Kosten_Matrix.csv\", encoding=\"utf-8\") as csv_file:\n",
    "    csv_reader = csv.reader(csv_file)\n",
    "    header = next(csv_reader)\n",
    "    print(header)\n",
    "    for row in csv_reader:\n",
    "        rowAsInt = [int(item) for item in row[1:]]\n",
    "        costs.append(rowAsInt)\n",
    "costs"
   ]
  }
 ]
}